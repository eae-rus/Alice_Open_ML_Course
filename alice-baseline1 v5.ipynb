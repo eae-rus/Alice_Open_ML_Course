{
 "cells": [
  {
   "cell_type": "markdown",
   "metadata": {},
   "source": [
    "# Open ML Course: Линейные модели (весна - 2022)\n",
    "[Ссылка на соревнования](https://ods.ai/tracks/linear-models-spring22/competitions/alice)\n",
    "\n",
    "В данном ноутбуке приведены все исследования, которые проводились для выявления полезных фич и оптимизации модели. Итоговый публичный результат: \n",
    "**Aleksey Evdakov - 16 место**\n",
    "\n",
    "За основу взят: Notebook by **Yuri Kashnitsky**, edited by **Ivan Komarov**. In this competition we are going to analyze a sequence of websites visited by a person to predict whether this person is Alice or not. The metric of evaluation is [ROC AUC](https://en.wikipedia.org/wiki/Receiver_operating_characteristic). \n",
    "\n",
    "Так же хочется выразить благодарность **[Sokolov Aleksandr](https://www.kaggle.com/sokolovaleks/code)** за выкладываемые обучающие ноутбуки, которые очень активно использовались.\n",
    "\n",
    "\n",
    "Надеюсь ноутбук будет вам полезен. Не стесняйтесь писать вопросы лично и в комментариях. Также буду рад любым констуруктивным замечаниям и предложениям. А так же не забывайте ставить Апвойт (кнопка со стрелкой вверх справа сверху чуть левее от черной кнопки Edit) \n",
    "\n",
    "П.С. Данный конкурс является первым, в котором я примиаю участвие. Поэтому качество и глубина кода исследований существенно изменяется по ходу ноута. <br/>\n",
    "*По профессии я электроэнергетик и программирование для меня - хобби* :)"
   ]
  },
  {
   "cell_type": "code",
   "execution_count": 1,
   "metadata": {
    "_cell_guid": "fb777394-ad80-455a-b740-3316a97103d5",
    "_uuid": "74dae92e7724c0527bcef0c9e0df43c98555ce44",
    "execution": {
     "iopub.execute_input": "2022-04-07T11:43:46.260868Z",
     "iopub.status.busy": "2022-04-07T11:43:46.260236Z",
     "iopub.status.idle": "2022-04-07T11:43:47.771563Z",
     "shell.execute_reply": "2022-04-07T11:43:47.77053Z",
     "shell.execute_reply.started": "2022-04-07T11:43:46.260815Z"
    }
   },
   "outputs": [],
   "source": [
    "# Import libraries and set desired options\n",
    "%matplotlib inline\n",
    "from matplotlib import pyplot as plt\n",
    "\n",
    "import pickle\n",
    "import numpy as np\n",
    "import pandas as pd\n",
    "\n",
    "from scipy.sparse import csr_matrix, coo_matrix, hstack\n",
    "from sklearn.feature_extraction.text import CountVectorizer\n",
    "from sklearn.metrics import roc_auc_score\n",
    "from sklearn.linear_model import LogisticRegression\n",
    "from sklearn.model_selection import GridSearchCV, TimeSeriesSplit, cross_val_score\n",
    "from datetime import timedelta"
   ]
  },
  {
   "cell_type": "markdown",
   "metadata": {
    "_cell_guid": "7e0b3ca3-790c-4bf3-9bec-356d3de9f274",
    "_uuid": "e6a46d89c9b912f5858baa9930e6280b11750892"
   },
   "source": [
    "###  Загрузка и обработка данных\n",
    "Создаём массивы времени и сайтов"
   ]
  },
  {
   "cell_type": "code",
   "execution_count": 2,
   "metadata": {
    "execution": {
     "iopub.execute_input": "2022-04-07T11:43:54.25832Z",
     "iopub.status.busy": "2022-04-07T11:43:54.257675Z",
     "iopub.status.idle": "2022-04-07T11:43:54.26551Z",
     "shell.execute_reply": "2022-04-07T11:43:54.264596Z",
     "shell.execute_reply.started": "2022-04-07T11:43:54.258256Z"
    }
   },
   "outputs": [],
   "source": [
    "times = ['time'+str(i) for i in range(1,11)]"
   ]
  },
  {
   "cell_type": "code",
   "execution_count": 3,
   "metadata": {},
   "outputs": [],
   "source": [
    "sites = ['site'+str(i) for i in range(1,11)]"
   ]
  },
  {
   "cell_type": "markdown",
   "metadata": {},
   "source": [
    "#### Операцию \"sort_values(by='time1')\" на тестовой выборке стоит использовать с осторожностью, так как в обеих датасетах порядок сессий не соответствует хронологическому, а при проверке на сайте требуется идеальное совпадение порядков.\n",
    "\n",
    "Очень вероятно, что данные перепутаны специально, чтобы усложнить нахождение полезных факторов, которые будут отмечены далее."
   ]
  },
  {
   "cell_type": "code",
   "execution_count": 4,
   "metadata": {
    "_cell_guid": "a46803c1-86dc-4a19-9007-17e0da493a05",
    "_uuid": "eb4a1b566bef6a987555baf485809e94e08c31f6",
    "execution": {
     "iopub.execute_input": "2022-04-07T11:43:47.774521Z",
     "iopub.status.busy": "2022-04-07T11:43:47.77399Z",
     "iopub.status.idle": "2022-04-07T11:43:54.256103Z",
     "shell.execute_reply": "2022-04-07T11:43:54.255122Z",
     "shell.execute_reply.started": "2022-04-07T11:43:47.774464Z"
    }
   },
   "outputs": [
    {
     "data": {
      "text/html": [
       "<div>\n",
       "<style scoped>\n",
       "    .dataframe tbody tr th:only-of-type {\n",
       "        vertical-align: middle;\n",
       "    }\n",
       "\n",
       "    .dataframe tbody tr th {\n",
       "        vertical-align: top;\n",
       "    }\n",
       "\n",
       "    .dataframe thead th {\n",
       "        text-align: right;\n",
       "    }\n",
       "</style>\n",
       "<table border=\"1\" class=\"dataframe\">\n",
       "  <thead>\n",
       "    <tr style=\"text-align: right;\">\n",
       "      <th></th>\n",
       "      <th>site1</th>\n",
       "      <th>time1</th>\n",
       "      <th>site2</th>\n",
       "      <th>time2</th>\n",
       "      <th>site3</th>\n",
       "      <th>time3</th>\n",
       "      <th>site4</th>\n",
       "      <th>time4</th>\n",
       "      <th>site5</th>\n",
       "      <th>time5</th>\n",
       "      <th>...</th>\n",
       "      <th>time6</th>\n",
       "      <th>site7</th>\n",
       "      <th>time7</th>\n",
       "      <th>site8</th>\n",
       "      <th>time8</th>\n",
       "      <th>site9</th>\n",
       "      <th>time9</th>\n",
       "      <th>site10</th>\n",
       "      <th>time10</th>\n",
       "      <th>target</th>\n",
       "    </tr>\n",
       "    <tr>\n",
       "      <th>session_id</th>\n",
       "      <th></th>\n",
       "      <th></th>\n",
       "      <th></th>\n",
       "      <th></th>\n",
       "      <th></th>\n",
       "      <th></th>\n",
       "      <th></th>\n",
       "      <th></th>\n",
       "      <th></th>\n",
       "      <th></th>\n",
       "      <th></th>\n",
       "      <th></th>\n",
       "      <th></th>\n",
       "      <th></th>\n",
       "      <th></th>\n",
       "      <th></th>\n",
       "      <th></th>\n",
       "      <th></th>\n",
       "      <th></th>\n",
       "      <th></th>\n",
       "      <th></th>\n",
       "    </tr>\n",
       "  </thead>\n",
       "  <tbody>\n",
       "    <tr>\n",
       "      <th>27554</th>\n",
       "      <td>41475</td>\n",
       "      <td>2013-11-15 07:39:35</td>\n",
       "      <td>6725.0</td>\n",
       "      <td>2013-11-15 07:39:35</td>\n",
       "      <td>6725.0</td>\n",
       "      <td>2013-11-15 07:39:36</td>\n",
       "      <td>41475.0</td>\n",
       "      <td>2013-11-15 07:39:36</td>\n",
       "      <td>41476.0</td>\n",
       "      <td>2013-11-15 07:39:40</td>\n",
       "      <td>...</td>\n",
       "      <td>2013-11-15 07:39:41</td>\n",
       "      <td>6725.0</td>\n",
       "      <td>2013-11-15 07:42:50</td>\n",
       "      <td>41475.0</td>\n",
       "      <td>2013-11-15 07:42:50</td>\n",
       "      <td>41476.0</td>\n",
       "      <td>2013-11-15 07:42:50</td>\n",
       "      <td>6725.0</td>\n",
       "      <td>2013-11-15 07:44:25</td>\n",
       "      <td>0</td>\n",
       "    </tr>\n",
       "    <tr>\n",
       "      <th>81350</th>\n",
       "      <td>41476</td>\n",
       "      <td>2013-11-15 07:44:25</td>\n",
       "      <td>41475.0</td>\n",
       "      <td>2013-11-15 07:44:25</td>\n",
       "      <td>41476.0</td>\n",
       "      <td>2013-11-15 07:57:45</td>\n",
       "      <td>6725.0</td>\n",
       "      <td>2013-11-15 07:57:45</td>\n",
       "      <td>41475.0</td>\n",
       "      <td>2013-11-15 07:57:45</td>\n",
       "      <td>...</td>\n",
       "      <td>2013-11-15 07:57:46</td>\n",
       "      <td>41476.0</td>\n",
       "      <td>2013-11-15 07:57:47</td>\n",
       "      <td>6725.0</td>\n",
       "      <td>2013-11-15 07:57:49</td>\n",
       "      <td>41475.0</td>\n",
       "      <td>2013-11-15 07:57:49</td>\n",
       "      <td>41476.0</td>\n",
       "      <td>2013-11-15 07:57:49</td>\n",
       "      <td>0</td>\n",
       "    </tr>\n",
       "    <tr>\n",
       "      <th>234665</th>\n",
       "      <td>4802</td>\n",
       "      <td>2013-11-15 07:52:17</td>\n",
       "      <td>23.0</td>\n",
       "      <td>2013-11-15 07:52:18</td>\n",
       "      <td>4803.0</td>\n",
       "      <td>2013-11-15 07:52:19</td>\n",
       "      <td>38.0</td>\n",
       "      <td>2013-11-15 07:52:19</td>\n",
       "      <td>38.0</td>\n",
       "      <td>2013-11-15 07:52:20</td>\n",
       "      <td>...</td>\n",
       "      <td>2013-11-15 07:52:20</td>\n",
       "      <td>4804.0</td>\n",
       "      <td>2013-11-15 07:52:23</td>\n",
       "      <td>21.0</td>\n",
       "      <td>2013-11-15 07:52:26</td>\n",
       "      <td>23.0</td>\n",
       "      <td>2013-11-15 07:52:26</td>\n",
       "      <td>22.0</td>\n",
       "      <td>2013-11-15 07:52:28</td>\n",
       "      <td>0</td>\n",
       "    </tr>\n",
       "    <tr>\n",
       "      <th>97610</th>\n",
       "      <td>23</td>\n",
       "      <td>2013-11-15 07:52:28</td>\n",
       "      <td>23.0</td>\n",
       "      <td>2013-11-15 07:52:29</td>\n",
       "      <td>22.0</td>\n",
       "      <td>2013-11-15 07:52:37</td>\n",
       "      <td>21.0</td>\n",
       "      <td>2013-11-15 07:52:37</td>\n",
       "      <td>63.0</td>\n",
       "      <td>2013-11-15 07:55:10</td>\n",
       "      <td>...</td>\n",
       "      <td>2013-11-15 07:55:10</td>\n",
       "      <td>784.0</td>\n",
       "      <td>2013-11-15 07:55:56</td>\n",
       "      <td>4804.0</td>\n",
       "      <td>2013-11-15 07:57:50</td>\n",
       "      <td>4804.0</td>\n",
       "      <td>2013-11-15 08:01:18</td>\n",
       "      <td>784.0</td>\n",
       "      <td>2013-11-15 08:01:26</td>\n",
       "      <td>0</td>\n",
       "    </tr>\n",
       "    <tr>\n",
       "      <th>161358</th>\n",
       "      <td>41476</td>\n",
       "      <td>2013-11-15 07:57:50</td>\n",
       "      <td>41476.0</td>\n",
       "      <td>2013-11-15 07:57:51</td>\n",
       "      <td>6725.0</td>\n",
       "      <td>2013-11-15 07:59:34</td>\n",
       "      <td>41475.0</td>\n",
       "      <td>2013-11-15 07:59:34</td>\n",
       "      <td>41476.0</td>\n",
       "      <td>2013-11-15 07:59:34</td>\n",
       "      <td>...</td>\n",
       "      <td>NaT</td>\n",
       "      <td>NaN</td>\n",
       "      <td>NaT</td>\n",
       "      <td>NaN</td>\n",
       "      <td>NaT</td>\n",
       "      <td>NaN</td>\n",
       "      <td>NaT</td>\n",
       "      <td>NaN</td>\n",
       "      <td>NaT</td>\n",
       "      <td>0</td>\n",
       "    </tr>\n",
       "  </tbody>\n",
       "</table>\n",
       "<p>5 rows × 21 columns</p>\n",
       "</div>"
      ],
      "text/plain": [
       "            site1               time1    site2               time2    site3  \\\n",
       "session_id                                                                    \n",
       "27554       41475 2013-11-15 07:39:35   6725.0 2013-11-15 07:39:35   6725.0   \n",
       "81350       41476 2013-11-15 07:44:25  41475.0 2013-11-15 07:44:25  41476.0   \n",
       "234665       4802 2013-11-15 07:52:17     23.0 2013-11-15 07:52:18   4803.0   \n",
       "97610          23 2013-11-15 07:52:28     23.0 2013-11-15 07:52:29     22.0   \n",
       "161358      41476 2013-11-15 07:57:50  41476.0 2013-11-15 07:57:51   6725.0   \n",
       "\n",
       "                         time3    site4               time4    site5  \\\n",
       "session_id                                                             \n",
       "27554      2013-11-15 07:39:36  41475.0 2013-11-15 07:39:36  41476.0   \n",
       "81350      2013-11-15 07:57:45   6725.0 2013-11-15 07:57:45  41475.0   \n",
       "234665     2013-11-15 07:52:19     38.0 2013-11-15 07:52:19     38.0   \n",
       "97610      2013-11-15 07:52:37     21.0 2013-11-15 07:52:37     63.0   \n",
       "161358     2013-11-15 07:59:34  41475.0 2013-11-15 07:59:34  41476.0   \n",
       "\n",
       "                         time5  ...               time6    site7  \\\n",
       "session_id                      ...                                \n",
       "27554      2013-11-15 07:39:40  ... 2013-11-15 07:39:41   6725.0   \n",
       "81350      2013-11-15 07:57:45  ... 2013-11-15 07:57:46  41476.0   \n",
       "234665     2013-11-15 07:52:20  ... 2013-11-15 07:52:20   4804.0   \n",
       "97610      2013-11-15 07:55:10  ... 2013-11-15 07:55:10    784.0   \n",
       "161358     2013-11-15 07:59:34  ...                 NaT      NaN   \n",
       "\n",
       "                         time7    site8               time8    site9  \\\n",
       "session_id                                                             \n",
       "27554      2013-11-15 07:42:50  41475.0 2013-11-15 07:42:50  41476.0   \n",
       "81350      2013-11-15 07:57:47   6725.0 2013-11-15 07:57:49  41475.0   \n",
       "234665     2013-11-15 07:52:23     21.0 2013-11-15 07:52:26     23.0   \n",
       "97610      2013-11-15 07:55:56   4804.0 2013-11-15 07:57:50   4804.0   \n",
       "161358                     NaT      NaN                 NaT      NaN   \n",
       "\n",
       "                         time9   site10              time10 target  \n",
       "session_id                                                          \n",
       "27554      2013-11-15 07:42:50   6725.0 2013-11-15 07:44:25      0  \n",
       "81350      2013-11-15 07:57:49  41476.0 2013-11-15 07:57:49      0  \n",
       "234665     2013-11-15 07:52:26     22.0 2013-11-15 07:52:28      0  \n",
       "97610      2013-11-15 08:01:18    784.0 2013-11-15 08:01:26      0  \n",
       "161358                     NaT      NaN                 NaT      0  \n",
       "\n",
       "[5 rows x 21 columns]"
      ]
     },
     "execution_count": 4,
     "metadata": {},
     "output_type": "execute_result"
    }
   ],
   "source": [
    "# Считываем наборы обучающих и тестовых данных\n",
    "train_df = pd.read_csv('train.csv',\n",
    "                       index_col='session_id', parse_dates=times)\n",
    "\n",
    "test_df = pd.read_csv('test.csv',\n",
    "                      index_col='session_id', parse_dates=times)\n",
    "\n",
    "# Сортируем обучающую выборку\n",
    "train_df = train_df.sort_values(by='time1')\n",
    "\n",
    "\n",
    "# Выводим заголовок обучающей выборки\n",
    "train_df.head()"
   ]
  },
  {
   "cell_type": "markdown",
   "metadata": {},
   "source": [
    "Произведём замену NAN на 0 в сайтах для упрощения дальнейше обработки"
   ]
  },
  {
   "cell_type": "code",
   "execution_count": 6,
   "metadata": {
    "_cell_guid": "0f7b0c81-a791-4842-8b05-30f214507f2f",
    "_uuid": "7fb01efc8ae51a6e919382054d0e39ce842cda01",
    "execution": {
     "iopub.execute_input": "2022-04-07T11:43:54.391089Z",
     "iopub.status.busy": "2022-04-07T11:43:54.390736Z",
     "iopub.status.idle": "2022-04-07T11:43:54.561505Z",
     "shell.execute_reply": "2022-04-07T11:43:54.560478Z",
     "shell.execute_reply.started": "2022-04-07T11:43:54.391029Z"
    }
   },
   "outputs": [],
   "source": [
    "# Изменяем тип столбцов site1, ..., site 10 на целое число и заполяем NAN-значения нулями\n",
    "train_df[sites] = train_df[sites].fillna(0).astype('int')\n",
    "test_df[sites] = test_df[sites].fillna(0).astype('int')"
   ]
  },
  {
   "cell_type": "markdown",
   "metadata": {},
   "source": [
    "#### Далее представлены функции по добавлению фич для исследования поведения и предпочтений Алисы\n",
    "\n",
    "Сначала идут стандартные фичи с временем сессии"
   ]
  },
  {
   "cell_type": "code",
   "execution_count": 7,
   "metadata": {},
   "outputs": [],
   "source": [
    "def Add_features_number_of_sites(df):\n",
    "    df['number_of_sites'] = (((df[sites] != 0).astype(np.int8).sum(axis=1)))\n",
    "\n",
    "# было до обнуления переменных Nan\n",
    "# def Add_features_number_of_sites(df):\n",
    "#    df['number_of_sites'] = ((df[sites].notna().sum(axis=1)))"
   ]
  },
  {
   "cell_type": "code",
   "execution_count": 8,
   "metadata": {},
   "outputs": [],
   "source": [
    "def Add_features_session_time(df):\n",
    "    df['session_strt'] = df[times].min(axis=1)\n",
    "    df['session_end'] = df[times].max(axis=1)\n",
    "    df['session_len'] = (df['session_end'] - df['session_strt']).dt.seconds\n",
    "    df['session_len_all'] = df['session_end'] - df['session_strt']\n",
    "    df['start_year'] = df['session_strt'].dt.year\n",
    "    df['start_month'] = df['session_strt'].dt.month\n",
    "    df['start_hour'] = df['session_strt'].dt.hour\n",
    "    df['start_minute'] = df['session_strt'].dt.minute\n",
    "    df['start_seconds'] = df['session_strt'].dt.second\n",
    "    df['start_time'] = df['start_hour'] * 60*60 + df['start_minute'] * 60 + df['start_seconds']"
   ]
  },
  {
   "cell_type": "code",
   "execution_count": 9,
   "metadata": {},
   "outputs": [],
   "source": [
    "def Add_features_weekday(df):\n",
    "    df['weekday'] = df['session_strt'].dt.dayofweek"
   ]
  },
  {
   "cell_type": "code",
   "execution_count": 10,
   "metadata": {},
   "outputs": [
    {
     "data": {
      "text/html": [
       "<div>\n",
       "<style scoped>\n",
       "    .dataframe tbody tr th:only-of-type {\n",
       "        vertical-align: middle;\n",
       "    }\n",
       "\n",
       "    .dataframe tbody tr th {\n",
       "        vertical-align: top;\n",
       "    }\n",
       "\n",
       "    .dataframe thead th {\n",
       "        text-align: right;\n",
       "    }\n",
       "</style>\n",
       "<table border=\"1\" class=\"dataframe\">\n",
       "  <thead>\n",
       "    <tr style=\"text-align: right;\">\n",
       "      <th></th>\n",
       "      <th>site1</th>\n",
       "      <th>time1</th>\n",
       "      <th>site2</th>\n",
       "      <th>time2</th>\n",
       "      <th>site3</th>\n",
       "      <th>time3</th>\n",
       "      <th>site4</th>\n",
       "      <th>time4</th>\n",
       "      <th>site5</th>\n",
       "      <th>time5</th>\n",
       "      <th>...</th>\n",
       "      <th>session_end</th>\n",
       "      <th>session_len</th>\n",
       "      <th>session_len_all</th>\n",
       "      <th>start_year</th>\n",
       "      <th>start_month</th>\n",
       "      <th>start_hour</th>\n",
       "      <th>start_minute</th>\n",
       "      <th>start_seconds</th>\n",
       "      <th>start_time</th>\n",
       "      <th>weekday</th>\n",
       "    </tr>\n",
       "    <tr>\n",
       "      <th>session_id</th>\n",
       "      <th></th>\n",
       "      <th></th>\n",
       "      <th></th>\n",
       "      <th></th>\n",
       "      <th></th>\n",
       "      <th></th>\n",
       "      <th></th>\n",
       "      <th></th>\n",
       "      <th></th>\n",
       "      <th></th>\n",
       "      <th></th>\n",
       "      <th></th>\n",
       "      <th></th>\n",
       "      <th></th>\n",
       "      <th></th>\n",
       "      <th></th>\n",
       "      <th></th>\n",
       "      <th></th>\n",
       "      <th></th>\n",
       "      <th></th>\n",
       "      <th></th>\n",
       "    </tr>\n",
       "  </thead>\n",
       "  <tbody>\n",
       "    <tr>\n",
       "      <th>27554</th>\n",
       "      <td>41475</td>\n",
       "      <td>2013-11-15 07:39:35</td>\n",
       "      <td>6725</td>\n",
       "      <td>2013-11-15 07:39:35</td>\n",
       "      <td>6725</td>\n",
       "      <td>2013-11-15 07:39:36</td>\n",
       "      <td>41475</td>\n",
       "      <td>2013-11-15 07:39:36</td>\n",
       "      <td>41476</td>\n",
       "      <td>2013-11-15 07:39:40</td>\n",
       "      <td>...</td>\n",
       "      <td>2013-11-15 07:44:25</td>\n",
       "      <td>290</td>\n",
       "      <td>0 days 00:04:50</td>\n",
       "      <td>2013</td>\n",
       "      <td>11</td>\n",
       "      <td>7</td>\n",
       "      <td>39</td>\n",
       "      <td>35</td>\n",
       "      <td>27575</td>\n",
       "      <td>4</td>\n",
       "    </tr>\n",
       "    <tr>\n",
       "      <th>81350</th>\n",
       "      <td>41476</td>\n",
       "      <td>2013-11-15 07:44:25</td>\n",
       "      <td>41475</td>\n",
       "      <td>2013-11-15 07:44:25</td>\n",
       "      <td>41476</td>\n",
       "      <td>2013-11-15 07:57:45</td>\n",
       "      <td>6725</td>\n",
       "      <td>2013-11-15 07:57:45</td>\n",
       "      <td>41475</td>\n",
       "      <td>2013-11-15 07:57:45</td>\n",
       "      <td>...</td>\n",
       "      <td>2013-11-15 07:57:49</td>\n",
       "      <td>804</td>\n",
       "      <td>0 days 00:13:24</td>\n",
       "      <td>2013</td>\n",
       "      <td>11</td>\n",
       "      <td>7</td>\n",
       "      <td>44</td>\n",
       "      <td>25</td>\n",
       "      <td>27865</td>\n",
       "      <td>4</td>\n",
       "    </tr>\n",
       "    <tr>\n",
       "      <th>234665</th>\n",
       "      <td>4802</td>\n",
       "      <td>2013-11-15 07:52:17</td>\n",
       "      <td>23</td>\n",
       "      <td>2013-11-15 07:52:18</td>\n",
       "      <td>4803</td>\n",
       "      <td>2013-11-15 07:52:19</td>\n",
       "      <td>38</td>\n",
       "      <td>2013-11-15 07:52:19</td>\n",
       "      <td>38</td>\n",
       "      <td>2013-11-15 07:52:20</td>\n",
       "      <td>...</td>\n",
       "      <td>2013-11-15 07:52:28</td>\n",
       "      <td>11</td>\n",
       "      <td>0 days 00:00:11</td>\n",
       "      <td>2013</td>\n",
       "      <td>11</td>\n",
       "      <td>7</td>\n",
       "      <td>52</td>\n",
       "      <td>17</td>\n",
       "      <td>28337</td>\n",
       "      <td>4</td>\n",
       "    </tr>\n",
       "    <tr>\n",
       "      <th>97610</th>\n",
       "      <td>23</td>\n",
       "      <td>2013-11-15 07:52:28</td>\n",
       "      <td>23</td>\n",
       "      <td>2013-11-15 07:52:29</td>\n",
       "      <td>22</td>\n",
       "      <td>2013-11-15 07:52:37</td>\n",
       "      <td>21</td>\n",
       "      <td>2013-11-15 07:52:37</td>\n",
       "      <td>63</td>\n",
       "      <td>2013-11-15 07:55:10</td>\n",
       "      <td>...</td>\n",
       "      <td>2013-11-15 08:01:26</td>\n",
       "      <td>538</td>\n",
       "      <td>0 days 00:08:58</td>\n",
       "      <td>2013</td>\n",
       "      <td>11</td>\n",
       "      <td>7</td>\n",
       "      <td>52</td>\n",
       "      <td>28</td>\n",
       "      <td>28348</td>\n",
       "      <td>4</td>\n",
       "    </tr>\n",
       "    <tr>\n",
       "      <th>161358</th>\n",
       "      <td>41476</td>\n",
       "      <td>2013-11-15 07:57:50</td>\n",
       "      <td>41476</td>\n",
       "      <td>2013-11-15 07:57:51</td>\n",
       "      <td>6725</td>\n",
       "      <td>2013-11-15 07:59:34</td>\n",
       "      <td>41475</td>\n",
       "      <td>2013-11-15 07:59:34</td>\n",
       "      <td>41476</td>\n",
       "      <td>2013-11-15 07:59:34</td>\n",
       "      <td>...</td>\n",
       "      <td>2013-11-15 07:59:34</td>\n",
       "      <td>104</td>\n",
       "      <td>0 days 00:01:44</td>\n",
       "      <td>2013</td>\n",
       "      <td>11</td>\n",
       "      <td>7</td>\n",
       "      <td>57</td>\n",
       "      <td>50</td>\n",
       "      <td>28670</td>\n",
       "      <td>4</td>\n",
       "    </tr>\n",
       "    <tr>\n",
       "      <th>...</th>\n",
       "      <td>...</td>\n",
       "      <td>...</td>\n",
       "      <td>...</td>\n",
       "      <td>...</td>\n",
       "      <td>...</td>\n",
       "      <td>...</td>\n",
       "      <td>...</td>\n",
       "      <td>...</td>\n",
       "      <td>...</td>\n",
       "      <td>...</td>\n",
       "      <td>...</td>\n",
       "      <td>...</td>\n",
       "      <td>...</td>\n",
       "      <td>...</td>\n",
       "      <td>...</td>\n",
       "      <td>...</td>\n",
       "      <td>...</td>\n",
       "      <td>...</td>\n",
       "      <td>...</td>\n",
       "      <td>...</td>\n",
       "      <td>...</td>\n",
       "    </tr>\n",
       "    <tr>\n",
       "      <th>129606</th>\n",
       "      <td>6003</td>\n",
       "      <td>2014-05-03 18:06:13</td>\n",
       "      <td>0</td>\n",
       "      <td>NaT</td>\n",
       "      <td>0</td>\n",
       "      <td>NaT</td>\n",
       "      <td>0</td>\n",
       "      <td>NaT</td>\n",
       "      <td>0</td>\n",
       "      <td>NaT</td>\n",
       "      <td>...</td>\n",
       "      <td>2014-05-03 18:06:13</td>\n",
       "      <td>0</td>\n",
       "      <td>0 days 00:00:00</td>\n",
       "      <td>2014</td>\n",
       "      <td>5</td>\n",
       "      <td>18</td>\n",
       "      <td>6</td>\n",
       "      <td>13</td>\n",
       "      <td>65173</td>\n",
       "      <td>5</td>\n",
       "    </tr>\n",
       "    <tr>\n",
       "      <th>53628</th>\n",
       "      <td>6003</td>\n",
       "      <td>2014-05-03 18:09:26</td>\n",
       "      <td>0</td>\n",
       "      <td>NaT</td>\n",
       "      <td>0</td>\n",
       "      <td>NaT</td>\n",
       "      <td>0</td>\n",
       "      <td>NaT</td>\n",
       "      <td>0</td>\n",
       "      <td>NaT</td>\n",
       "      <td>...</td>\n",
       "      <td>2014-05-03 18:09:26</td>\n",
       "      <td>0</td>\n",
       "      <td>0 days 00:00:00</td>\n",
       "      <td>2014</td>\n",
       "      <td>5</td>\n",
       "      <td>18</td>\n",
       "      <td>9</td>\n",
       "      <td>26</td>\n",
       "      <td>65366</td>\n",
       "      <td>5</td>\n",
       "    </tr>\n",
       "    <tr>\n",
       "      <th>84754</th>\n",
       "      <td>6003</td>\n",
       "      <td>2014-05-03 18:11:21</td>\n",
       "      <td>0</td>\n",
       "      <td>NaT</td>\n",
       "      <td>0</td>\n",
       "      <td>NaT</td>\n",
       "      <td>0</td>\n",
       "      <td>NaT</td>\n",
       "      <td>0</td>\n",
       "      <td>NaT</td>\n",
       "      <td>...</td>\n",
       "      <td>2014-05-03 18:11:21</td>\n",
       "      <td>0</td>\n",
       "      <td>0 days 00:00:00</td>\n",
       "      <td>2014</td>\n",
       "      <td>5</td>\n",
       "      <td>18</td>\n",
       "      <td>11</td>\n",
       "      <td>21</td>\n",
       "      <td>65481</td>\n",
       "      <td>5</td>\n",
       "    </tr>\n",
       "    <tr>\n",
       "      <th>153398</th>\n",
       "      <td>6003</td>\n",
       "      <td>2014-05-03 18:15:57</td>\n",
       "      <td>6003</td>\n",
       "      <td>2014-05-03 18:15:58</td>\n",
       "      <td>0</td>\n",
       "      <td>NaT</td>\n",
       "      <td>0</td>\n",
       "      <td>NaT</td>\n",
       "      <td>0</td>\n",
       "      <td>NaT</td>\n",
       "      <td>...</td>\n",
       "      <td>2014-05-03 18:15:58</td>\n",
       "      <td>1</td>\n",
       "      <td>0 days 00:00:01</td>\n",
       "      <td>2014</td>\n",
       "      <td>5</td>\n",
       "      <td>18</td>\n",
       "      <td>15</td>\n",
       "      <td>57</td>\n",
       "      <td>65757</td>\n",
       "      <td>5</td>\n",
       "    </tr>\n",
       "    <tr>\n",
       "      <th>11690</th>\n",
       "      <td>305</td>\n",
       "      <td>2014-05-04 17:30:57</td>\n",
       "      <td>306</td>\n",
       "      <td>2014-05-04 17:30:58</td>\n",
       "      <td>306</td>\n",
       "      <td>2014-05-04 17:31:00</td>\n",
       "      <td>979</td>\n",
       "      <td>2014-05-04 17:33:07</td>\n",
       "      <td>0</td>\n",
       "      <td>NaT</td>\n",
       "      <td>...</td>\n",
       "      <td>2014-05-04 17:33:07</td>\n",
       "      <td>130</td>\n",
       "      <td>0 days 00:02:10</td>\n",
       "      <td>2014</td>\n",
       "      <td>5</td>\n",
       "      <td>17</td>\n",
       "      <td>30</td>\n",
       "      <td>57</td>\n",
       "      <td>63057</td>\n",
       "      <td>6</td>\n",
       "    </tr>\n",
       "  </tbody>\n",
       "</table>\n",
       "<p>253561 rows × 33 columns</p>\n",
       "</div>"
      ],
      "text/plain": [
       "            site1               time1  site2               time2  site3  \\\n",
       "session_id                                                                \n",
       "27554       41475 2013-11-15 07:39:35   6725 2013-11-15 07:39:35   6725   \n",
       "81350       41476 2013-11-15 07:44:25  41475 2013-11-15 07:44:25  41476   \n",
       "234665       4802 2013-11-15 07:52:17     23 2013-11-15 07:52:18   4803   \n",
       "97610          23 2013-11-15 07:52:28     23 2013-11-15 07:52:29     22   \n",
       "161358      41476 2013-11-15 07:57:50  41476 2013-11-15 07:57:51   6725   \n",
       "...           ...                 ...    ...                 ...    ...   \n",
       "129606       6003 2014-05-03 18:06:13      0                 NaT      0   \n",
       "53628        6003 2014-05-03 18:09:26      0                 NaT      0   \n",
       "84754        6003 2014-05-03 18:11:21      0                 NaT      0   \n",
       "153398       6003 2014-05-03 18:15:57   6003 2014-05-03 18:15:58      0   \n",
       "11690         305 2014-05-04 17:30:57    306 2014-05-04 17:30:58    306   \n",
       "\n",
       "                         time3  site4               time4  site5  \\\n",
       "session_id                                                         \n",
       "27554      2013-11-15 07:39:36  41475 2013-11-15 07:39:36  41476   \n",
       "81350      2013-11-15 07:57:45   6725 2013-11-15 07:57:45  41475   \n",
       "234665     2013-11-15 07:52:19     38 2013-11-15 07:52:19     38   \n",
       "97610      2013-11-15 07:52:37     21 2013-11-15 07:52:37     63   \n",
       "161358     2013-11-15 07:59:34  41475 2013-11-15 07:59:34  41476   \n",
       "...                        ...    ...                 ...    ...   \n",
       "129606                     NaT      0                 NaT      0   \n",
       "53628                      NaT      0                 NaT      0   \n",
       "84754                      NaT      0                 NaT      0   \n",
       "153398                     NaT      0                 NaT      0   \n",
       "11690      2014-05-04 17:31:00    979 2014-05-04 17:33:07      0   \n",
       "\n",
       "                         time5  ...         session_end session_len  \\\n",
       "session_id                      ...                                   \n",
       "27554      2013-11-15 07:39:40  ... 2013-11-15 07:44:25         290   \n",
       "81350      2013-11-15 07:57:45  ... 2013-11-15 07:57:49         804   \n",
       "234665     2013-11-15 07:52:20  ... 2013-11-15 07:52:28          11   \n",
       "97610      2013-11-15 07:55:10  ... 2013-11-15 08:01:26         538   \n",
       "161358     2013-11-15 07:59:34  ... 2013-11-15 07:59:34         104   \n",
       "...                        ...  ...                 ...         ...   \n",
       "129606                     NaT  ... 2014-05-03 18:06:13           0   \n",
       "53628                      NaT  ... 2014-05-03 18:09:26           0   \n",
       "84754                      NaT  ... 2014-05-03 18:11:21           0   \n",
       "153398                     NaT  ... 2014-05-03 18:15:58           1   \n",
       "11690                      NaT  ... 2014-05-04 17:33:07         130   \n",
       "\n",
       "            session_len_all start_year  start_month start_hour  start_minute  \\\n",
       "session_id                                                                     \n",
       "27554       0 days 00:04:50       2013           11          7            39   \n",
       "81350       0 days 00:13:24       2013           11          7            44   \n",
       "234665      0 days 00:00:11       2013           11          7            52   \n",
       "97610       0 days 00:08:58       2013           11          7            52   \n",
       "161358      0 days 00:01:44       2013           11          7            57   \n",
       "...                     ...        ...          ...        ...           ...   \n",
       "129606      0 days 00:00:00       2014            5         18             6   \n",
       "53628       0 days 00:00:00       2014            5         18             9   \n",
       "84754       0 days 00:00:00       2014            5         18            11   \n",
       "153398      0 days 00:00:01       2014            5         18            15   \n",
       "11690       0 days 00:02:10       2014            5         17            30   \n",
       "\n",
       "           start_seconds  start_time weekday  \n",
       "session_id                                    \n",
       "27554                 35       27575       4  \n",
       "81350                 25       27865       4  \n",
       "234665                17       28337       4  \n",
       "97610                 28       28348       4  \n",
       "161358                50       28670       4  \n",
       "...                  ...         ...     ...  \n",
       "129606                13       65173       5  \n",
       "53628                 26       65366       5  \n",
       "84754                 21       65481       5  \n",
       "153398                57       65757       5  \n",
       "11690                 57       63057       6  \n",
       "\n",
       "[253561 rows x 33 columns]"
      ]
     },
     "execution_count": 10,
     "metadata": {},
     "output_type": "execute_result"
    }
   ],
   "source": [
    "Add_features_number_of_sites(train_df)\n",
    "Add_features_session_time(train_df)\n",
    "Add_features_weekday(train_df)\n",
    "train_df"
   ]
  },
  {
   "cell_type": "markdown",
   "metadata": {},
   "source": [
    "Аналогичное действие для тестовой выборки, ибо она тоже нам полезна"
   ]
  },
  {
   "cell_type": "code",
   "execution_count": 11,
   "metadata": {},
   "outputs": [
    {
     "data": {
      "text/html": [
       "<div>\n",
       "<style scoped>\n",
       "    .dataframe tbody tr th:only-of-type {\n",
       "        vertical-align: middle;\n",
       "    }\n",
       "\n",
       "    .dataframe tbody tr th {\n",
       "        vertical-align: top;\n",
       "    }\n",
       "\n",
       "    .dataframe thead th {\n",
       "        text-align: right;\n",
       "    }\n",
       "</style>\n",
       "<table border=\"1\" class=\"dataframe\">\n",
       "  <thead>\n",
       "    <tr style=\"text-align: right;\">\n",
       "      <th></th>\n",
       "      <th>site1</th>\n",
       "      <th>time1</th>\n",
       "      <th>site2</th>\n",
       "      <th>time2</th>\n",
       "      <th>site3</th>\n",
       "      <th>time3</th>\n",
       "      <th>site4</th>\n",
       "      <th>time4</th>\n",
       "      <th>site5</th>\n",
       "      <th>time5</th>\n",
       "      <th>...</th>\n",
       "      <th>session_end</th>\n",
       "      <th>session_len</th>\n",
       "      <th>session_len_all</th>\n",
       "      <th>start_year</th>\n",
       "      <th>start_month</th>\n",
       "      <th>start_hour</th>\n",
       "      <th>start_minute</th>\n",
       "      <th>start_seconds</th>\n",
       "      <th>start_time</th>\n",
       "      <th>weekday</th>\n",
       "    </tr>\n",
       "    <tr>\n",
       "      <th>session_id</th>\n",
       "      <th></th>\n",
       "      <th></th>\n",
       "      <th></th>\n",
       "      <th></th>\n",
       "      <th></th>\n",
       "      <th></th>\n",
       "      <th></th>\n",
       "      <th></th>\n",
       "      <th></th>\n",
       "      <th></th>\n",
       "      <th></th>\n",
       "      <th></th>\n",
       "      <th></th>\n",
       "      <th></th>\n",
       "      <th></th>\n",
       "      <th></th>\n",
       "      <th></th>\n",
       "      <th></th>\n",
       "      <th></th>\n",
       "      <th></th>\n",
       "      <th></th>\n",
       "    </tr>\n",
       "  </thead>\n",
       "  <tbody>\n",
       "    <tr>\n",
       "      <th>1</th>\n",
       "      <td>29</td>\n",
       "      <td>2014-04-10 11:19:53</td>\n",
       "      <td>35</td>\n",
       "      <td>2014-04-10 11:19:53</td>\n",
       "      <td>22</td>\n",
       "      <td>2014-04-10 11:19:54</td>\n",
       "      <td>321</td>\n",
       "      <td>2014-04-10 11:19:54</td>\n",
       "      <td>23</td>\n",
       "      <td>2014-04-10 11:19:54</td>\n",
       "      <td>...</td>\n",
       "      <td>2014-04-10 11:20:00</td>\n",
       "      <td>7</td>\n",
       "      <td>0 days 00:00:07</td>\n",
       "      <td>2014</td>\n",
       "      <td>4</td>\n",
       "      <td>11</td>\n",
       "      <td>19</td>\n",
       "      <td>53</td>\n",
       "      <td>40793</td>\n",
       "      <td>3</td>\n",
       "    </tr>\n",
       "    <tr>\n",
       "      <th>2</th>\n",
       "      <td>782</td>\n",
       "      <td>2014-03-07 11:00:28</td>\n",
       "      <td>782</td>\n",
       "      <td>2014-03-07 11:00:53</td>\n",
       "      <td>782</td>\n",
       "      <td>2014-03-07 11:00:58</td>\n",
       "      <td>782</td>\n",
       "      <td>2014-03-07 11:01:06</td>\n",
       "      <td>782</td>\n",
       "      <td>2014-03-07 11:01:09</td>\n",
       "      <td>...</td>\n",
       "      <td>2014-03-07 11:01:53</td>\n",
       "      <td>85</td>\n",
       "      <td>0 days 00:01:25</td>\n",
       "      <td>2014</td>\n",
       "      <td>3</td>\n",
       "      <td>11</td>\n",
       "      <td>0</td>\n",
       "      <td>28</td>\n",
       "      <td>39628</td>\n",
       "      <td>4</td>\n",
       "    </tr>\n",
       "    <tr>\n",
       "      <th>3</th>\n",
       "      <td>55</td>\n",
       "      <td>2014-05-12 15:55:12</td>\n",
       "      <td>55</td>\n",
       "      <td>2014-05-12 15:55:13</td>\n",
       "      <td>55</td>\n",
       "      <td>2014-05-12 15:55:14</td>\n",
       "      <td>55</td>\n",
       "      <td>2014-05-12 15:56:15</td>\n",
       "      <td>55</td>\n",
       "      <td>2014-05-12 15:56:16</td>\n",
       "      <td>...</td>\n",
       "      <td>2014-05-12 15:56:36</td>\n",
       "      <td>84</td>\n",
       "      <td>0 days 00:01:24</td>\n",
       "      <td>2014</td>\n",
       "      <td>5</td>\n",
       "      <td>15</td>\n",
       "      <td>55</td>\n",
       "      <td>12</td>\n",
       "      <td>57312</td>\n",
       "      <td>0</td>\n",
       "    </tr>\n",
       "    <tr>\n",
       "      <th>4</th>\n",
       "      <td>1023</td>\n",
       "      <td>2014-04-11 10:03:19</td>\n",
       "      <td>1022</td>\n",
       "      <td>2014-04-11 10:03:19</td>\n",
       "      <td>50</td>\n",
       "      <td>2014-04-11 10:03:20</td>\n",
       "      <td>222</td>\n",
       "      <td>2014-04-11 10:03:21</td>\n",
       "      <td>202</td>\n",
       "      <td>2014-04-11 10:03:21</td>\n",
       "      <td>...</td>\n",
       "      <td>2014-04-11 10:03:23</td>\n",
       "      <td>4</td>\n",
       "      <td>0 days 00:00:04</td>\n",
       "      <td>2014</td>\n",
       "      <td>4</td>\n",
       "      <td>10</td>\n",
       "      <td>3</td>\n",
       "      <td>19</td>\n",
       "      <td>36199</td>\n",
       "      <td>4</td>\n",
       "    </tr>\n",
       "    <tr>\n",
       "      <th>5</th>\n",
       "      <td>301</td>\n",
       "      <td>2014-05-16 15:05:31</td>\n",
       "      <td>301</td>\n",
       "      <td>2014-05-16 15:05:32</td>\n",
       "      <td>301</td>\n",
       "      <td>2014-05-16 15:05:33</td>\n",
       "      <td>66</td>\n",
       "      <td>2014-05-16 15:05:39</td>\n",
       "      <td>67</td>\n",
       "      <td>2014-05-16 15:05:40</td>\n",
       "      <td>...</td>\n",
       "      <td>2014-05-16 15:05:44</td>\n",
       "      <td>13</td>\n",
       "      <td>0 days 00:00:13</td>\n",
       "      <td>2014</td>\n",
       "      <td>5</td>\n",
       "      <td>15</td>\n",
       "      <td>5</td>\n",
       "      <td>31</td>\n",
       "      <td>54331</td>\n",
       "      <td>4</td>\n",
       "    </tr>\n",
       "    <tr>\n",
       "      <th>...</th>\n",
       "      <td>...</td>\n",
       "      <td>...</td>\n",
       "      <td>...</td>\n",
       "      <td>...</td>\n",
       "      <td>...</td>\n",
       "      <td>...</td>\n",
       "      <td>...</td>\n",
       "      <td>...</td>\n",
       "      <td>...</td>\n",
       "      <td>...</td>\n",
       "      <td>...</td>\n",
       "      <td>...</td>\n",
       "      <td>...</td>\n",
       "      <td>...</td>\n",
       "      <td>...</td>\n",
       "      <td>...</td>\n",
       "      <td>...</td>\n",
       "      <td>...</td>\n",
       "      <td>...</td>\n",
       "      <td>...</td>\n",
       "      <td>...</td>\n",
       "    </tr>\n",
       "    <tr>\n",
       "      <th>82793</th>\n",
       "      <td>812</td>\n",
       "      <td>2014-02-10 18:20:09</td>\n",
       "      <td>1039</td>\n",
       "      <td>2014-02-10 18:20:09</td>\n",
       "      <td>676</td>\n",
       "      <td>2014-02-10 18:20:09</td>\n",
       "      <td>0</td>\n",
       "      <td>NaT</td>\n",
       "      <td>0</td>\n",
       "      <td>NaT</td>\n",
       "      <td>...</td>\n",
       "      <td>2014-02-10 18:20:09</td>\n",
       "      <td>0</td>\n",
       "      <td>0 days 00:00:00</td>\n",
       "      <td>2014</td>\n",
       "      <td>2</td>\n",
       "      <td>18</td>\n",
       "      <td>20</td>\n",
       "      <td>9</td>\n",
       "      <td>66009</td>\n",
       "      <td>0</td>\n",
       "    </tr>\n",
       "    <tr>\n",
       "      <th>82794</th>\n",
       "      <td>300</td>\n",
       "      <td>2014-05-26 14:16:40</td>\n",
       "      <td>302</td>\n",
       "      <td>2014-05-26 14:16:41</td>\n",
       "      <td>302</td>\n",
       "      <td>2014-05-26 14:16:44</td>\n",
       "      <td>300</td>\n",
       "      <td>2014-05-26 14:16:44</td>\n",
       "      <td>300</td>\n",
       "      <td>2014-05-26 14:17:19</td>\n",
       "      <td>...</td>\n",
       "      <td>2014-05-26 14:17:19</td>\n",
       "      <td>39</td>\n",
       "      <td>0 days 00:00:39</td>\n",
       "      <td>2014</td>\n",
       "      <td>5</td>\n",
       "      <td>14</td>\n",
       "      <td>16</td>\n",
       "      <td>40</td>\n",
       "      <td>51400</td>\n",
       "      <td>0</td>\n",
       "    </tr>\n",
       "    <tr>\n",
       "      <th>82795</th>\n",
       "      <td>29</td>\n",
       "      <td>2014-02-05 11:21:56</td>\n",
       "      <td>33</td>\n",
       "      <td>2014-02-05 11:21:56</td>\n",
       "      <td>35</td>\n",
       "      <td>2014-02-05 11:21:56</td>\n",
       "      <td>22</td>\n",
       "      <td>2014-02-05 11:22:03</td>\n",
       "      <td>37</td>\n",
       "      <td>2014-02-05 11:22:03</td>\n",
       "      <td>...</td>\n",
       "      <td>2014-02-05 11:22:04</td>\n",
       "      <td>8</td>\n",
       "      <td>0 days 00:00:08</td>\n",
       "      <td>2014</td>\n",
       "      <td>2</td>\n",
       "      <td>11</td>\n",
       "      <td>21</td>\n",
       "      <td>56</td>\n",
       "      <td>40916</td>\n",
       "      <td>2</td>\n",
       "    </tr>\n",
       "    <tr>\n",
       "      <th>82796</th>\n",
       "      <td>5828</td>\n",
       "      <td>2014-03-05 10:05:25</td>\n",
       "      <td>23</td>\n",
       "      <td>2014-03-05 10:05:27</td>\n",
       "      <td>21</td>\n",
       "      <td>2014-03-05 10:05:27</td>\n",
       "      <td>804</td>\n",
       "      <td>2014-03-05 10:05:27</td>\n",
       "      <td>21</td>\n",
       "      <td>2014-03-05 10:05:36</td>\n",
       "      <td>...</td>\n",
       "      <td>2014-03-05 10:05:38</td>\n",
       "      <td>13</td>\n",
       "      <td>0 days 00:00:13</td>\n",
       "      <td>2014</td>\n",
       "      <td>3</td>\n",
       "      <td>10</td>\n",
       "      <td>5</td>\n",
       "      <td>25</td>\n",
       "      <td>36325</td>\n",
       "      <td>2</td>\n",
       "    </tr>\n",
       "    <tr>\n",
       "      <th>82797</th>\n",
       "      <td>21</td>\n",
       "      <td>2014-02-11 10:46:57</td>\n",
       "      <td>1098</td>\n",
       "      <td>2014-02-11 10:46:57</td>\n",
       "      <td>1098</td>\n",
       "      <td>2014-02-11 10:46:58</td>\n",
       "      <td>1098</td>\n",
       "      <td>2014-02-11 10:47:12</td>\n",
       "      <td>1098</td>\n",
       "      <td>2014-02-11 10:47:13</td>\n",
       "      <td>...</td>\n",
       "      <td>2014-02-11 10:47:47</td>\n",
       "      <td>50</td>\n",
       "      <td>0 days 00:00:50</td>\n",
       "      <td>2014</td>\n",
       "      <td>2</td>\n",
       "      <td>10</td>\n",
       "      <td>46</td>\n",
       "      <td>57</td>\n",
       "      <td>38817</td>\n",
       "      <td>1</td>\n",
       "    </tr>\n",
       "  </tbody>\n",
       "</table>\n",
       "<p>82797 rows × 32 columns</p>\n",
       "</div>"
      ],
      "text/plain": [
       "            site1               time1  site2               time2  site3  \\\n",
       "session_id                                                                \n",
       "1              29 2014-04-10 11:19:53     35 2014-04-10 11:19:53     22   \n",
       "2             782 2014-03-07 11:00:28    782 2014-03-07 11:00:53    782   \n",
       "3              55 2014-05-12 15:55:12     55 2014-05-12 15:55:13     55   \n",
       "4            1023 2014-04-11 10:03:19   1022 2014-04-11 10:03:19     50   \n",
       "5             301 2014-05-16 15:05:31    301 2014-05-16 15:05:32    301   \n",
       "...           ...                 ...    ...                 ...    ...   \n",
       "82793         812 2014-02-10 18:20:09   1039 2014-02-10 18:20:09    676   \n",
       "82794         300 2014-05-26 14:16:40    302 2014-05-26 14:16:41    302   \n",
       "82795          29 2014-02-05 11:21:56     33 2014-02-05 11:21:56     35   \n",
       "82796        5828 2014-03-05 10:05:25     23 2014-03-05 10:05:27     21   \n",
       "82797          21 2014-02-11 10:46:57   1098 2014-02-11 10:46:57   1098   \n",
       "\n",
       "                         time3  site4               time4  site5  \\\n",
       "session_id                                                         \n",
       "1          2014-04-10 11:19:54    321 2014-04-10 11:19:54     23   \n",
       "2          2014-03-07 11:00:58    782 2014-03-07 11:01:06    782   \n",
       "3          2014-05-12 15:55:14     55 2014-05-12 15:56:15     55   \n",
       "4          2014-04-11 10:03:20    222 2014-04-11 10:03:21    202   \n",
       "5          2014-05-16 15:05:33     66 2014-05-16 15:05:39     67   \n",
       "...                        ...    ...                 ...    ...   \n",
       "82793      2014-02-10 18:20:09      0                 NaT      0   \n",
       "82794      2014-05-26 14:16:44    300 2014-05-26 14:16:44    300   \n",
       "82795      2014-02-05 11:21:56     22 2014-02-05 11:22:03     37   \n",
       "82796      2014-03-05 10:05:27    804 2014-03-05 10:05:27     21   \n",
       "82797      2014-02-11 10:46:58   1098 2014-02-11 10:47:12   1098   \n",
       "\n",
       "                         time5  ...         session_end session_len  \\\n",
       "session_id                      ...                                   \n",
       "1          2014-04-10 11:19:54  ... 2014-04-10 11:20:00           7   \n",
       "2          2014-03-07 11:01:09  ... 2014-03-07 11:01:53          85   \n",
       "3          2014-05-12 15:56:16  ... 2014-05-12 15:56:36          84   \n",
       "4          2014-04-11 10:03:21  ... 2014-04-11 10:03:23           4   \n",
       "5          2014-05-16 15:05:40  ... 2014-05-16 15:05:44          13   \n",
       "...                        ...  ...                 ...         ...   \n",
       "82793                      NaT  ... 2014-02-10 18:20:09           0   \n",
       "82794      2014-05-26 14:17:19  ... 2014-05-26 14:17:19          39   \n",
       "82795      2014-02-05 11:22:03  ... 2014-02-05 11:22:04           8   \n",
       "82796      2014-03-05 10:05:36  ... 2014-03-05 10:05:38          13   \n",
       "82797      2014-02-11 10:47:13  ... 2014-02-11 10:47:47          50   \n",
       "\n",
       "            session_len_all start_year  start_month start_hour  start_minute  \\\n",
       "session_id                                                                     \n",
       "1           0 days 00:00:07       2014            4         11            19   \n",
       "2           0 days 00:01:25       2014            3         11             0   \n",
       "3           0 days 00:01:24       2014            5         15            55   \n",
       "4           0 days 00:00:04       2014            4         10             3   \n",
       "5           0 days 00:00:13       2014            5         15             5   \n",
       "...                     ...        ...          ...        ...           ...   \n",
       "82793       0 days 00:00:00       2014            2         18            20   \n",
       "82794       0 days 00:00:39       2014            5         14            16   \n",
       "82795       0 days 00:00:08       2014            2         11            21   \n",
       "82796       0 days 00:00:13       2014            3         10             5   \n",
       "82797       0 days 00:00:50       2014            2         10            46   \n",
       "\n",
       "           start_seconds  start_time weekday  \n",
       "session_id                                    \n",
       "1                     53       40793       3  \n",
       "2                     28       39628       4  \n",
       "3                     12       57312       0  \n",
       "4                     19       36199       4  \n",
       "5                     31       54331       4  \n",
       "...                  ...         ...     ...  \n",
       "82793                  9       66009       0  \n",
       "82794                 40       51400       0  \n",
       "82795                 56       40916       2  \n",
       "82796                 25       36325       2  \n",
       "82797                 57       38817       1  \n",
       "\n",
       "[82797 rows x 32 columns]"
      ]
     },
     "execution_count": 11,
     "metadata": {},
     "output_type": "execute_result"
    }
   ],
   "source": [
    "Add_features_number_of_sites(test_df)\n",
    "Add_features_session_time(test_df)\n",
    "Add_features_weekday(test_df)\n",
    "test_df"
   ]
  },
  {
   "cell_type": "code",
   "execution_count": 13,
   "metadata": {},
   "outputs": [],
   "source": [
    "Add_features_weekday??"
   ]
  },
  {
   "cell_type": "code",
   "execution_count": null,
   "metadata": {},
   "outputs": [],
   "source": []
  },
  {
   "cell_type": "markdown",
   "metadata": {},
   "source": [
    "## Начинаем исследования временнных зависимостей"
   ]
  },
  {
   "cell_type": "markdown",
   "metadata": {},
   "source": [
    "Сперва изучалась посещаемость Алисы по часам. Как можем видеть, она имеет чётко выраженные предпочтения по дням и времени, здесь выделим 4 группы:\n",
    "1) 9-9,45 часов (данная группа малая и невалидна)\n",
    "\n",
    "2) 11,7-14,3 часов (данное время второе по полуряности)\n",
    "\n",
    "3) 15-15,3 часа (В теории, это может быть осколок от четвёртой группы, или обусловлен каким-то особыми днями, так что опираться на неё нельзя)\n",
    "\n",
    "4) 15,7-18,5 часов (данная группа наиболее популярная, причём видно, что данный участок может быть разбит на 2 подгруппы, вероятно, это обсуловленно разными предпочтениями в разные дни / месяцы)\n",
    "\n",
    "*стоит отметить, что 2 и 4 подгруппы имеют нормальное распределение с явно выраженными пиками.\n",
    "\n",
    "Предпринимались попытки разделения времени на четыре группы + одна группа на всё остальное время как по булевому принципу (0/1), так и линейной зависимостью (треугольник и квадрат) для отражения близости к искомому времени, но данная гипотеза дала только ухудшение, хотя очевидно, может быть использована неким образом, так как зависимости ярко выражены.\n",
    "\n",
    "Если же оценивать обычного пользователя, то он имет пик примерно в 9, 11 и 15 часов, при этом, время распределено более равномерно на всём участке от 6-7 часов до 24 с затуханием к ночи."
   ]
  },
  {
   "cell_type": "code",
   "execution_count": 26,
   "metadata": {
    "scrolled": true
   },
   "outputs": [
    {
     "data": {
      "image/png": "[encoded data removed]",
      "text/plain": [
       "<Figure size 1080x360 with 2 Axes>"
      ]
     },
     "metadata": {
      "needs_background": "light"
     },
     "output_type": "display_data"
    }
   ],
   "source": [
    "# посещаемость общая\n",
    "\n",
    "fig, ax = plt.subplots(1, 2, figsize=(15,5))\n",
    "ax[0].hist(train_df[train_df.target == 1].start_time / 3600, bins=50, color='teal', label='Alice', rwidth=0.8)\n",
    "ax[1].hist(train_df[train_df.target == 0].start_time / 3600, bins=50, color='maroon', label='Users', rwidth=0.8)\n",
    "ax[0].title.set_text('Alice start_time (log)')\n",
    "ax[1].title.set_text('Users start_time (log)')\n",
    "plt.tight_layout()\n",
    "plt.show()"
   ]
  },
  {
   "cell_type": "markdown",
   "metadata": {},
   "source": [
    "Очевидной была гипотеза, что Алиса по разному распределена посещаемость интернета в будни и выходные дни, для этого были провдены следующие 2 исследования из которых видно, что в выходные дни, Алиса СОВСЕМ не посещает интернет (данный факт удивил)."
   ]
  },
  {
   "cell_type": "code",
   "execution_count": 27,
   "metadata": {},
   "outputs": [
    {
     "data": {
      "image/png": "[encoded data removed]",
      "text/plain": [
       "<Figure size 1080x360 with 2 Axes>"
      ]
     },
     "metadata": {
      "needs_background": "light"
     },
     "output_type": "display_data"
    }
   ],
   "source": [
    "# посещаемость в выходные дни\n",
    "train_df_temp = train_df[(train_df.weekday >= 5) & (train_df.weekday <= 6)]\n",
    "\n",
    "train_df_temp_Alice = train_df_temp[train_df_temp.target == 1]\n",
    "train_df_temp_Users = train_df_temp[train_df_temp.target == 0]\n",
    "\n",
    "\n",
    "fig, ax = plt.subplots(1, 2, figsize=(15,5))\n",
    "ax[0].hist(train_df_temp_Alice.start_time / 3600, bins=50, color='teal', label='Alice', rwidth=0.8)\n",
    "ax[1].hist(train_df_temp_Users.start_time / 3600, bins=50, color='maroon', label='Users', rwidth=0.8)\n",
    "ax[0].title.set_text('Alice start_time (log)')\n",
    "ax[1].title.set_text('Users start_time (log)')\n",
    "plt.tight_layout()\n",
    "plt.show()"
   ]
  },
  {
   "cell_type": "code",
   "execution_count": 28,
   "metadata": {},
   "outputs": [
    {
     "data": {
      "image/png": "[encoded data removed]",
      "text/plain": [
       "<Figure size 1080x360 with 2 Axes>"
      ]
     },
     "metadata": {
      "needs_background": "light"
     },
     "output_type": "display_data"
    }
   ],
   "source": [
    "# посещаемость в будни дни\n",
    "train_df_temp = train_df[(train_df.weekday >= 0) & (train_df.weekday <= 4)]\n",
    "\n",
    "train_df_temp_Alice = train_df_temp[train_df_temp.target == 1]\n",
    "train_df_temp_Users = train_df_temp[train_df_temp.target == 0]\n",
    "\n",
    "\n",
    "fig, ax = plt.subplots(1, 2, figsize=(15,5))\n",
    "ax[0].hist(train_df_temp_Alice.start_time / 3600, bins=96, color='teal', label='Alice', rwidth=0.8)\n",
    "ax[1].hist(train_df_temp_Users.start_time / 3600, bins=48, color='maroon', label='Users', rwidth=0.8)\n",
    "ax[0].title.set_text('Alice start_time (log)')\n",
    "ax[1].title.set_text('Users start_time (log)')\n",
    "plt.tight_layout()\n",
    "plt.show()"
   ]
  },
  {
   "cell_type": "markdown",
   "metadata": {},
   "source": [
    "Для построения описанных выше графиков любого времени посещения интернет были выделени все 4 группы и построены более близко"
   ]
  },
  {
   "cell_type": "code",
   "execution_count": 29,
   "metadata": {
    "scrolled": true
   },
   "outputs": [
    {
     "data": {
      "image/png": "[encoded data removed]",
      "text/plain": [
       "<Figure size 1080x1080 with 4 Axes>"
      ]
     },
     "metadata": {
      "needs_background": "light"
     },
     "output_type": "display_data"
    }
   ],
   "source": [
    "# посещаемость Алисы по временным даиапазонам (только будни дни)\n",
    "train_df_temp = train_df[(train_df.weekday >= 0) & (train_df.weekday <= 4)]\n",
    "# разбиение по временным участкам\n",
    "train_df_temp_1 = train_df_temp[(train_df_temp.start_time/3600 >= 9) & (train_df_temp.start_time/3600 <= 10)]\n",
    "train_df_temp_2 = train_df_temp[(train_df_temp.start_time/3600 >= 11) & (train_df_temp.start_time/3600 <= 14.5)]\n",
    "train_df_temp_3 = train_df_temp[(train_df_temp.start_time/3600 >= 15) & (train_df_temp.start_time/3600 <= 15.5)]\n",
    "train_df_temp_4 = train_df_temp[(train_df_temp.start_time/3600 >= 15.5) & (train_df_temp.start_time/3600 <= 19)]\n",
    "\n",
    "train_df_temp_Alice_1 = train_df_temp_1[train_df_temp_1.target == 1]\n",
    "train_df_temp_Alice_2 = train_df_temp_2[train_df_temp_2.target == 1]\n",
    "train_df_temp_Alice_3 = train_df_temp_3[train_df_temp_3.target == 1]\n",
    "train_df_temp_Alice_4 = train_df_temp_4[train_df_temp_4.target == 1]\n",
    "\n",
    "fig, ax = plt.subplots(2, 2, figsize=(15,15))\n",
    "ax[0][0].hist(train_df_temp_Alice_1.start_time / 3600, bins=50, color='teal', label='Alice', rwidth=0.8)\n",
    "ax[0][1].hist(train_df_temp_Alice_2.start_time / 3600, bins=50, color='teal', label='Alice', rwidth=0.8)\n",
    "ax[1][0].hist(train_df_temp_Alice_3.start_time / 3600, bins=50, color='teal', label='Alice', rwidth=0.8)\n",
    "ax[1][1].hist(train_df_temp_Alice_4.start_time / 3600, bins=50, color='teal', label='Alice', rwidth=0.8)\n",
    "ax[0][0].title.set_text('Alice 1 start_time (log)')\n",
    "ax[0][1].title.set_text('Alice 2 start_time (log)')\n",
    "ax[1][0].title.set_text('Alice 3 start_time (log)')\n",
    "ax[1][1].title.set_text('Alice 4 start_time (log)')\n",
    "plt.tight_layout()\n",
    "plt.show()"
   ]
  },
  {
   "cell_type": "markdown",
   "metadata": {},
   "source": [
    "При этом, предпочтения по дням недели у Алисы так же разнятся."
   ]
  },
  {
   "cell_type": "code",
   "execution_count": 30,
   "metadata": {},
   "outputs": [
    {
     "data": {
      "image/png": "[encoded data removed]",
      "text/plain": [
       "<Figure size 1080x720 with 6 Axes>"
      ]
     },
     "metadata": {
      "needs_background": "light"
     },
     "output_type": "display_data"
    }
   ],
   "source": [
    "# посещаемость по часам для Алисы по дням недели\n",
    "\n",
    "Alica = train_df[train_df.target==1]\n",
    "\n",
    "fig, ax = plt.subplots(3, 2, figsize=(15,10))\n",
    "ax[0][0].hist(Alica[Alica.weekday==0].start_time / 3600, bins=20, color='teal', label='Mon', rwidth=0.9)\n",
    "ax[0][1].hist(Alica[Alica.weekday==1].start_time / 3600, bins=20, color='maroon', label='Tue', rwidth=0.9)\n",
    "ax[1][0].hist(Alica[Alica.weekday==2].start_time / 3600, bins=20, color='pink', label='Wed', rwidth=0.9)\n",
    "ax[1][1].hist(Alica[Alica.weekday==3].start_time / 3600, bins=20, color='olive', label='Thu', rwidth=0.9)\n",
    "ax[2][0].hist(Alica[Alica.weekday==4].start_time / 3600, bins=20, color='darkviolet', label='Fri', rwidth=0.9)\n",
    "ax[2][1].hist(Alica[Alica.weekday==5].start_time / 3600, bins=20, color='blue', label='Sat', rwidth=0.9)\n",
    "\n",
    "ax[0][0].set_xticks(ticks=[i - 0.5 for i in np.linspace(10,19,10)])\n",
    "ax[0][1].set_xticks(ticks=[i - 0.5 for i in np.linspace(10,19,10)])\n",
    "ax[1][0].set_xticks(ticks=[i - 0.5 for i in np.linspace(10,19,10)])\n",
    "ax[1][1].set_xticks(ticks=[i - 0.5 for i in np.linspace(10,19,10)])\n",
    "ax[2][0].set_xticks(ticks=[i - 0.5 for i in np.linspace(10,19,10)])\n",
    "ax[2][1].set_xticks(ticks=[i - 0.5 for i in np.linspace(10,19,10)])\n",
    "\n",
    "ax[0][0].title.set_text('Alice Mon hour schedule')\n",
    "ax[0][1].title.set_text('Alice Tue hour schedule')\n",
    "ax[1][0].title.set_text('Alice Wed hour schedule')\n",
    "ax[1][1].title.set_text('Alice Thu hour schedule')\n",
    "ax[2][0].title.set_text('Alice Fri hour schedule')\n",
    "ax[2][1].title.set_text('Alice Sat hour schedule')\n",
    "\n",
    "plt.tight_layout()\n",
    "plt.show()"
   ]
  },
  {
   "cell_type": "markdown",
   "metadata": {},
   "source": [
    "Посещаемость по дням недели, так же различается с обычными пользователями, здесь можем выделить 5 дней (будни)"
   ]
  },
  {
   "cell_type": "code",
   "execution_count": 31,
   "metadata": {},
   "outputs": [
    {
     "data": {
      "image/png": "[encoded data removed]",
      "text/plain": [
       "<Figure size 1080x360 with 2 Axes>"
      ]
     },
     "metadata": {
      "needs_background": "light"
     },
     "output_type": "display_data"
    }
   ],
   "source": [
    "# посещаемость по дням недели\n",
    "fig, ax = plt.subplots(1, 2, figsize=(15,5))\n",
    "ax[0].hist(train_df[train_df.target==1].weekday, bins=7, color='teal', label='Alice', rwidth=0.9)\n",
    "ax[1].hist(train_df[train_df.target==0].weekday, bins=7, color='maroon', label='Users', rwidth=0.9)\n",
    "ax[0].set_xticks(ticks=[i - 0.5 for i in np.linspace(1,6,7)])\n",
    "ax[1].set_xticks(ticks=[i - 0.5 for i in np.linspace(1,6,7)])\n",
    "ax[0].set_xticklabels(labels=['Mon','Tue','Wed','Thu','Fri','Sat','Sun'])\n",
    "ax[1].set_xticklabels(labels=['Mon','Tue','Wed','Thu','Fri','Sat','Sun'])\n",
    "ax[0].title.set_text('Alice weekday schedule')\n",
    "ax[1].title.set_text('Users weekday schedule')\n",
    "plt.tight_layout()\n",
    "plt.show()"
   ]
  },
  {
   "cell_type": "markdown",
   "metadata": {},
   "source": [
    "Следующим параметр, который исследовался - был месяц, и на первый взгляд, разницы почти никакой нет, но это будет исследовано далее более подробно"
   ]
  },
  {
   "cell_type": "code",
   "execution_count": 32,
   "metadata": {},
   "outputs": [
    {
     "data": {
      "image/png": "[encoded data removed]",
      "text/plain": [
       "<Figure size 1080x360 with 2 Axes>"
      ]
     },
     "metadata": {
      "needs_background": "light"
     },
     "output_type": "display_data"
    }
   ],
   "source": [
    "# посещаемость по месяцам\n",
    "\n",
    "fig, ax = plt.subplots(1, 2, figsize=(15,5))\n",
    "ax[0].hist(train_df[train_df.target == 1].start_month, bins=12, color='teal', label='Alice', rwidth=0.8)\n",
    "ax[1].hist(train_df[train_df.target == 0].start_month, bins=12, color='maroon', label='Users', rwidth=0.8)\n",
    "ax[0].title.set_text('Alice start_month (log)')\n",
    "ax[1].title.set_text('Users start_month (log)')\n",
    "plt.tight_layout()\n",
    "plt.show()"
   ]
  },
  {
   "cell_type": "markdown",
   "metadata": {},
   "source": [
    "###  Иследование поведения на временом интервале и \"годов\""
   ]
  },
  {
   "cell_type": "markdown",
   "metadata": {},
   "source": [
    "Дальше была мысль построить всё это в хоронологическом интервали, и здесь уже начали вырисовываться интересные моменты\n",
    "\n",
    "Во первых, можем видеть явное различие между популярными днями в 2013 и 2014 году, если с понедельником всё стабильно, то вот все остальные дни уже отличаются, особенно пятница\n",
    "\n",
    "*Безусловно, как мы выясним дальше, выборка имеет ограниченный промежуток времени и не может иметь точное описание года + имеет переход через НГ, но всё равно, данные очень интересны"
   ]
  },
  {
   "cell_type": "code",
   "execution_count": 33,
   "metadata": {},
   "outputs": [
    {
     "data": {
      "image/png": "[encoded data removed]",
      "text/plain": [
       "<Figure size 1080x360 with 2 Axes>"
      ]
     },
     "metadata": {
      "needs_background": "light"
     },
     "output_type": "display_data"
    }
   ],
   "source": [
    "# посещаемость по годам на обучающей выборке для Алисы\n",
    "fig, ax = plt.subplots(1, 2, figsize=(15,5))\n",
    "Alica = train_df[train_df.target==1]\n",
    "Alica_2013 = Alica[Alica.start_year == 2013]\n",
    "Alica_2014 = Alica[Alica.start_year == 2014]\n",
    "ax[0].hist(Alica_2013.weekday, bins=7, color='teal', label='Alice 2013', rwidth=0.9)\n",
    "ax[1].hist(Alica_2014.weekday, bins=7, color='maroon', label='Alice 2014', rwidth=0.9)\n",
    "ax[0].set_xticks(ticks=[i - 0.5 for i in np.linspace(1,6,7)])\n",
    "ax[1].set_xticks(ticks=[i - 0.5 for i in np.linspace(1,6,7)])\n",
    "ax[0].set_xticklabels(labels=['Mon','Tue','Wed','Thu','Fri','Sat','Sun'])\n",
    "ax[1].set_xticklabels(labels=['Mon','Tue','Wed','Thu','Fri','Sat','Sun'])\n",
    "ax[0].title.set_text('Alice 2013 weekday schedule')\n",
    "ax[1].title.set_text('Alice 2014 weekday schedule')\n",
    "plt.tight_layout()\n",
    "plt.show()"
   ]
  },
  {
   "cell_type": "markdown",
   "metadata": {},
   "source": [
    "Для обычных пользователей никаких очевидных различий не замечено."
   ]
  },
  {
   "cell_type": "code",
   "execution_count": 34,
   "metadata": {
    "scrolled": true
   },
   "outputs": [
    {
     "data": {
      "image/png": "[encoded data removed]",
      "text/plain": [
       "<Figure size 1080x360 with 2 Axes>"
      ]
     },
     "metadata": {
      "needs_background": "light"
     },
     "output_type": "display_data"
    }
   ],
   "source": [
    "# посещаемость по годам на обучающей выборке для пользователей\n",
    "fig, ax = plt.subplots(1, 2, figsize=(15,5))\n",
    "Users = train_df[train_df.target==0]\n",
    "Users_2013 = Users[Users.start_year == 2013]\n",
    "Users_2014 = Users[Users.start_year == 2014]\n",
    "ax[0].hist(Users_2013.weekday, bins=7, color='teal', label='Users 2013', rwidth=0.9)\n",
    "ax[1].hist(Users_2014.weekday, bins=7, color='maroon', label='Users 2014', rwidth=0.9)\n",
    "ax[0].set_xticks(ticks=[i - 0.5 for i in np.linspace(1,6,7)])\n",
    "ax[1].set_xticks(ticks=[i - 0.5 for i in np.linspace(1,6,7)])\n",
    "ax[0].set_xticklabels(labels=['Mon','Tue','Wed','Thu','Fri','Sat','Sun'])\n",
    "ax[1].set_xticklabels(labels=['Mon','Tue','Wed','Thu','Fri','Sat','Sun'])\n",
    "ax[0].title.set_text('Users 2013 weekday schedule')\n",
    "ax[1].title.set_text('Users 2014 weekday schedule')\n",
    "plt.tight_layout()\n",
    "plt.show()"
   ]
  },
  {
   "cell_type": "markdown",
   "metadata": {},
   "source": [
    "А вот дальнейший факт уже очень интересен - в тестовой выборке НЕТ 2013-го года!!\n",
    "\n",
    "Первым предположением будет то, что мы можем добавить номер года для обучения (разбив его на 2 поля), но это сильно ухудшило результаты на тестовой выборке. Так же есть мысли, что можно из обучения вообще выкинуть 2013-ый год, но смею предположить, что результат будет аналогичен и делать так не стоит. В причинах разберёмся далее."
   ]
  },
  {
   "cell_type": "code",
   "execution_count": 35,
   "metadata": {},
   "outputs": [
    {
     "data": {
      "image/png": "[encoded data removed]",
      "text/plain": [
       "<Figure size 1080x360 with 2 Axes>"
      ]
     },
     "metadata": {
      "needs_background": "light"
     },
     "output_type": "display_data"
    }
   ],
   "source": [
    "# посещаемость по годам на тестовой выборке для пользователей\n",
    "fig, ax = plt.subplots(1, 2, figsize=(15,5))\n",
    "Users = test_df\n",
    "Users_2013 = Users[Users.start_year == 2013]\n",
    "Users_2014 = Users[Users.start_year == 2014]\n",
    "ax[0].hist(Users_2013.weekday, bins=7, color='teal', label='Users 2013', rwidth=0.9)\n",
    "ax[1].hist(Users_2014.weekday, bins=7, color='maroon', label='Users 2014', rwidth=0.9)\n",
    "ax[0].set_xticks(ticks=[i - 0.5 for i in np.linspace(1,6,7)])\n",
    "ax[1].set_xticks(ticks=[i - 0.5 for i in np.linspace(1,6,7)])\n",
    "ax[0].set_xticklabels(labels=['Mon','Tue','Wed','Thu','Fri','Sat','Sun'])\n",
    "ax[1].set_xticklabels(labels=['Mon','Tue','Wed','Thu','Fri','Sat','Sun'])\n",
    "ax[0].title.set_text('Users 2013 weekday schedule')\n",
    "ax[1].title.set_text('Users 2014 weekday schedule')\n",
    "plt.tight_layout()\n",
    "plt.show()"
   ]
  },
  {
   "cell_type": "markdown",
   "metadata": {},
   "source": [
    "Посещаемость по часам для каждого года отличается не сильно, так что данный фактор отбрасываем"
   ]
  },
  {
   "cell_type": "code",
   "execution_count": 36,
   "metadata": {},
   "outputs": [
    {
     "data": {
      "image/png": "[encoded data removed]",
      "text/plain": [
       "<Figure size 1080x360 with 2 Axes>"
      ]
     },
     "metadata": {
      "needs_background": "light"
     },
     "output_type": "display_data"
    }
   ],
   "source": [
    "# посещаемость по годам на обучающей выборке для Алисы\n",
    "fig, ax = plt.subplots(1, 2, figsize=(15,5))\n",
    "Alica = train_df[train_df.target==1]\n",
    "Alica_2013 = Alica[Alica.start_year == 2013]\n",
    "Alica_2014 = Alica[Alica.start_year == 2014]\n",
    "ax[0].hist(Alica_2013.start_time / 3600, bins=50, color='teal', label='Alice 2013', rwidth=0.8)\n",
    "ax[1].hist(Alica_2014.start_time / 3600, bins=50, color='maroon', label='Alice 2014', rwidth=0.8)\n",
    "ax[0].title.set_text('Alice 2013_time (log)')\n",
    "ax[1].title.set_text('Alice 2014_time (log)')\n",
    "plt.tight_layout()\n",
    "plt.show()"
   ]
  },
  {
   "cell_type": "markdown",
   "metadata": {},
   "source": [
    "Выборки для Алисы по годам так же соизмеримы"
   ]
  },
  {
   "cell_type": "code",
   "execution_count": 37,
   "metadata": {},
   "outputs": [
    {
     "name": "stdout",
     "output_type": "stream",
     "text": [
      "1056\n",
      "1241\n"
     ]
    }
   ],
   "source": [
    "# для опыта, а сколько посещений Алисы в каждом году\n",
    "\n",
    "Alica = train_df[train_df.target==1]\n",
    "Alica_2013 = Alica[Alica.start_year == 2013]\n",
    "Alica_2014 = Alica[Alica.start_year == 2014]\n",
    "print(len(Alica_2013))\n",
    "print(len(Alica_2014))"
   ]
  },
  {
   "cell_type": "markdown",
   "metadata": {},
   "source": [
    "У пользователей явных различий в посещении тоже не имеется"
   ]
  },
  {
   "cell_type": "code",
   "execution_count": 38,
   "metadata": {
    "scrolled": true
   },
   "outputs": [
    {
     "data": {
      "image/png": "[encoded data removed]",
      "text/plain": [
       "<Figure size 1080x360 with 2 Axes>"
      ]
     },
     "metadata": {
      "needs_background": "light"
     },
     "output_type": "display_data"
    }
   ],
   "source": [
    "# посещаемость по годам на обучающей выборке для пользователей\n",
    "fig, ax = plt.subplots(1, 2, figsize=(15,5))\n",
    "Users = train_df[train_df.target==0]\n",
    "Users_2013 = Users[Users.start_year == 2013]\n",
    "Users_2014 = Users[Users.start_year == 2014]\n",
    "ax[0].hist(Users_2013.start_time / 3600, bins=50, color='teal', label='Alice', rwidth=0.8)\n",
    "ax[1].hist(Users_2014.start_time / 3600, bins=50, color='maroon', label='Users', rwidth=0.8)\n",
    "ax[0].title.set_text('Users 2013_time (log)')\n",
    "ax[1].title.set_text('Users 2014_time (log)')\n",
    "plt.tight_layout()\n",
    "plt.show()"
   ]
  },
  {
   "cell_type": "markdown",
   "metadata": {},
   "source": [
    "### Разбитие в хронологическом порядке\n",
    "А вот дальше возникла мысль, разбить данные в хронологическом порядке по месяцам и посмотреть предпочтения Алисы\n",
    "\n",
    "Для начала мы изучим месяца, которые представлены в выборках.\n",
    "\n",
    "И тут получаем следующием месяца на учебной выборке\n",
    "\n",
    "11 - 12 - 1 - 2 - 3 - 4\n",
    "\n",
    "и следующием месяцы на тестовой (ХХ - нет месяца)\n",
    "\n",
    "ХХ - ХХ - 1 - 2 - 3 - 4 - 5\n",
    "\n",
    "Таким образом, мы обучаемся на 6 месяцах (пол года), по ним проверяем 4 месяца из этого же периода + 1 месяц прогнозируем, которого нет в нашей выборке*. А значит, напрямую использвовать месяца нельзя, так как у нас нет 5-го месяца и его коэффициенты будут занулены.\n",
    "\n",
    "*Точнее в 5-ом месяце имеется 87 значений, и все они без Алисы, так что добавление месяца портит результаты."
   ]
  },
  {
   "cell_type": "code",
   "execution_count": 39,
   "metadata": {},
   "outputs": [
    {
     "data": {
      "image/png": "[encoded data removed]",
      "text/plain": [
       "<Figure size 1080x360 with 4 Axes>"
      ]
     },
     "metadata": {
      "needs_background": "light"
     },
     "output_type": "display_data"
    }
   ],
   "source": [
    "# посещаемость по месяцам между обучением и тестом\n",
    "\n",
    "fig, ax = plt.subplots(2, 2, figsize=(15,5))\n",
    "ax[0][0].hist(train_df[train_df.start_year == 2013].start_month, bins=12, color='teal', label='train', rwidth=0.8)\n",
    "ax[0][1].hist(train_df[train_df.start_year == 2014].start_month, bins=12, color='maroon', label='test', rwidth=0.8)\n",
    "ax[1][0].hist(train_df.start_month, bins=12, color='pink', label='train', rwidth=0.8)\n",
    "ax[1][1].hist(test_df.start_month, bins=12, color='olive', label='test', rwidth=0.8)\n",
    "ax[0][0].title.set_text('train 2013 start_month (log)')\n",
    "ax[0][1].title.set_text('testraint 2014 start_month (log)')\n",
    "ax[1][0].title.set_text('train start_month (log)')\n",
    "ax[1][1].title.set_text('test start_month (log)')\n",
    "plt.tight_layout()\n",
    "plt.show()"
   ]
  },
  {
   "cell_type": "markdown",
   "metadata": {},
   "source": [
    "Дальше изучались предпочтения Алисы по дням недели в каждом месяце на учебной выборке с попыткой выявить что-то интересное.\n",
    "Здесь стоит отметить, что в 2014-ом году Алиса ни разу не посещала интеренет в пяницу, да и в целом, в пятницу она была только в 11 месяце 2013-го года, после её любимый день сместился на понедельник, остальные же дни - колеблются и сказать что либо чётко по ним, пока что мы не можем.\n",
    "Распределение у обычных пользователей достаточно стабильно.\n",
    "\n",
    "#### Очень интересный факт \n",
    "####  Пробовал выкинуть 2013-11 (когда алиса \"любила\" пятницу) из train_df в итоге точность тестового прогноза падает, вероятно это связано с уменьшением числа данных при обучении, так что напрямую выкидывать - не стоит.\n",
    "\n",
    "Вероятно, в данных имеются какие-то аномалии, раз этот месяц так выделяется."
   ]
  },
  {
   "cell_type": "code",
   "execution_count": 40,
   "metadata": {},
   "outputs": [
    {
     "data": {
      "image/png": "[encoded data removed]",
      "text/plain": [
       "<Figure size 1080x720 with 6 Axes>"
      ]
     },
     "metadata": {
      "needs_background": "light"
     },
     "output_type": "display_data"
    }
   ],
   "source": [
    "# посещаемость по дням недели для Алисы\n",
    "\n",
    "Alica = train_df[train_df.target==1]\n",
    "Alica_2013 = Alica[Alica.start_year == 2013]\n",
    "Alica_2014 = Alica[Alica.start_year == 2014]\n",
    "\n",
    "fig, ax = plt.subplots(3, 2, figsize=(15,10))\n",
    "ax[0][0].hist(Alica_2013[Alica_2013.start_month==11].weekday, bins=7, color='teal', label='Alice', rwidth=0.9)\n",
    "ax[0][1].hist(Alica_2013[Alica_2013.start_month==12].weekday, bins=7, color='maroon', label='Users', rwidth=0.9)\n",
    "ax[1][0].hist(Alica_2014[Alica_2014.start_month==1].weekday, bins=7, color='pink', label='Alice', rwidth=0.9)\n",
    "ax[1][1].hist(Alica_2014[Alica_2014.start_month==2].weekday, bins=7, color='olive', label='Users', rwidth=0.9)\n",
    "ax[2][0].hist(Alica_2014[Alica_2014.start_month==3].weekday, bins=7, color='darkviolet', label='Alice', rwidth=0.9)\n",
    "ax[2][1].hist(Alica_2014[Alica_2014.start_month==4].weekday, bins=7, color='blue', label='Users', rwidth=0.9)\n",
    "\n",
    "ax[0][0].set_xticks(ticks=[i - 0.5 for i in np.linspace(1,6,7)])\n",
    "ax[0][1].set_xticks(ticks=[i - 0.5 for i in np.linspace(1,6,7)])\n",
    "ax[1][0].set_xticks(ticks=[i - 0.5 for i in np.linspace(1,6,7)])\n",
    "ax[1][1].set_xticks(ticks=[i - 0.5 for i in np.linspace(1,6,7)])\n",
    "ax[2][0].set_xticks(ticks=[i - 0.5 for i in np.linspace(1,6,7)])\n",
    "ax[2][1].set_xticks(ticks=[i - 0.5 for i in np.linspace(1,6,7)])\n",
    "\n",
    "ax[0][0].set_xticklabels(labels=['Mon','Tue','Wed','Thu','Fri','Sat','Sun'])\n",
    "ax[0][1].set_xticklabels(labels=['Mon','Tue','Wed','Thu','Fri','Sat','Sun'])\n",
    "ax[1][0].set_xticklabels(labels=['Mon','Tue','Wed','Thu','Fri','Sat','Sun'])\n",
    "ax[1][1].set_xticklabels(labels=['Mon','Tue','Wed','Thu','Fri','Sat','Sun'])\n",
    "ax[2][0].set_xticklabels(labels=['Mon','Tue','Wed','Thu','Fri','Sat','Sun'])\n",
    "ax[2][1].set_xticklabels(labels=['Mon','Tue','Wed','Thu','Fri','Sat','Sun'])\n",
    "\n",
    "\n",
    "ax[0][0].title.set_text('Alice 2013-11 weekday schedule')\n",
    "ax[0][1].title.set_text('Alice 2013-12 weekday schedule')\n",
    "ax[1][0].title.set_text('Alice 2014-1 weekday schedule')\n",
    "ax[1][1].title.set_text('Alice 2014-2 weekday schedule')\n",
    "ax[2][0].title.set_text('Alice 2014-3 weekday schedule')\n",
    "ax[2][1].title.set_text('Alice 2014-4 weekday schedule')\n",
    "\n",
    "plt.tight_layout()\n",
    "plt.show()"
   ]
  },
  {
   "cell_type": "code",
   "execution_count": 41,
   "metadata": {
    "scrolled": true
   },
   "outputs": [
    {
     "data": {
      "image/png": "[encoded data removed]",
      "text/plain": [
       "<Figure size 1080x720 with 6 Axes>"
      ]
     },
     "metadata": {
      "needs_background": "light"
     },
     "output_type": "display_data"
    }
   ],
   "source": [
    "# посещаемость по дням недели для других пользователей (для проверки аномальности данных)\n",
    "\n",
    "User = train_df[train_df.target==0]\n",
    "User_2013 = User[User.start_year == 2013]\n",
    "User_2014 = User[User.start_year == 2014]\n",
    "\n",
    "fig, ax = plt.subplots(3, 2, figsize=(15,10))\n",
    "ax[0][0].hist(User_2013[User_2013.start_month==11].weekday, bins=7, color='teal', label='Alice', rwidth=0.9)\n",
    "ax[0][1].hist(User_2013[User_2013.start_month==12].weekday, bins=7, color='maroon', label='Users', rwidth=0.9)\n",
    "ax[1][0].hist(User_2014[User_2014.start_month==1].weekday, bins=7, color='pink', label='Alice', rwidth=0.9)\n",
    "ax[1][1].hist(User_2014[User_2014.start_month==2].weekday, bins=7, color='olive', label='Users', rwidth=0.9)\n",
    "ax[2][0].hist(User_2014[User_2014.start_month==3].weekday, bins=7, color='darkviolet', label='Alice', rwidth=0.9)\n",
    "ax[2][1].hist(User_2014[User_2014.start_month==4].weekday, bins=7, color='blue', label='Users', rwidth=0.9)\n",
    "\n",
    "ax[0][0].set_xticks(ticks=[i - 0.5 for i in np.linspace(1,6,7)])\n",
    "ax[0][1].set_xticks(ticks=[i - 0.5 for i in np.linspace(1,6,7)])\n",
    "ax[1][0].set_xticks(ticks=[i - 0.5 for i in np.linspace(1,6,7)])\n",
    "ax[1][1].set_xticks(ticks=[i - 0.5 for i in np.linspace(1,6,7)])\n",
    "ax[2][0].set_xticks(ticks=[i - 0.5 for i in np.linspace(1,6,7)])\n",
    "ax[2][1].set_xticks(ticks=[i - 0.5 for i in np.linspace(1,6,7)])\n",
    "\n",
    "ax[0][0].set_xticklabels(labels=['Mon','Tue','Wed','Thu','Fri','Sat','Sun'])\n",
    "ax[0][1].set_xticklabels(labels=['Mon','Tue','Wed','Thu','Fri','Sat','Sun'])\n",
    "ax[1][0].set_xticklabels(labels=['Mon','Tue','Wed','Thu','Fri','Sat','Sun'])\n",
    "ax[1][1].set_xticklabels(labels=['Mon','Tue','Wed','Thu','Fri','Sat','Sun'])\n",
    "ax[2][0].set_xticklabels(labels=['Mon','Tue','Wed','Thu','Fri','Sat','Sun'])\n",
    "ax[2][1].set_xticklabels(labels=['Mon','Tue','Wed','Thu','Fri','Sat','Sun'])\n",
    "\n",
    "\n",
    "ax[0][0].title.set_text('User 2013-11 weekday schedule')\n",
    "ax[0][1].title.set_text('User 2013-12 weekday schedule')\n",
    "ax[1][0].title.set_text('User 2014-1 weekday schedule')\n",
    "ax[1][1].title.set_text('User 2014-2 weekday schedule')\n",
    "ax[2][0].title.set_text('User 2014-3 weekday schedule')\n",
    "ax[2][1].title.set_text('User 2014-4 weekday schedule')\n",
    "\n",
    "plt.tight_layout()\n",
    "plt.show()"
   ]
  },
  {
   "cell_type": "markdown",
   "metadata": {},
   "source": [
    "Изучение предпочтений Алисы по времени посещений между месяцами явных различий не дало.\n",
    "Разве что точно так же выделяется 2013-11, тем что Алиса в этом месяце больше любила обеденное время, нежели вечернее, как это было после."
   ]
  },
  {
   "cell_type": "code",
   "execution_count": 42,
   "metadata": {},
   "outputs": [
    {
     "data": {
      "image/png": "[encoded data removed]",
      "text/plain": [
       "<Figure size 1080x720 with 6 Axes>"
      ]
     },
     "metadata": {
      "needs_background": "light"
     },
     "output_type": "display_data"
    }
   ],
   "source": [
    "# посещаемость по часам для Алисы по месяцам\n",
    "\n",
    "Alica = train_df[train_df.target==1]\n",
    "Alica_2013 = Alica[Alica.start_year == 2013]\n",
    "Alica_2014 = Alica[Alica.start_year == 2014]\n",
    "\n",
    "fig, ax = plt.subplots(3, 2, figsize=(15,10))\n",
    "ax[0][0].hist(Alica_2013[Alica_2013.start_month==11].start_time / 3600, bins=20, color='teal', label='Alice', rwidth=0.9)\n",
    "ax[0][1].hist(Alica_2013[Alica_2013.start_month==12].start_time / 3600, bins=20, color='maroon', label='Users', rwidth=0.9)\n",
    "ax[1][0].hist(Alica_2014[Alica_2014.start_month==1].start_time / 3600, bins=20, color='pink', label='Alice', rwidth=0.9)\n",
    "ax[1][1].hist(Alica_2014[Alica_2014.start_month==2].start_time / 3600, bins=20, color='olive', label='Users', rwidth=0.9)\n",
    "ax[2][0].hist(Alica_2014[Alica_2014.start_month==3].start_time / 3600, bins=20, color='darkviolet', label='Alice', rwidth=0.9)\n",
    "ax[2][1].hist(Alica_2014[Alica_2014.start_month==4].start_time / 3600, bins=20, color='blue', label='Users', rwidth=0.9)\n",
    "\n",
    "ax[0][0].set_xticks(ticks=[i - 0.5 for i in np.linspace(10,19,10)])\n",
    "ax[0][1].set_xticks(ticks=[i - 0.5 for i in np.linspace(10,19,10)])\n",
    "ax[1][0].set_xticks(ticks=[i - 0.5 for i in np.linspace(10,19,10)])\n",
    "ax[1][1].set_xticks(ticks=[i - 0.5 for i in np.linspace(10,19,10)])\n",
    "ax[2][0].set_xticks(ticks=[i - 0.5 for i in np.linspace(10,19,10)])\n",
    "ax[2][1].set_xticks(ticks=[i - 0.5 for i in np.linspace(10,19,10)])\n",
    "\n",
    "ax[0][0].title.set_text('Alice 2013-11 hour schedule')\n",
    "ax[0][1].title.set_text('Alice 2013-12 hour schedule')\n",
    "ax[1][0].title.set_text('Alice 2014-1 hour schedule')\n",
    "ax[1][1].title.set_text('Alice 2014-2 hour schedule')\n",
    "ax[2][0].title.set_text('Alice 2014-3 hour schedule')\n",
    "ax[2][1].title.set_text('Alice 2014-4 hour schedule')\n",
    "\n",
    "plt.tight_layout()\n",
    "plt.show()"
   ]
  },
  {
   "cell_type": "markdown",
   "metadata": {},
   "source": [
    "### Изучение сессий и их характера\n",
    "Короткий вывод - мы имеем много посещений по 10 сайтов, при дальнейшем анализе мы увидим, что 10 - это одна и та же сессия, которая просто продолжается.\n",
    "\n",
    "*Для данных исследований обязательна сортировать в хоронологическом порядке и так же стоит выделить 1 пользьзователя, как мы можем сделать для Алисы"
   ]
  },
  {
   "cell_type": "markdown",
   "metadata": {},
   "source": [
    "На первом этапе строилось количество посещённых сайтов в каждой выборке. Здесь чётко выделяется то, что почти везде их 10"
   ]
  },
  {
   "cell_type": "code",
   "execution_count": 43,
   "metadata": {},
   "outputs": [
    {
     "data": {
      "image/png": "[encoded data removed]",
      "text/plain": [
       "<Figure size 1080x360 with 2 Axes>"
      ]
     },
     "metadata": {
      "needs_background": "light"
     },
     "output_type": "display_data"
    }
   ],
   "source": [
    "# распределение количества посещений\n",
    "\n",
    "fig, ax = plt.subplots(1, 2, figsize=(15,5))\n",
    "ax[0].hist(train_df[train_df.target == 1].number_of_sites, bins=60, color='teal', label='Alice', rwidth=0.8)\n",
    "ax[1].hist(train_df[train_df.target == 0].number_of_sites, bins=60, color='maroon', label='Users', rwidth=0.8)\n",
    "ax[0].title.set_text('Alice number_of_sites (log)')\n",
    "ax[1].title.set_text('Users number_of_sites (log)')\n",
    "plt.tight_layout()\n",
    "plt.show()"
   ]
  },
  {
   "cell_type": "code",
   "execution_count": 44,
   "metadata": {},
   "outputs": [
    {
     "name": "stdout",
     "output_type": "stream",
     "text": [
      "mean Alica= 9.912494558119286 mean Users= 9.512349560621498\n",
      "median Alica= 10.0 median Users= 10.0\n"
     ]
    }
   ],
   "source": [
    "mean_number_of_sites_Alica = train_df[train_df.target == 1].number_of_sites.mean()\n",
    "mean_number_of_sites_Users = train_df[train_df.target == 0].number_of_sites.mean()\n",
    "median_number_of_sites_Alica = train_df[train_df.target == 1].number_of_sites.median()\n",
    "median_number_of_sites_Users = train_df[train_df.target == 0].number_of_sites.median()\n",
    "print(\"mean Alica=\", mean_number_of_sites_Alica, \"mean Users=\", mean_number_of_sites_Users)\n",
    "print(\"median Alica=\", median_number_of_sites_Alica, \"median Users=\", median_number_of_sites_Users)"
   ]
  },
  {
   "cell_type": "markdown",
   "metadata": {},
   "source": [
    "##### Для более подробного изучения каждой сессии они были выписаны за январь (так как там мало посещений Алисы)\n",
    "Здесь можем видеть причину, по которой наиболее популярны сессии с количеством сайтов = \"10\":\n",
    "#### \"Каждая сессия разбита на выборки по 10 сайтов!\"\n",
    "\n",
    "Например, первое посещение Алисы в январе было 14-го января в 15:54 и закончилось оно в этот же день в 16:04 (здесь мы видим и 9 посещённых сайтов и тот факт, что следующая сессия заметно отличается по времени)\n",
    "\n",
    "Таким образом можем сделать следующий вывод:\n",
    "\n",
    "### \"Реальное количество сессия значительно меньше, чем представлено в датасете, просто они разбиты на множество мелких по 10 посещений. При этом, датасет специально перемешен, чтобы нельзя было так просто соотнести соседние сессии\"\n",
    "\n",
    "При этом, построение данных в хронологическом порядке не позволяется так просто выделить сессию Алисы, ведь за этот участок времени много других пользователей успело посетить интернет.\n",
    "Однако после проведении первичного прогноза, мы получаем прогнозные значения \"target\", по которым уже можно осуществлять исследования тестовых данных. (Но пока что это получается только вручную...)\n",
    "\n",
    "+Так же была проверена гипотеза, что последний и первый сай соседних выборок будут совпадать (это можно было бы как-то использовать). Однако данная теория была опровергнута"
   ]
  },
  {
   "cell_type": "code",
   "execution_count": 45,
   "metadata": {},
   "outputs": [
    {
     "name": "stdout",
     "output_type": "stream",
     "text": [
      "10 2014-01-14T15:54:33.000000000 1 8316\n",
      "10 2014-01-14T16:03:23.000000000 704 27249\n",
      "10 2014-01-14T16:03:36.000000000 389 29\n",
      "10 2014-01-14T16:03:41.000000000 27248 27250\n",
      "10 2014-01-14T16:03:47.000000000 8316 12619\n",
      "10 2014-01-14T16:03:50.000000000 448 644\n",
      "10 2014-01-14T16:03:52.000000000 27250 3000\n",
      "10 2014-01-14T16:04:01.000000000 12619 99\n",
      "9 2014-01-14T16:04:12.000000000 704 0\n",
      "10 2014-01-16T12:35:03.000000000 270 29\n",
      "10 2014-01-16T12:35:30.000000000 99 3000\n",
      "10 2014-01-16T12:40:45.000000000 3000 76\n",
      "10 2014-01-16T12:58:54.000000000 106 29\n",
      "10 2014-01-16T12:58:57.000000000 76 3000\n",
      "1 2014-01-16T13:04:20.000000000 3000 0\n",
      "10 2014-01-20T15:57:42.000000000 270 7832\n",
      "10 2014-01-20T15:59:14.000000000 30 7832\n",
      "10 2014-01-20T15:59:28.000000000 29 7832\n",
      "10 2014-01-20T16:00:29.000000000 29 1517\n",
      "10 2014-01-20T16:00:52.000000000 1520 1516\n",
      "10 2014-01-20T16:00:53.000000000 855 1514\n",
      "10 2014-01-20T16:01:01.000000000 1514 23\n",
      "10 2014-01-20T16:01:09.000000000 1515 1514\n",
      "10 2014-01-20T16:01:10.000000000 855 1519\n",
      "10 2014-01-20T16:01:36.000000000 855 1516\n",
      "10 2014-01-20T16:01:37.000000000 23 855\n",
      "10 2014-01-20T16:03:06.000000000 1514 27189\n",
      "10 2014-01-20T16:10:05.000000000 27189 8\n",
      "10 2014-01-20T16:11:07.000000000 3 272\n",
      "10 2014-01-20T16:11:17.000000000 269 14\n",
      "10 2014-01-20T16:11:23.000000000 3 65\n",
      "10 2014-01-20T16:11:27.000000000 6088 270\n",
      "10 2014-01-20T16:11:35.000000000 271 324\n",
      "10 2014-01-20T16:12:12.000000000 23 27253\n",
      "10 2014-01-20T16:19:56.000000000 27253 8316\n",
      "10 2014-01-20T16:20:21.000000000 29 106\n",
      "10 2014-01-20T16:20:34.000000000 76 81\n",
      "10 2014-01-20T16:20:36.000000000 29 81\n",
      "10 2014-01-20T16:20:42.000000000 81 77\n",
      "10 2014-01-20T16:20:49.000000000 22 33\n",
      "10 2014-01-20T16:20:59.000000000 35 39\n",
      "10 2014-01-20T16:21:05.000000000 37 21\n",
      "10 2014-01-20T16:28:49.000000000 21 4238\n",
      "10 2014-01-20T16:28:53.000000000 727 106\n",
      "10 2014-01-20T16:37:14.000000000 99 1312\n",
      "10 2014-01-20T16:37:27.000000000 3000 29\n",
      "10 2014-01-20T16:37:30.000000000 27257 3000\n",
      "10 2014-01-20T16:37:34.000000000 1312 533\n",
      "10 2014-01-20T16:37:39.000000000 27256 704\n",
      "10 2014-01-20T17:02:14.000000000 29 27258\n",
      "10 2014-01-20T17:02:25.000000000 3012 27256\n",
      "10 2014-01-20T17:02:27.000000000 29 38\n",
      "10 2014-01-20T17:02:31.000000000 27258 1315\n",
      "10 2014-01-20T17:02:45.000000000 7013 27256\n",
      "10 2014-01-20T17:02:47.000000000 533 3000\n",
      "10 2014-01-20T17:32:12.000000000 3000 29\n",
      "10 2014-01-20T17:35:16.000000000 27256 3000\n",
      "10 2014-01-20T17:40:21.000000000 3000 27259\n",
      "10 2014-01-20T17:55:35.000000000 7009 14245\n",
      "10 2014-01-20T17:55:53.000000000 14245 3000\n",
      "10 2014-01-20T17:56:07.000000000 12619 12619\n",
      "10 2014-01-20T17:56:16.000000000 145 27260\n",
      "10 2014-01-20T17:57:05.000000000 21 27261\n",
      "10 2014-01-20T17:57:08.000000000 3860 2271\n",
      "10 2014-01-20T17:57:15.000000000 27263 27265\n",
      "10 2014-01-20T17:57:17.000000000 23 6635\n",
      "10 2014-01-20T17:57:20.000000000 29 448\n",
      "9 2014-01-20T17:57:24.000000000 486 0\n",
      "2 2014-01-28T14:14:19.000000000 1 0\n",
      "10 2014-01-28T16:00:36.000000000 270 33\n",
      "10 2014-01-28T16:05:19.000000000 35 6635\n",
      "10 2014-01-28T16:05:44.000000000 29 27228\n",
      "10 2014-01-28T16:05:51.000000000 12669 3000\n",
      "10 2014-01-28T16:05:56.000000000 27228 29\n",
      "6 2014-01-28T16:06:01.000000000 29 0\n",
      "10 2014-01-28T16:46:34.000000000 3000 99\n",
      "10 2014-01-28T16:50:19.000000000 35 448\n",
      "6 2014-01-28T16:50:22.000000000 12619 0\n",
      "10 2014-01-28T17:57:51.000000000 3000 32\n",
      "10 2014-01-28T18:02:16.000000000 270 29\n",
      "10 2014-01-28T18:02:34.000000000 33 3000\n",
      "10 2014-01-28T18:02:35.000000000 7022 22\n",
      "10 2014-01-28T18:02:38.000000000 3000 35\n",
      "10 2014-01-28T18:02:43.000000000 704 29\n",
      "10 2014-01-28T18:02:48.000000000 22 29\n",
      "10 2014-01-28T18:02:58.000000000 27267 75\n",
      "10 2014-01-28T18:03:03.000000000 27268 12619\n",
      "5 2014-01-28T18:03:18.000000000 12619 0\n"
     ]
    }
   ],
   "source": [
    "# Выделение сессий Алисы с указанием колличества сайтов, времени первого сайта и номерами первого и последнего сайтов\n",
    "\n",
    "Alica = train_df[train_df.target==1]\n",
    "Alica_1 = Alica[Alica.start_month == 1]\n",
    "for number_sites, time, first_site, finish_site in zip(Alica_1.number_of_sites.values, Alica_1.time1.values,\n",
    "                                                       Alica_1.site1.values, Alica_1.site10.values):\n",
    "    print(number_sites, time, first_site, finish_site)"
   ]
  },
  {
   "cell_type": "markdown",
   "metadata": {},
   "source": [
    "Более полезной информацией по которой хорошо заметно единство сессий - является длительность каждой из сессий. По ней можем видеть, что прогнозное время представленное в 4-ём столбце очень близко к следующему реальному*.\n",
    "\n",
    "*Различия обусловленны тем, что мы не знаем длительность последнего сайта и при подобном расчёте принимаем его равным 0. Однако, при необходимости, эту длительность можно рассчитать за счёт определения среднего времени посещения каждого из \"любимых Алсиой\"  сайтов, что в большинстве случае существенно улучшит прогнозное время."
   ]
  },
  {
   "cell_type": "code",
   "execution_count": 46,
   "metadata": {},
   "outputs": [
    {
     "name": "stdout",
     "output_type": "stream",
     "text": [
      "10 2014-01-14T15:54:33.000000000 530 2014-01-14T16:03:23.000000000\n",
      "10 2014-01-14T16:03:23.000000000 13 2014-01-14T16:03:36.000000000\n",
      "10 2014-01-14T16:03:36.000000000 4 2014-01-14T16:03:40.000000000\n",
      "10 2014-01-14T16:03:41.000000000 6 2014-01-14T16:03:47.000000000\n",
      "10 2014-01-14T16:03:47.000000000 3 2014-01-14T16:03:50.000000000\n",
      "10 2014-01-14T16:03:50.000000000 2 2014-01-14T16:03:52.000000000\n",
      "10 2014-01-14T16:03:52.000000000 9 2014-01-14T16:04:01.000000000\n",
      "10 2014-01-14T16:04:01.000000000 11 2014-01-14T16:04:12.000000000\n",
      "9 2014-01-14T16:04:12.000000000 306 2014-01-14T16:09:18.000000000\n",
      "10 2014-01-16T12:35:03.000000000 27 2014-01-16T12:35:30.000000000\n",
      "10 2014-01-16T12:35:30.000000000 16 2014-01-16T12:35:46.000000000\n",
      "10 2014-01-16T12:40:45.000000000 1089 2014-01-16T12:58:54.000000000\n",
      "10 2014-01-16T12:58:54.000000000 2 2014-01-16T12:58:56.000000000\n",
      "10 2014-01-16T12:58:57.000000000 11 2014-01-16T12:59:08.000000000\n",
      "1 2014-01-16T13:04:20.000000000 0 2014-01-16T13:04:20.000000000\n",
      "10 2014-01-20T15:57:42.000000000 92 2014-01-20T15:59:14.000000000\n",
      "10 2014-01-20T15:59:14.000000000 7 2014-01-20T15:59:21.000000000\n",
      "10 2014-01-20T15:59:28.000000000 60 2014-01-20T16:00:28.000000000\n",
      "10 2014-01-20T16:00:29.000000000 23 2014-01-20T16:00:52.000000000\n",
      "10 2014-01-20T16:00:52.000000000 0 2014-01-20T16:00:52.000000000\n",
      "10 2014-01-20T16:00:53.000000000 7 2014-01-20T16:01:00.000000000\n",
      "10 2014-01-20T16:01:01.000000000 1 2014-01-20T16:01:02.000000000\n",
      "10 2014-01-20T16:01:09.000000000 1 2014-01-20T16:01:10.000000000\n",
      "10 2014-01-20T16:01:10.000000000 26 2014-01-20T16:01:36.000000000\n",
      "10 2014-01-20T16:01:36.000000000 0 2014-01-20T16:01:36.000000000\n",
      "10 2014-01-20T16:01:37.000000000 89 2014-01-20T16:03:06.000000000\n",
      "10 2014-01-20T16:03:06.000000000 418 2014-01-20T16:10:04.000000000\n",
      "10 2014-01-20T16:10:05.000000000 60 2014-01-20T16:11:05.000000000\n",
      "10 2014-01-20T16:11:07.000000000 10 2014-01-20T16:11:17.000000000\n",
      "10 2014-01-20T16:11:17.000000000 6 2014-01-20T16:11:23.000000000\n",
      "10 2014-01-20T16:11:23.000000000 4 2014-01-20T16:11:27.000000000\n",
      "10 2014-01-20T16:11:27.000000000 8 2014-01-20T16:11:35.000000000\n",
      "10 2014-01-20T16:11:35.000000000 37 2014-01-20T16:12:12.000000000\n",
      "10 2014-01-20T16:12:12.000000000 463 2014-01-20T16:19:55.000000000\n",
      "10 2014-01-20T16:19:56.000000000 24 2014-01-20T16:20:20.000000000\n",
      "10 2014-01-20T16:20:21.000000000 13 2014-01-20T16:20:34.000000000\n",
      "10 2014-01-20T16:20:34.000000000 2 2014-01-20T16:20:36.000000000\n",
      "10 2014-01-20T16:20:36.000000000 5 2014-01-20T16:20:41.000000000\n",
      "10 2014-01-20T16:20:42.000000000 7 2014-01-20T16:20:49.000000000\n",
      "10 2014-01-20T16:20:49.000000000 10 2014-01-20T16:20:59.000000000\n",
      "10 2014-01-20T16:20:59.000000000 4 2014-01-20T16:21:03.000000000\n",
      "10 2014-01-20T16:21:05.000000000 449 2014-01-20T16:28:34.000000000\n",
      "10 2014-01-20T16:28:49.000000000 4 2014-01-20T16:28:53.000000000\n",
      "10 2014-01-20T16:28:53.000000000 501 2014-01-20T16:37:14.000000000\n",
      "10 2014-01-20T16:37:14.000000000 13 2014-01-20T16:37:27.000000000\n",
      "10 2014-01-20T16:37:27.000000000 3 2014-01-20T16:37:30.000000000\n",
      "10 2014-01-20T16:37:30.000000000 4 2014-01-20T16:37:34.000000000\n",
      "10 2014-01-20T16:37:34.000000000 3 2014-01-20T16:37:37.000000000\n",
      "10 2014-01-20T16:37:39.000000000 1475 2014-01-20T17:02:14.000000000\n",
      "10 2014-01-20T17:02:14.000000000 11 2014-01-20T17:02:25.000000000\n",
      "10 2014-01-20T17:02:25.000000000 2 2014-01-20T17:02:27.000000000\n",
      "10 2014-01-20T17:02:27.000000000 3 2014-01-20T17:02:30.000000000\n",
      "10 2014-01-20T17:02:31.000000000 14 2014-01-20T17:02:45.000000000\n",
      "10 2014-01-20T17:02:45.000000000 2 2014-01-20T17:02:47.000000000\n",
      "10 2014-01-20T17:02:47.000000000 481 2014-01-20T17:10:48.000000000\n",
      "10 2014-01-20T17:32:12.000000000 184 2014-01-20T17:35:16.000000000\n",
      "10 2014-01-20T17:35:16.000000000 7 2014-01-20T17:35:23.000000000\n",
      "10 2014-01-20T17:40:21.000000000 914 2014-01-20T17:55:35.000000000\n",
      "10 2014-01-20T17:55:35.000000000 17 2014-01-20T17:55:52.000000000\n",
      "10 2014-01-20T17:55:53.000000000 13 2014-01-20T17:56:06.000000000\n",
      "10 2014-01-20T17:56:07.000000000 6 2014-01-20T17:56:13.000000000\n",
      "10 2014-01-20T17:56:16.000000000 34 2014-01-20T17:56:50.000000000\n",
      "10 2014-01-20T17:57:05.000000000 3 2014-01-20T17:57:08.000000000\n",
      "10 2014-01-20T17:57:08.000000000 3 2014-01-20T17:57:11.000000000\n",
      "10 2014-01-20T17:57:15.000000000 2 2014-01-20T17:57:17.000000000\n",
      "10 2014-01-20T17:57:17.000000000 3 2014-01-20T17:57:20.000000000\n",
      "10 2014-01-20T17:57:20.000000000 4 2014-01-20T17:57:24.000000000\n",
      "9 2014-01-20T17:57:24.000000000 485 2014-01-20T18:05:29.000000000\n",
      "2 2014-01-28T14:14:19.000000000 164 2014-01-28T14:17:03.000000000\n",
      "10 2014-01-28T16:00:36.000000000 282 2014-01-28T16:05:18.000000000\n",
      "10 2014-01-28T16:05:19.000000000 23 2014-01-28T16:05:42.000000000\n",
      "10 2014-01-28T16:05:44.000000000 7 2014-01-28T16:05:51.000000000\n",
      "10 2014-01-28T16:05:51.000000000 3 2014-01-28T16:05:54.000000000\n",
      "10 2014-01-28T16:05:56.000000000 4 2014-01-28T16:06:00.000000000\n",
      "6 2014-01-28T16:06:01.000000000 306 2014-01-28T16:11:07.000000000\n",
      "10 2014-01-28T16:46:34.000000000 224 2014-01-28T16:50:18.000000000\n",
      "10 2014-01-28T16:50:19.000000000 3 2014-01-28T16:50:22.000000000\n",
      "6 2014-01-28T16:50:22.000000000 489 2014-01-28T16:58:31.000000000\n",
      "10 2014-01-28T17:57:51.000000000 233 2014-01-28T18:01:44.000000000\n",
      "10 2014-01-28T18:02:16.000000000 15 2014-01-28T18:02:31.000000000\n",
      "10 2014-01-28T18:02:34.000000000 1 2014-01-28T18:02:35.000000000\n",
      "10 2014-01-28T18:02:35.000000000 2 2014-01-28T18:02:37.000000000\n",
      "10 2014-01-28T18:02:38.000000000 4 2014-01-28T18:02:42.000000000\n",
      "10 2014-01-28T18:02:43.000000000 4 2014-01-28T18:02:47.000000000\n",
      "10 2014-01-28T18:02:48.000000000 4 2014-01-28T18:02:52.000000000\n",
      "10 2014-01-28T18:02:58.000000000 5 2014-01-28T18:03:03.000000000\n",
      "10 2014-01-28T18:03:03.000000000 14 2014-01-28T18:03:17.000000000\n",
      "5 2014-01-28T18:03:18.000000000 278 2014-01-28T18:07:56.000000000\n"
     ]
    }
   ],
   "source": [
    "Alica = train_df[train_df.target==1]\n",
    "Alica_1 = Alica[Alica.start_month == 1]\n",
    "for number_sites, time, session_len in zip(Alica_1.number_of_sites.values, Alica_1.time1.values,\n",
    "                                                       Alica_1.session_len.values):\n",
    "    print(number_sites, time, session_len, time + int(session_len * 1e9))"
   ]
  },
  {
   "cell_type": "code",
   "execution_count": null,
   "metadata": {},
   "outputs": [],
   "source": []
  },
  {
   "cell_type": "code",
   "execution_count": null,
   "metadata": {},
   "outputs": [],
   "source": []
  },
  {
   "cell_type": "markdown",
   "metadata": {},
   "source": [
    "###### Дальше приведены факты, которые не имеют какой-то явной пользы.\n",
    "\n",
    "Если рассматривать длительность сессии по месяцам (да и в целом), то не видно никаких сильно выраженных различий как между месяцами / днями недели, так и с обычным пользователем"
   ]
  },
  {
   "cell_type": "code",
   "execution_count": 47,
   "metadata": {},
   "outputs": [
    {
     "data": {
      "image/png": "[encoded data removed]",
      "text/plain": [
       "<Figure size 1080x720 with 6 Axes>"
      ]
     },
     "metadata": {
      "needs_background": "light"
     },
     "output_type": "display_data"
    }
   ],
   "source": [
    "# длительность посещения для Алисы по месяцам\n",
    "\n",
    "Alica = train_df[train_df.target==1]\n",
    "Alica_2013 = Alica[Alica.start_year == 2013]\n",
    "Alica_2014 = Alica[Alica.start_year == 2014]\n",
    "\n",
    "fig, ax = plt.subplots(3, 2, figsize=(15,10))\n",
    "ax[0][0].hist(Alica_2013[Alica_2013.start_month==11].session_len, bins=30, color='teal', label='Alice', rwidth=0.9)\n",
    "ax[0][1].hist(Alica_2013[Alica_2013.start_month==12].session_len, bins=30, color='maroon', label='Users', rwidth=0.9)\n",
    "ax[1][0].hist(Alica_2014[Alica_2014.start_month==1].session_len, bins=30, color='pink', label='Alice', rwidth=0.9)\n",
    "ax[1][1].hist(Alica_2014[Alica_2014.start_month==2].session_len, bins=30, color='olive', label='Users', rwidth=0.9)\n",
    "ax[2][0].hist(Alica_2014[Alica_2014.start_month==3].session_len, bins=30, color='darkviolet', label='Alice', rwidth=0.9)\n",
    "ax[2][1].hist(Alica_2014[Alica_2014.start_month==4].session_len, bins=30, color='blue', label='Users', rwidth=0.9)\n",
    "\n",
    "ax[0][0].title.set_text('Alice 2013-11 len schedule')\n",
    "ax[0][1].title.set_text('Alice 2013-12 len schedule')\n",
    "ax[1][0].title.set_text('Alice 2014-1 len schedule')\n",
    "ax[1][1].title.set_text('Alice 2014-2 len schedule')\n",
    "ax[2][0].title.set_text('Alice 2014-3 len schedule')\n",
    "ax[2][1].title.set_text('Alice 2014-4 len schedule')\n",
    "\n",
    "plt.tight_layout()\n",
    "plt.show()"
   ]
  },
  {
   "cell_type": "code",
   "execution_count": 48,
   "metadata": {},
   "outputs": [
    {
     "data": {
      "image/png": "[encoded data removed]",
      "text/plain": [
       "<Figure size 1080x720 with 6 Axes>"
      ]
     },
     "metadata": {
      "needs_background": "light"
     },
     "output_type": "display_data"
    }
   ],
   "source": [
    "# длительность посещения для Алисы дням недели\n",
    "\n",
    "Alica = train_df[train_df.target==1]\n",
    "\n",
    "fig, ax = plt.subplots(3, 2, figsize=(15,10))\n",
    "ax[0][0].hist(Alica[Alica.weekday==0].session_len, bins=30, color='teal', label='Alice', rwidth=0.9)\n",
    "ax[0][1].hist(Alica[Alica.weekday==1].session_len, bins=30, color='maroon', label='Users', rwidth=0.9)\n",
    "ax[1][0].hist(Alica[Alica.weekday==2].session_len, bins=30, color='pink', label='Alice', rwidth=0.9)\n",
    "ax[1][1].hist(Alica[Alica.weekday==3].session_len, bins=30, color='olive', label='Users', rwidth=0.9)\n",
    "ax[2][0].hist(Alica[Alica.weekday==4].session_len, bins=30, color='darkviolet', label='Alice', rwidth=0.9)\n",
    "ax[2][1].hist(Alica[Alica.weekday==5].session_len, bins=30, color='blue', label='Users', rwidth=0.9)\n",
    "\n",
    "ax[0][0].title.set_text('Alice Mon schedule')\n",
    "ax[0][1].title.set_text('Alice Tue schedule')\n",
    "ax[1][0].title.set_text('Alice Wed schedule')\n",
    "ax[1][1].title.set_text('Alice Thu schedule')\n",
    "ax[2][0].title.set_text('Alice Fri schedule')\n",
    "ax[2][1].title.set_text('Alice Sat schedule')\n",
    "\n",
    "plt.tight_layout()\n",
    "plt.show()"
   ]
  },
  {
   "cell_type": "code",
   "execution_count": 49,
   "metadata": {},
   "outputs": [
    {
     "data": {
      "image/png": "[encoded data removed]",
      "text/plain": [
       "<Figure size 1080x720 with 2 Axes>"
      ]
     },
     "metadata": {
      "needs_background": "light"
     },
     "output_type": "display_data"
    }
   ],
   "source": [
    "# длительность посещения для Алисы  и обычного пользовтеля\n",
    "\n",
    "Alica = train_df[train_df.target==1]\n",
    "User = train_df[train_df.target==0]\n",
    "\n",
    "fig, ax = plt.subplots(1, 2, figsize=(15,10))\n",
    "ax[0].hist(Alica.session_len, bins=30, color='teal', label='Alice', rwidth=0.9)\n",
    "ax[1].hist(User.session_len, bins=30, color='maroon', label='Users', rwidth=0.9)\n",
    "\n",
    "ax[0].title.set_text('Alica len schedule')\n",
    "ax[1].title.set_text('User len schedule')\n",
    "\n",
    "plt.tight_layout()\n",
    "plt.show()"
   ]
  },
  {
   "cell_type": "markdown",
   "metadata": {},
   "source": [
    "Если же исследовать минуты и секунды - то пользы никакой тоже не наблюдается, что и логично"
   ]
  },
  {
   "cell_type": "code",
   "execution_count": 50,
   "metadata": {},
   "outputs": [
    {
     "data": {
      "image/png": "[encoded data removed]",
      "text/plain": [
       "<Figure size 1080x360 with 2 Axes>"
      ]
     },
     "metadata": {
      "needs_background": "light"
     },
     "output_type": "display_data"
    }
   ],
   "source": [
    "# посещаемость по минутам\n",
    "\n",
    "fig, ax = plt.subplots(1, 2, figsize=(15,5))\n",
    "ax[0].hist(train_df[train_df.target == 1].start_minute, bins=60, color='teal', label='Alice', rwidth=0.8)\n",
    "ax[1].hist(train_df[train_df.target == 0].start_minute, bins=60, color='maroon', label='Users', rwidth=0.8)\n",
    "ax[0].title.set_text('Alice start_time (log)')\n",
    "ax[1].title.set_text('Users start_time (log)')\n",
    "plt.tight_layout()\n",
    "plt.show()"
   ]
  },
  {
   "cell_type": "code",
   "execution_count": 51,
   "metadata": {},
   "outputs": [
    {
     "data": {
      "image/png": "[encoded data removed]",
      "text/plain": [
       "<Figure size 1080x360 with 2 Axes>"
      ]
     },
     "metadata": {
      "needs_background": "light"
     },
     "output_type": "display_data"
    }
   ],
   "source": [
    "# посещаемость по секундам\n",
    "\n",
    "fig, ax = plt.subplots(1, 2, figsize=(15,5))\n",
    "ax[0].hist(train_df[train_df.target == 1].start_seconds, bins=60, color='teal', label='Alice', rwidth=0.8)\n",
    "ax[1].hist(train_df[train_df.target == 0].start_seconds, bins=60, color='maroon', label='Users', rwidth=0.8)\n",
    "ax[0].title.set_text('Alice start_time (log)')\n",
    "ax[1].title.set_text('Users start_time (log)')\n",
    "plt.tight_layout()\n",
    "plt.show()"
   ]
  },
  {
   "cell_type": "code",
   "execution_count": null,
   "metadata": {},
   "outputs": [],
   "source": []
  },
  {
   "cell_type": "code",
   "execution_count": null,
   "metadata": {},
   "outputs": [],
   "source": []
  },
  {
   "cell_type": "markdown",
   "metadata": {},
   "source": [
    "# Подготовка данных для обучения моделей"
   ]
  },
  {
   "cell_type": "markdown",
   "metadata": {},
   "source": [
    "На первом этапе решено оставить 5-ый уровень и 50000 фич, данные параметры подбирались вручную, без перебора гиперпараметров, поэтому очень вероятно, что значения не оптимальны и будут уточнены."
   ]
  },
  {
   "cell_type": "code",
   "execution_count": 11,
   "metadata": {},
   "outputs": [],
   "source": [
    "# исходные данные\n",
    "cv = CountVectorizer(ngram_range=(1, 5), max_features=50000)"
   ]
  },
  {
   "cell_type": "markdown",
   "metadata": {
    "_uuid": "df2d4246d8542eae60adbbf3e2d599c80d5044a4"
   },
   "source": [
    "Создаём стандартную выборку с помощью \"CountVectorizer\" где для для обучения данные преобразуются\n",
    "\n",
    "От этой выборки потом будут идти все дальнейшие исследования"
   ]
  },
  {
   "cell_type": "code",
   "execution_count": 12,
   "metadata": {
    "execution": {
     "iopub.execute_input": "2022-04-07T11:59:16.803945Z",
     "iopub.status.busy": "2022-04-07T11:59:16.802761Z",
     "iopub.status.idle": "2022-04-07T11:59:37.310285Z",
     "shell.execute_reply": "2022-04-07T11:59:37.309436Z",
     "shell.execute_reply.started": "2022-04-07T11:59:16.803848Z"
    }
   },
   "outputs": [
    {
     "name": "stdout",
     "output_type": "stream",
     "text": [
      "(253561, 50000) (82797, 50000)\n",
      "CPU times: total: 25.8 s\n",
      "Wall time: 26 s\n"
     ]
    }
   ],
   "source": [
    "%%time\n",
    "\n",
    "with open('train_sessions_text.txt') as inp_train_file:\n",
    "    X_train = cv.fit_transform(inp_train_file)\n",
    "with open('test_sessions_text.txt') as inp_test_file:\n",
    "    X_test = cv.transform(inp_test_file)\n",
    "\n",
    "print(X_train.shape, X_test.shape)\n",
    "\n",
    "# Обратите внимание на очень большие размеры матриц: 253561 * 50000 = 12678050000 элементов!\n",
    "# Только разреженные матрицы могут принять это."
   ]
  },
  {
   "cell_type": "markdown",
   "metadata": {},
   "source": [
    "### Проверка гипотез\n",
    "*Описание и оценка гипотез приведена до кода"
   ]
  },
  {
   "cell_type": "markdown",
   "metadata": {},
   "source": [
    "Как мы выяснили ранее, Алиса любит посещать интернет не каждый день, поэтому первым был добавлен параметр характеризующий день недели.\n",
    "Стоит отметить, что используется не само число, а 7 разных полей, в которых задаётся конкретный день, для того, чтобы модель могла чётко различать их (далее используется аналогичное разбиение).\n",
    "\n",
    "### (+) Указанная гипотеза дала положительный результат"
   ]
  },
  {
   "cell_type": "code",
   "execution_count": 13,
   "metadata": {},
   "outputs": [],
   "source": [
    "# день недели разбитый на 7, работает хорошо\n",
    "# переименовать в 7\n",
    "def add_week_in_X(X, df):\n",
    "    Day = np.zeros(shape=(7,len(df)))\n",
    "\n",
    "    i = 0\n",
    "    for k in df.weekday:\n",
    "        Day[k][i] = 1\n",
    "        i+=1\n",
    "    \n",
    "    C_day = csr_matrix(Day.T, dtype=np.int64)\n",
    "\n",
    "    X_new = hstack((X, C_day))\n",
    "    return X_new"
   ]
  },
  {
   "cell_type": "markdown",
   "metadata": {},
   "source": [
    "Для уменьшения требуемых полей, выходные были объединены в 1 поле. Это так же дало небольшой прирост точности поэтому в дальнейшем используется именно этот вариант.\n",
    "\n",
    "### (+) Указанная гипотеза дала положительный результат"
   ]
  },
  {
   "cell_type": "code",
   "execution_count": 13,
   "metadata": {},
   "outputs": [],
   "source": [
    "# день недели разбитый на 7, работает хорошо\n",
    "def add_week_6(X, df):\n",
    "    Day = np.zeros(shape=(6,len(df)))\n",
    "\n",
    "    i = 0\n",
    "    for k in df.weekday:\n",
    "        if k < 5:\n",
    "            Day[k][i] = 1\n",
    "        else:\n",
    "            Day[5][i] = 1\n",
    "        i+=1\n",
    "    \n",
    "    C_day = csr_matrix(Day.T, dtype=np.int64)\n",
    "\n",
    "    X_new = hstack((X, C_day))\n",
    "    return X_new"
   ]
  },
  {
   "cell_type": "markdown",
   "metadata": {},
   "source": [
    "Как мы могли видеть, в ноябре (11 месяц) Алиса любила пятницу, а потом, вдруг - понедельник, для борьбы с этой гипотизой была осуществленна корректировка пятницы на понедельник. Данное использовалось для проверки гипотезы.\n",
    "\n",
    "### (-) Указанная гипотеза дала отрицательный результат"
   ]
  },
  {
   "cell_type": "code",
   "execution_count": 15,
   "metadata": {},
   "outputs": [],
   "source": [
    "# день недели разбитый на 7, с исправленем пятницы в 11 месяце\n",
    "def add_week_in_X_with_correct_11monht(X, df):\n",
    "    Day = np.zeros(shape=(7,len(df)))\n",
    "\n",
    "    i = 0\n",
    "    for target, start_month, weekday in zip(df.target, df.start_month, df.weekday):\n",
    "        d = weekday\n",
    "        if ((target == 1) and (start_month == 11) and (weekday == 4)):\n",
    "            d = 0\n",
    "        Day[d][i] = 1\n",
    "        i+=1\n",
    "    \n",
    "    C_day = csr_matrix(Day.T, dtype=np.int64)\n",
    "\n",
    "    X_new = hstack((X, C_day))\n",
    "    return X_new"
   ]
  },
  {
   "cell_type": "markdown",
   "metadata": {},
   "source": [
    "Из исходных данных было выявлено, что Алиса любит посещать интернет в определённые промежутки времени, для этого были использованы значения часа. Как и ожидалось, результат был положительный\n",
    "\n",
    "### (+) Указанная гипотеза дала положительный результат"
   ]
  },
  {
   "cell_type": "code",
   "execution_count": 16,
   "metadata": {},
   "outputs": [],
   "source": [
    "# Время дня - улучшает\n",
    "# переименовать в 24\n",
    "def add_hour_in_X(X, df):\n",
    "    hour = np.zeros(shape=(24,len(df)))\n",
    "\n",
    "    i = 0\n",
    "    for k in df.start_hour:\n",
    "        hour[k][i] = 1\n",
    "        i+=1\n",
    "\n",
    "\n",
    "    C_hour = csr_matrix(hour.T, dtype=np.int64)\n",
    "\n",
    "    X_new = hstack((X, C_hour))\n",
    "    return X_new"
   ]
  },
  {
   "cell_type": "markdown",
   "metadata": {},
   "source": [
    "Для уменьшения требуемых полей, непосещаемые Алисой часы были объединены в 1 поле. Это так же дало небольшой прирост точности поэтому в дальнейшем используется именно этот вариант.\n",
    "\n",
    "### (+) Указанная гипотеза дала положительный результат"
   ]
  },
  {
   "cell_type": "code",
   "execution_count": 14,
   "metadata": {},
   "outputs": [],
   "source": [
    "# Время дня - улучшает\n",
    "def add_hour_from9to19(X, df):\n",
    "    hour = np.zeros(shape=(11,len(df)))\n",
    "    # 9-19 (10 полей) + 1 внешнее (1)\n",
    "\n",
    "    i = 0\n",
    "    for k in df.start_hour:\n",
    "        if (k < 9) or (k >= 19):\n",
    "            hour[10][i] = 1 # крайнее поле под всё внешнее\n",
    "        else:\n",
    "            hour[k-9][i] = 1\n",
    "        i+=1\n",
    "\n",
    "\n",
    "    C_hour = csr_matrix(hour.T, dtype=np.int64)\n",
    "\n",
    "    X_new = hstack((X, C_hour))\n",
    "    return X_new"
   ]
  },
  {
   "cell_type": "markdown",
   "metadata": {},
   "source": [
    "Предпринималась попытка разделить временной интервал на меньший шаг - по 15 минут. Однако это, как предполагаем, привело к переобучению.\n",
    "\n",
    "*Здесь и местами используется 24 часа (и прочие нелинейности), так как описываемые исследования в реальности имели совсем иную хронологию\n",
    "\n",
    "### (-) Указанная гипотеза дала отрицательный результат"
   ]
  },
  {
   "cell_type": "code",
   "execution_count": 18,
   "metadata": {},
   "outputs": [],
   "source": [
    "# Время дня по 15 минут\n",
    "def add_hour_in_15min(X, df):\n",
    "    hour = np.zeros(shape=(24*4,len(df)))\n",
    "\n",
    "    i = 0\n",
    "    for time_second in df.start_time:\n",
    "        k = int(time_second//900)\n",
    "        hour[k][i] = 1\n",
    "        i+=1\n",
    "\n",
    "    C_hour = csr_matrix(hour.T, dtype=np.int64)\n",
    "\n",
    "    X_new = hstack((X, C_hour))\n",
    "    return X_new"
   ]
  },
  {
   "cell_type": "markdown",
   "metadata": {},
   "source": [
    "Далее временные интервалы были разбиты на 5 участков (4 зоны Алисы и 5-ый, не посещаемый ей участок). Представление булевое 0/1. На удивление, это привело к уменьшению точности, вероятно, всё же требовалась чуть большая точность для выделения каких-то сайтов. Или же исследования были не совсем правильными. или 3-яя зона, слишком невалидна.\n",
    "\n",
    "В общем, данное разбиение не привело к ожидаемому улучшнию, и за лучший вариант решено принять часовое разбитие в интервале 9-19 часов.\n",
    "\n",
    "### (-) Указанная гипотеза дала отрицательный результат"
   ]
  },
  {
   "cell_type": "code",
   "execution_count": 19,
   "metadata": {},
   "outputs": [],
   "source": [
    "# время дня разбитое по секторам Алисы (прямой)\n",
    "def add_Alica_hour_bool(X, df):\n",
    "    hour = np.zeros(shape=(5,len(df)))\n",
    "    \n",
    "    i = 0\n",
    "    for start_time in df.start_time:\n",
    "        if ((start_time/3600 >= 9) & (start_time/3600 <= 9.45)):\n",
    "            hour[0][i] = 1\n",
    "        elif ((start_time/3600 >= 11.7) & (start_time/3600 <= 14.3)):\n",
    "            hour[1][i] = 1\n",
    "        elif ((start_time/3600 >= 15) & (start_time/3600 <= 15.3)):\n",
    "            hour[2][i] = 1\n",
    "        elif ((start_time/3600 >= 15.7) & (start_time/3600 <= 18.5)):\n",
    "            hour[3][i] = 1\n",
    "        else:\n",
    "            hour[4][i] = 1\n",
    "        i+=1\n",
    "    \n",
    "    C_hour = csr_matrix(hour.T, dtype=np.int64)\n",
    "\n",
    "    X_new = hstack((X, C_hour))\n",
    "    return X_new"
   ]
  },
  {
   "cell_type": "markdown",
   "metadata": {},
   "source": [
    "Аналогичное действие, но ещё с разделением по дням недели. Как мы могли видеть, Алиса в определённые дни предпочетает разное время.\n",
    "\n",
    "Вероятно, это привело к сильному переобучению.\n",
    "\n",
    "\n",
    "### (-) Указанная гипотеза дала отрицательный результат"
   ]
  },
  {
   "cell_type": "code",
   "execution_count": 20,
   "metadata": {},
   "outputs": [],
   "source": [
    "# время дня разбитое по секторам Алисы и дням недели\n",
    "def add_Alica_week_hour_bool(X, df):\n",
    "    hour = np.zeros(shape=(5*7,len(df)))\n",
    "    weeks = df.weekday\n",
    "    start_times = df.start_time\n",
    "    \n",
    "    i = 0\n",
    "    for ind in df.index:\n",
    "        if ((start_times[ind]/3600 >= 9) & (start_times[ind]/3600 <= 9.45)):\n",
    "            hour[0+weeks[ind]*5][i] = 1\n",
    "        elif ((start_times[ind]/3600 >= 11.7) & (start_times[ind]/3600 <= 14.3)):\n",
    "            hour[1+weeks[ind]*5][i] = 1\n",
    "        elif ((start_times[ind]/3600 >= 15) & (start_times[ind]/3600 <= 15.3)):\n",
    "            hour[2+weeks[ind]*5][i] = 1\n",
    "        elif ((start_times[ind]/3600 >= 15.7) & (start_times[ind]/3600 <= 18.5)):\n",
    "            hour[3+weeks[ind]*5][i] = 1\n",
    "        else:\n",
    "            hour[4+weeks[ind]*5][i] = 1\n",
    "        i+=1\n",
    "    \n",
    "    C_hour = csr_matrix(hour.T, dtype=np.int64)\n",
    "\n",
    "    X_new = hstack((X, C_hour))\n",
    "    return X_new"
   ]
  },
  {
   "cell_type": "markdown",
   "metadata": {},
   "source": [
    "Так же предпринималась попытка добавить нелинейность в исследуемую модель, для этого временные участки были описаны кривой, значение согласно распределению вермени (см. графики каждого участка). Однако это не привело ни к какому улучшению, а лишь ухудшило результат.\n",
    "\n",
    "Вероятно, местами была слишком малая выборка для корректного описания зависимости. А быть может и сама идеи не заслуживает внимания. Повторимся - цель была в добавлении нелинейности.\n",
    "\n",
    "### (-) Указанная гипотеза дала отрицательный результат"
   ]
  },
  {
   "cell_type": "code",
   "execution_count": 21,
   "metadata": {},
   "outputs": [],
   "source": [
    "# время дня разбитое по секторам Алисы (прямой)\n",
    "def add_Alica_hour_function(X, df):\n",
    "    hour = np.zeros(shape=(4,len(df)))\n",
    "    \n",
    "    i = 0\n",
    "    for start_time in df.start_time:\n",
    "        if ((start_time/3600 >= 9) & (start_time/3600 <= 9.45)):\n",
    "            hour[0][i] = 0.1\n",
    "####################\n",
    "        elif ((start_time/3600 >= 11.7) & (start_time/3600 <= 14.3)):\n",
    "            if ((start_time/3600 >= 11.7) & (start_time/3600 <= 12.5)):\n",
    "                hour[0][i] = 0.625 * (start_time/3600) - 7.3125\n",
    "            elif ((start_time/3600 >= 12.5) & (start_time/3600 <= 13)):\n",
    "                hour[1][i] = 0.5\n",
    "            elif ((start_time/3600 >= 13) & (start_time/3600 <= 14.3)):\n",
    "                hour[1][i] = -0.5/1.5 * (start_time/3600) + 7.15 / 1.5\n",
    "####################\n",
    "        elif ((start_time/3600 >= 15) & (start_time/3600 <= 15.3)):\n",
    "            hour[2][i] = 0.05\n",
    "####################\n",
    "        elif ((start_time/3600 >= 15.7) & (start_time/3600 <= 18.5)):\n",
    "            hour[3][i] = 1\n",
    "        i+=1\n",
    "    \n",
    "    C_hour = csr_matrix(hour.T, dtype=np.int64)\n",
    "\n",
    "    X_new = hstack((X, C_hour))\n",
    "    return X_new"
   ]
  },
  {
   "cell_type": "markdown",
   "metadata": {},
   "source": [
    "В конце ноута (Дополнение) описывается обработка сайтов и выделение \"Алисиных сайтов\" с попыткой зануления иных и/или расчёта рейтинга. Далее приводится различные комбинации использования указанного рейтинга. На обучающей выборке это приводило к 0,99+ точности, однако на тестовой, точность только падала поэтому данная гипотиза после своей проверки не использовалась и перенесена в конец.\n",
    "\n",
    "Как можем видеть, указанная попытка добавить нелинейность* приводила к сильному переобучению \n",
    "\n",
    "*рейтинг был как линеен, так и нелинеен - корень 10-ой степени\n",
    "\n",
    "### (-) Указанные гипотезы дали отрицательный результат"
   ]
  },
  {
   "cell_type": "code",
   "execution_count": 22,
   "metadata": {},
   "outputs": [],
   "source": [
    "# Рейтинг всех сайтов сессии\n",
    "def add_rating_sites(X, df):\n",
    "    rating = np.zeros(shape=(2,len(df)))\n",
    "    \n",
    "    max_rating = max(df.rating_sites)\n",
    "\n",
    "    i = 0\n",
    "    for k in df.rating_sites:\n",
    "        rating[0][i] = k/max_rating\n",
    "        i+=1\n",
    "\n",
    "\n",
    "    C_rating = csr_matrix(rating.T, dtype=np.int64)\n",
    "\n",
    "    X_new = hstack((X, C_rating))\n",
    "    return X_new"
   ]
  },
  {
   "cell_type": "code",
   "execution_count": 23,
   "metadata": {},
   "outputs": [],
   "source": [
    "# Рейтинг каждого сайта\n",
    "def add_rating_All_sites(X, df):\n",
    "    rating = np.zeros(shape=(10,len(df)))\n",
    "    \n",
    "    for z in range(0,10):\n",
    "        i = 0\n",
    "        for k in df[\"rating_site\"+str(z+1)]:\n",
    "            rating[z][i] = k\n",
    "            i+=1\n",
    "\n",
    "\n",
    "    C_rating = csr_matrix(rating.T, dtype=np.int64)\n",
    "\n",
    "    X_new = hstack((X, C_rating))\n",
    "    return X_new"
   ]
  },
  {
   "cell_type": "markdown",
   "metadata": {},
   "source": [
    "На начальном этапе так же предпринималась попытка добавить год в качетсве исследуемого параметра, но как могли видеть ранее, в тестовой выборке совсем отсутствует 2013-го года. К тому же, нам приведена последовательность из нескольких месяцев, и разбиение по годам является неуместным.\n",
    "\n",
    "### (-) Указанные гипотезы дали отрицательный результат"
   ]
  },
  {
   "cell_type": "code",
   "execution_count": 24,
   "metadata": {},
   "outputs": [],
   "source": [
    "# год разбитый на 2, Добавил с учётом часа - работает почему-то паршиво на тестовой выборке\n",
    "def add_year(X, df):\n",
    "    year = np.zeros(shape=(2,len(df)))\n",
    "\n",
    "    i = 0\n",
    "    for k in df.start_year:\n",
    "        if k == 2013:\n",
    "            print(2013)\n",
    "        elif k == 2014:\n",
    "            year[1][i] = 1\n",
    "        i+=1\n",
    "    \n",
    "    C_year = csr_matrix(year.T, dtype=np.int64)\n",
    "\n",
    "    X_new = hstack((X, C_year))\n",
    "    return X_new"
   ]
  },
  {
   "cell_type": "markdown",
   "metadata": {},
   "source": [
    "Из анализа сессий Алисы, мы могли увидеть, что значение в 10 посещённых сайтов в большинстве случаев значит, что это просто продолжение одной и той же сессии. А если мы наблюдаем меньше 10 сайтов, например 7 - то с большой долей вероятности, это окончание исследуемой сессии.\n",
    "\n",
    "Исходя из этого была выдвинута гипотеза, что Алиса в завершении посещается какой-то особый сайт, или имеются иные особенности.\n",
    "\n",
    "На удивление, это привело к небольшому увеличению точности\n",
    "Было  0,952871\n",
    "Стало 0,95294\n",
    "\n",
    "### (+) Указанная гипотеза дала положительный результат"
   ]
  },
  {
   "cell_type": "code",
   "execution_count": 15,
   "metadata": {},
   "outputs": [],
   "source": [
    "# Проверка на последнию сессию (число сайтов меньше 10)\n",
    "def add_end_session(X, df):\n",
    "    end_session = np.zeros(shape=(2,len(df)))\n",
    "\n",
    "    i = 0\n",
    "    for k in df.number_of_sites:\n",
    "        if k < 10:\n",
    "            end_session[0][i] = 1\n",
    "        else:\n",
    "            end_session[1][i] = 1\n",
    "        i+=1\n",
    "\n",
    "\n",
    "    C_end_session = csr_matrix(end_session.T, dtype=np.int64)\n",
    "\n",
    "    X_new = hstack((X, C_end_session))\n",
    "    return X_new"
   ]
  },
  {
   "cell_type": "code",
   "execution_count": null,
   "metadata": {},
   "outputs": [],
   "source": []
  },
  {
   "cell_type": "markdown",
   "metadata": {},
   "source": [
    "# Добавление новых фич\n",
    "\n",
    "Оставлены результирующие комбинации, которые приводили к улушению. \n",
    "\n",
    "*Названия могут быть слишком громоздки, так как всё это проводилось поэтапно и было целая куча названий."
   ]
  },
  {
   "cell_type": "markdown",
   "metadata": {},
   "source": [
    "## Обучающая"
   ]
  },
  {
   "cell_type": "code",
   "execution_count": 16,
   "metadata": {},
   "outputs": [
    {
     "data": {
      "text/plain": [
       "<253561x50019 sparse matrix of type '<class 'numpy.int64'>'\n",
       "\twith 4615059 stored elements in Compressed Sparse Row format>"
      ]
     },
     "execution_count": 16,
     "metadata": {},
     "output_type": "execute_result"
    }
   ],
   "source": [
    "X_train_week6 = add_week_6(X_train, train_df)\n",
    "X_train_week6_hour9to19_Alice = add_hour_from9to19(X_train_week6, train_df)\n",
    "X_train_week6_hour9to19_endSes_Alice= add_end_session(X_train_week6_hour9to19_Alice, train_df)\n",
    "X_train_week6_hour9to19_endSes_Alice"
   ]
  },
  {
   "cell_type": "markdown",
   "metadata": {},
   "source": [
    "##  Тестовая"
   ]
  },
  {
   "cell_type": "code",
   "execution_count": 17,
   "metadata": {},
   "outputs": [
    {
     "data": {
      "text/plain": [
       "<82797x50019 sparse matrix of type '<class 'numpy.int64'>'\n",
       "\twith 1427941 stored elements in Compressed Sparse Row format>"
      ]
     },
     "execution_count": 17,
     "metadata": {},
     "output_type": "execute_result"
    }
   ],
   "source": [
    "X_test_week6 = add_week_6(X_test, test_df)\n",
    "X_test_week6_hour9to19_Alice = add_hour_from9to19(X_test_week6, test_df)\n",
    "X_test_week6_hour9to19_endSes_Alice= add_end_session(X_test_week6_hour9to19_Alice, test_df)\n",
    "X_test_week6_hour9to19_endSes_Alice"
   ]
  },
  {
   "cell_type": "code",
   "execution_count": null,
   "metadata": {},
   "outputs": [],
   "source": []
  },
  {
   "cell_type": "code",
   "execution_count": null,
   "metadata": {},
   "outputs": [],
   "source": []
  },
  {
   "cell_type": "markdown",
   "metadata": {},
   "source": [
    "# Использование концепции \"сколько Алис рядом\""
   ]
  },
  {
   "cell_type": "markdown",
   "metadata": {},
   "source": [
    "Как мы могли видеть, одна выборка не является полноценной сессии, для использования этого факта были осуществлены приведённые ниже исследования\n",
    "\n",
    "На первом этапе мы делали проверку из разряда \"Есть ли Алиса рядом\", для этого в выборку добавляли поле с предсказанными значениями (y_pred), и если в промежутке +-30 минут от данной сессии находилось более 3-ёх посещений вероятность которых более 0,5, то в ячейку заносилась 1, иначе оставался 0.\n",
    "\n",
    "### Данная гипотеза дала существенной увеличение точности\n",
    "0,954048 -> 0,957618\n",
    "\n",
    "*Перед этим на пороге около 0,954048 было зависание на долгое время\n",
    "\n",
    "### Описание\n",
    "Добавлением параметра \"Алиса рядам\", в теории, может привести к потере устойчивости, так как мы зацикливаем модель саму на себя. Однако данную гипотезу можно рассматривать и как добавление второго слоя, и следствием усложнения модели как раз является повышение точности.\n",
    "\n",
    "\n",
    "### (+) Указанная гипотеза дала положительный результат"
   ]
  },
  {
   "cell_type": "code",
   "execution_count": 44,
   "metadata": {},
   "outputs": [],
   "source": [
    "# сперва стоит получить \"y_pred_train\" и \"y_test\" в дальнейших расчётах. Здесь приводится примерный алгоритм без запуска.\n",
    "# Более подробно расписано в \"обучение модели\"\n",
    "# подготовка данных \"учитель\"\n",
    "y_train = train_df['target'].values\n",
    "# С=0,1, используется именно этот коэффицент на данном этапе так как даёт большую точность.\n",
    "lr = LogisticRegression(C=0.5740825670026137, random_state=17, solver='liblinear', max_iter=1000).fit(X_train_week6_hour9to19_endSes_Alice, y_train)\n",
    "\n",
    "# предсказываются значения\n",
    "y_pred_train = lr.predict_proba(X_train_week6_hour9to19_endSes_Alice)[:, 1]\n",
    "y_test = lr.predict_proba(X_test_week6_hour9to19_endSes_Alice)[:, 1]\n",
    "\n",
    "train_df[\"y_pred\"] = y_pred_train\n",
    "test_df[\"y_pred\"] = y_test"
   ]
  },
  {
   "cell_type": "code",
   "execution_count": 82,
   "metadata": {},
   "outputs": [
    {
     "name": "stdout",
     "output_type": "stream",
     "text": [
      "0\n",
      "10000\n",
      "20000\n",
      "30000\n",
      "40000\n",
      "50000\n",
      "60000\n",
      "70000\n",
      "80000\n",
      "90000\n",
      "100000\n",
      "110000\n",
      "120000\n",
      "130000\n",
      "140000\n",
      "150000\n",
      "160000\n",
      "170000\n",
      "180000\n",
      "190000\n",
      "200000\n",
      "210000\n",
      "220000\n",
      "230000\n",
      "240000\n",
      "250000\n",
      "CPU times: total: 37min 16s\n",
      "Wall time: 37min 19s\n"
     ]
    }
   ],
   "source": [
    "%%time\n",
    "# считается 37 минут, нужно быть аккуратнее!\n",
    "\n",
    "delta = timedelta(minutes=30)\n",
    "Alice_nearby = np.zeros(shape=(1,len(train_df)))\n",
    "\n",
    "i = 0\n",
    "for ind in train_df.index:\n",
    "    session = train_df.loc[ind]\n",
    "    temp = train_df[(train_df.session_strt > (session.session_strt - delta))\n",
    "                   &(train_df.session_strt < (session.session_end  + delta))]\n",
    "    len_temp_good = len(temp[temp.y_pred > 0.5])\n",
    "    if len_temp_good>3:\n",
    "        Alice_nearby[0][i] = 1\n",
    "    if (i)%10000==0:\n",
    "        print(i)\n",
    "        #break\n",
    "    i+=1\n",
    "    \n",
    "train_df[\"Alice_nearby\"] = Alice_nearby.T"
   ]
  },
  {
   "cell_type": "code",
   "execution_count": 92,
   "metadata": {},
   "outputs": [],
   "source": [
    "# сохраняем парамеры для дальнейшего использования, чтобы не перезапускать расчёты\n",
    "np.savetxt(\"Alice_nearby_train.txt\", Alice_nearby.T, fmt='%i', delimiter=\" \")"
   ]
  },
  {
   "cell_type": "code",
   "execution_count": 88,
   "metadata": {},
   "outputs": [
    {
     "data": {
      "text/plain": [
       "<253561x50020 sparse matrix of type '<class 'numpy.int64'>'\n",
       "\twith 4626608 stored elements in Compressed Sparse Row format>"
      ]
     },
     "execution_count": 88,
     "metadata": {},
     "output_type": "execute_result"
    }
   ],
   "source": [
    "# добавляем полученное поле в выборку\n",
    "C_nearby = csr_matrix(Alice_nearby.T, dtype=np.int64)\n",
    "X_train_nearby = hstack((X_train_week6_hour9to19_endSes_Alice, C_nearby))\n",
    "X_train_nearby"
   ]
  },
  {
   "cell_type": "markdown",
   "metadata": {},
   "source": [
    "Затем производим аналогичные действия для тестовой выборки"
   ]
  },
  {
   "cell_type": "code",
   "execution_count": 34,
   "metadata": {},
   "outputs": [],
   "source": [
    "test_df[\"y_pred\"] = y_test"
   ]
  },
  {
   "cell_type": "code",
   "execution_count": 101,
   "metadata": {},
   "outputs": [
    {
     "name": "stdout",
     "output_type": "stream",
     "text": [
      "0\n",
      "10000\n",
      "20000\n",
      "30000\n",
      "40000\n",
      "50000\n",
      "60000\n",
      "70000\n",
      "80000\n",
      "CPU times: total: 12min 20s\n",
      "Wall time: 12min 29s\n"
     ]
    }
   ],
   "source": [
    "%%time\n",
    "# 12.5 минут!\n",
    "\n",
    "delta = timedelta(minutes=30)\n",
    "Alice_test_nearby = np.zeros(shape=(1,len(test_df)))\n",
    "\n",
    "i = 0\n",
    "for ind in test_df.index:\n",
    "    session = test_df.loc[ind]\n",
    "    temp = test_df[(test_df.session_strt > (session.session_strt - delta))\n",
    "                  &(test_df.session_strt < (session.session_end  + delta))]\n",
    "    len_temp_good = len(temp[temp.y_pred > 0.5])\n",
    "    if len_temp_good>3:\n",
    "        Alice_test_nearby[0][i] = 1\n",
    "    if (i)%10000==0:\n",
    "        print(i)\n",
    "        #break\n",
    "    i+=1\n",
    "    \n",
    "test_df[\"Alice_nearby\"] = Alice_test_nearby.T"
   ]
  },
  {
   "cell_type": "code",
   "execution_count": 102,
   "metadata": {},
   "outputs": [],
   "source": [
    "# сохраняем парамеры для дальнейшего использования, чтобы не перезапускать расчёты\n",
    "np.savetxt(\"Alice_nearby_test.txt\", Alice_test_nearby.T, fmt='%i', delimiter=\" \")"
   ]
  },
  {
   "cell_type": "code",
   "execution_count": 104,
   "metadata": {},
   "outputs": [
    {
     "data": {
      "text/plain": [
       "<82797x50020 sparse matrix of type '<class 'numpy.int64'>'\n",
       "\twith 1432000 stored elements in Compressed Sparse Row format>"
      ]
     },
     "execution_count": 104,
     "metadata": {},
     "output_type": "execute_result"
    }
   ],
   "source": [
    "# добавляем полученное поле в выборку\n",
    "C_nearby = csr_matrix(Alice_test_nearby.T, dtype=np.int64)\n",
    "X_test_nearby = hstack((X_test_week6_hour9to19_endSes_Alice, C_nearby))\n",
    "X_test_nearby"
   ]
  },
  {
   "cell_type": "markdown",
   "metadata": {},
   "source": [
    "### Этап 2\n",
    "На втором этае этапе мы делали проверку из разряда \"сколько Алис рядом\", для этого в промежутке +-30 минут от данной сессии (для корректности сравнений этапов) находилось колличество посещений вероятность которых более 0,5. На данном мы не масштабированное число, что может привести к уменьшению точности, а точнее излишнему влиянию данного факта, вероятно придётся произвести маштабирование.\n",
    "\n",
    "Увы, даже с нормальизацией, эффект на валидационной выборке был несущественен. Вероятно, потому что численно значение сильно зависит от длительности выборок, поэтому конкретное значение несёт меньше эффекта, чем сам факт наличия искомых выборок рядом.\n",
    "\n",
    "### (-) Указанная гипотеза дала отрицательный результат"
   ]
  },
  {
   "cell_type": "code",
   "execution_count": 106,
   "metadata": {},
   "outputs": [
    {
     "name": "stdout",
     "output_type": "stream",
     "text": [
      "0\n",
      "10000\n",
      "20000\n",
      "30000\n",
      "40000\n",
      "50000\n",
      "60000\n",
      "70000\n",
      "80000\n",
      "90000\n",
      "100000\n",
      "110000\n",
      "120000\n",
      "130000\n",
      "140000\n",
      "150000\n",
      "160000\n",
      "170000\n",
      "180000\n",
      "190000\n",
      "200000\n",
      "210000\n",
      "220000\n",
      "230000\n",
      "240000\n",
      "250000\n",
      "CPU times: total: 37min 47s\n",
      "Wall time: 37min 50s\n"
     ]
    }
   ],
   "source": [
    "%%time\n",
    "# считается 37 минут, нужно быть аккуратнее!\n",
    "\n",
    "delta = timedelta(minutes=30)\n",
    "Alice_nearby_2 = np.zeros(shape=(1,len(train_df)))\n",
    "\n",
    "i = 0\n",
    "for ind in train_df.index:\n",
    "    session = train_df.loc[ind]\n",
    "    temp = train_df[(train_df.session_strt > (session.session_strt - delta))\n",
    "                   &(train_df.session_strt < (session.session_end  + delta))]\n",
    "    Alice_nearby_2[0][i] = len(temp[temp.y_pred > 0.5])\n",
    "    if (i)%10000==0:\n",
    "        print(i)\n",
    "        #break\n",
    "    i+=1\n",
    "    \n",
    "train_df[\"Alice_nearby_2\"] = Alice_nearby_2.T"
   ]
  },
  {
   "cell_type": "code",
   "execution_count": 107,
   "metadata": {},
   "outputs": [],
   "source": [
    "# сохраняем парамеры для дальнейшего использования, чтобы не перезапускать расчёты\n",
    "np.savetxt(\"Alice_nearby_2_train.txt\", Alice_nearby.T, fmt='%i', delimiter=\" \")"
   ]
  },
  {
   "cell_type": "code",
   "execution_count": 113,
   "metadata": {},
   "outputs": [
    {
     "data": {
      "text/plain": [
       "246.0"
      ]
     },
     "execution_count": 113,
     "metadata": {},
     "output_type": "execute_result"
    }
   ],
   "source": [
    "max(Alice_nearby_2[0])"
   ]
  },
  {
   "cell_type": "markdown",
   "metadata": {},
   "source": [
    "Как можем видеть, максимальное значение получилось аж 246 посещений, поэтому проведём нормализацию делением на 250"
   ]
  },
  {
   "cell_type": "code",
   "execution_count": 116,
   "metadata": {},
   "outputs": [
    {
     "data": {
      "text/plain": [
       "0.984"
      ]
     },
     "execution_count": 116,
     "metadata": {},
     "output_type": "execute_result"
    }
   ],
   "source": [
    "Alice_nearby_2 = Alice_nearby_2 /250\n",
    "max(Alice_nearby_2[0])"
   ]
  },
  {
   "cell_type": "code",
   "execution_count": 117,
   "metadata": {},
   "outputs": [
    {
     "data": {
      "text/plain": [
       "<253561x50020 sparse matrix of type '<class 'numpy.int64'>'\n",
       "\twith 4634168 stored elements in Compressed Sparse Row format>"
      ]
     },
     "execution_count": 117,
     "metadata": {},
     "output_type": "execute_result"
    }
   ],
   "source": [
    "# добавляем полученное поле в выборку\n",
    "C_nearby_2 = csr_matrix(Alice_nearby_2.T, dtype=np.int64)\n",
    "X_train_nearby_2 = hstack((X_train_week6_hour9to19_endSes_Alice, C_nearby_2))\n",
    "X_train_nearby_2"
   ]
  },
  {
   "cell_type": "markdown",
   "metadata": {},
   "source": [
    "# Этап 3 изменяем количество \"соседей\""
   ]
  },
  {
   "cell_type": "markdown",
   "metadata": {},
   "source": [
    "Сперва изучается 1 сосед, вместо 4, точность от данного опыта, к сожалению, снизилась.\n",
    "\n",
    "*Что и логично, ведь 1 сосед всегда будет, если данная выборка является достаточным кандидатом.\n",
    "\n",
    "\n",
    "### (-) Указанная гипотеза дала отрицательный результат"
   ]
  },
  {
   "cell_type": "code",
   "execution_count": 35,
   "metadata": {},
   "outputs": [
    {
     "name": "stdout",
     "output_type": "stream",
     "text": [
      "0\n",
      "10000\n",
      "20000\n",
      "30000\n",
      "40000\n",
      "50000\n",
      "60000\n",
      "70000\n",
      "80000\n",
      "90000\n",
      "100000\n",
      "110000\n",
      "120000\n",
      "130000\n",
      "140000\n",
      "150000\n",
      "160000\n",
      "170000\n",
      "180000\n",
      "190000\n",
      "200000\n",
      "210000\n",
      "220000\n",
      "230000\n",
      "240000\n",
      "250000\n",
      "CPU times: total: 36min 11s\n",
      "Wall time: 36min 12s\n"
     ]
    }
   ],
   "source": [
    "%%time\n",
    "# считается 37 минут, нужно быть аккуратнее!\n",
    "\n",
    "delta = timedelta(minutes=30)\n",
    "Alice_nearby = np.zeros(shape=(1,len(train_df)))\n",
    "\n",
    "i = 0\n",
    "for ind in train_df.index:\n",
    "    session = train_df.loc[ind]\n",
    "    temp = train_df[(train_df.session_strt > (session.session_strt - delta))\n",
    "                   &(train_df.session_strt < (session.session_end  + delta))]\n",
    "    len_temp_good = len(temp[temp.y_pred > 0.5])\n",
    "    if len_temp_good>=1:\n",
    "        Alice_nearby[0][i] = 1\n",
    "    if (i)%10000==0:\n",
    "        print(i)\n",
    "        #break\n",
    "    i+=1\n",
    "    \n",
    "train_df[\"Alice_nearby\"] = Alice_nearby.T"
   ]
  },
  {
   "cell_type": "code",
   "execution_count": 38,
   "metadata": {},
   "outputs": [
    {
     "data": {
      "text/plain": [
       "<253561x50020 sparse matrix of type '<class 'numpy.int64'>'\n",
       "\twith 4634168 stored elements in Compressed Sparse Row format>"
      ]
     },
     "execution_count": 38,
     "metadata": {},
     "output_type": "execute_result"
    }
   ],
   "source": [
    "# Ищется хотя бы 1 сосед\n",
    "# сохраняем парамеры для дальнейшего использования, чтобы не перезапускать расчёты\n",
    "np.savetxt(\"Alice_nearby_3_train.txt\", Alice_nearby.T, fmt='%i', delimiter=\" \")\n",
    "# добавляем полученное поле в выборку\n",
    "C_nearby_3 = csr_matrix(Alice_nearby.T, dtype=np.int64)\n",
    "X_train_nearby_3 = hstack((X_train_week6_hour9to19_endSes_Alice, C_nearby_3))\n",
    "X_train_nearby_3"
   ]
  },
  {
   "cell_type": "code",
   "execution_count": 36,
   "metadata": {},
   "outputs": [
    {
     "name": "stdout",
     "output_type": "stream",
     "text": [
      "0\n",
      "10000\n",
      "20000\n",
      "30000\n",
      "40000\n",
      "50000\n",
      "60000\n",
      "70000\n",
      "80000\n",
      "CPU times: total: 10min 29s\n",
      "Wall time: 10min 29s\n"
     ]
    }
   ],
   "source": [
    "%%time\n",
    "# 12.5 минут!\n",
    "\n",
    "delta = timedelta(minutes=30)\n",
    "Alice_test_nearby = np.zeros(shape=(1,len(test_df)))\n",
    "\n",
    "i = 0\n",
    "for ind in test_df.index:\n",
    "    session = test_df.loc[ind]\n",
    "    temp = test_df[(test_df.session_strt > (session.session_strt - delta))\n",
    "                  &(test_df.session_strt < (session.session_end  + delta))]\n",
    "    len_temp_good = len(temp[temp.y_pred > 0.5])\n",
    "    if len_temp_good>=1:\n",
    "        Alice_test_nearby[0][i] = 1\n",
    "    if (i)%10000==0:\n",
    "        print(i)\n",
    "        #break\n",
    "    i+=1\n",
    "    \n",
    "test_df[\"Alice_nearby\"] = Alice_test_nearby.T"
   ]
  },
  {
   "cell_type": "code",
   "execution_count": 47,
   "metadata": {},
   "outputs": [
    {
     "data": {
      "text/plain": [
       "<82797x50020 sparse matrix of type '<class 'numpy.int64'>'\n",
       "\twith 1436046 stored elements in Compressed Sparse Row format>"
      ]
     },
     "execution_count": 47,
     "metadata": {},
     "output_type": "execute_result"
    }
   ],
   "source": [
    "# Ищется хотя бы 1 сосед\n",
    "# сохраняем парамеры для дальнейшего использования, чтобы не перезапускать расчёты\n",
    "np.savetxt(\"Alice_nearby_3_test.txt\", Alice_test_nearby.T, fmt='%i', delimiter=\" \")\n",
    "# добавляем полученное поле в выборку\n",
    "C_nearby_3 = csr_matrix(Alice_test_nearby.T, dtype=np.int64)\n",
    "X_test_nearby_3 = hstack((X_test_week6_hour9to19_endSes_Alice, C_nearby_3))\n",
    "X_test_nearby_3"
   ]
  },
  {
   "cell_type": "markdown",
   "metadata": {},
   "source": [
    "# Этап 4 изменяем порог \"соседей\""
   ]
  },
  {
   "cell_type": "markdown",
   "metadata": {},
   "source": [
    "Меняем 50% на 30%, точность от данного опыта, к сожалению, снизилась\n",
    "\n",
    "\n",
    "### (-) Указанная гипотеза дала отрицательный результат"
   ]
  },
  {
   "cell_type": "code",
   "execution_count": 49,
   "metadata": {},
   "outputs": [
    {
     "name": "stdout",
     "output_type": "stream",
     "text": [
      "0\n",
      "10000\n",
      "20000\n",
      "30000\n",
      "40000\n",
      "50000\n",
      "60000\n",
      "70000\n",
      "80000\n",
      "90000\n",
      "100000\n",
      "110000\n",
      "120000\n",
      "130000\n",
      "140000\n",
      "150000\n",
      "160000\n",
      "170000\n",
      "180000\n",
      "190000\n",
      "200000\n",
      "210000\n",
      "220000\n",
      "230000\n",
      "240000\n",
      "250000\n",
      "CPU times: total: 35min 27s\n",
      "Wall time: 35min 28s\n"
     ]
    }
   ],
   "source": [
    "%%time\n",
    "# считается 37 минут, нужно быть аккуратнее!\n",
    "\n",
    "delta = timedelta(minutes=30)\n",
    "Alice_nearby = np.zeros(shape=(1,len(train_df)))\n",
    "\n",
    "i = 0\n",
    "for ind in train_df.index:\n",
    "    session = train_df.loc[ind]\n",
    "    temp = train_df[(train_df.session_strt > (session.session_strt - delta))\n",
    "                   &(train_df.session_strt < (session.session_end  + delta))]\n",
    "    len_temp_good = len(temp[temp.y_pred > 0.3])\n",
    "    if len_temp_good>3:\n",
    "        Alice_nearby[0][i] = 1\n",
    "    if (i)%10000==0:\n",
    "        print(i)\n",
    "        #break\n",
    "    i+=1\n",
    "    \n",
    "train_df[\"Alice_nearby\"] = Alice_nearby.T"
   ]
  },
  {
   "cell_type": "code",
   "execution_count": 53,
   "metadata": {},
   "outputs": [
    {
     "data": {
      "text/plain": [
       "<253561x50020 sparse matrix of type '<class 'numpy.int64'>'\n",
       "\twith 4632048 stored elements in Compressed Sparse Row format>"
      ]
     },
     "execution_count": 53,
     "metadata": {},
     "output_type": "execute_result"
    }
   ],
   "source": [
    "# Ищется хотя бы 1 сосед\n",
    "# сохраняем парамеры для дальнейшего использования, чтобы не перезапускать расчёты\n",
    "np.savetxt(\"Alice_nearby_4_train.txt\", Alice_nearby.T, fmt='%i', delimiter=\" \")\n",
    "# добавляем полученное поле в выборку\n",
    "C_nearby_4 = csr_matrix(Alice_nearby.T, dtype=np.int64)\n",
    "X_train_nearby_4 = hstack((X_train_week6_hour9to19_endSes_Alice, C_nearby_4))\n",
    "X_train_nearby_4"
   ]
  },
  {
   "cell_type": "code",
   "execution_count": 50,
   "metadata": {},
   "outputs": [
    {
     "name": "stdout",
     "output_type": "stream",
     "text": [
      "0\n",
      "10000\n",
      "20000\n",
      "30000\n",
      "40000\n",
      "50000\n",
      "60000\n",
      "70000\n",
      "80000\n",
      "CPU times: total: 10min 29s\n",
      "Wall time: 10min 29s\n"
     ]
    }
   ],
   "source": [
    "%%time\n",
    "# 12.5 минут!\n",
    "\n",
    "delta = timedelta(minutes=30)\n",
    "Alice_test_nearby = np.zeros(shape=(1,len(test_df)))\n",
    "\n",
    "i = 0\n",
    "for ind in test_df.index:\n",
    "    session = test_df.loc[ind]\n",
    "    temp = test_df[(test_df.session_strt > (session.session_strt - delta))\n",
    "                  &(test_df.session_strt < (session.session_end  + delta))]\n",
    "    len_temp_good = len(temp[temp.y_pred > 0.3])\n",
    "    if len_temp_good>3:\n",
    "        Alice_test_nearby[0][i] = 1\n",
    "    if (i)%10000==0:\n",
    "        print(i)\n",
    "        #break\n",
    "    i+=1\n",
    "    \n",
    "test_df[\"Alice_nearby\"] = Alice_test_nearby.T"
   ]
  },
  {
   "cell_type": "code",
   "execution_count": 52,
   "metadata": {},
   "outputs": [
    {
     "data": {
      "text/plain": [
       "<82797x50020 sparse matrix of type '<class 'numpy.int64'>'\n",
       "\twith 1434794 stored elements in Compressed Sparse Row format>"
      ]
     },
     "execution_count": 52,
     "metadata": {},
     "output_type": "execute_result"
    }
   ],
   "source": [
    "# Ищется хотя бы 1 сосед\n",
    "# сохраняем парамеры для дальнейшего использования, чтобы не перезапускать расчёты\n",
    "np.savetxt(\"Alice_nearby_4_test.txt\", Alice_test_nearby.T, fmt='%i', delimiter=\" \")\n",
    "# добавляем полученное поле в выборку\n",
    "C_nearby_4 = csr_matrix(Alice_test_nearby.T, dtype=np.int64)\n",
    "X_test_nearby_4 = hstack((X_test_week6_hour9to19_endSes_Alice, C_nearby_4))\n",
    "X_test_nearby_4"
   ]
  },
  {
   "cell_type": "markdown",
   "metadata": {},
   "source": [
    "# Этап 5"
   ]
  },
  {
   "cell_type": "markdown",
   "metadata": {},
   "source": [
    "Для дальнейших исследований создадим функцию производящую расчёты описанные выше и запустим её на ночь для исследования оптимального колличества соседей, порога и временного разброса.\n",
    "\n",
    "*Данная функция может иметь множество неоптимальностей, и очень вероятно, время её работы можно существенно сократить.\n",
    "\n",
    "** В итоге запуск осуществлялсь по отдельно созданному алгоритму, так как использование функции для каждого значения не оптимально и приводит к существенному увеличению времени расчёта.\n",
    "\n",
    "\n",
    "\n",
    "### (+) Указанная гипотеза дала положительный результат"
   ]
  },
  {
   "cell_type": "code",
   "execution_count": 66,
   "metadata": {},
   "outputs": [],
   "source": [
    "def neighbors(df, quantity : int, fraction : float, period_minutes : int):\n",
    "    delta = timedelta(minutes=period_minutes)\n",
    "    Alice_nearby = np.zeros(shape=(1,len(df)))\n",
    "\n",
    "    i = 0\n",
    "    for ind in df.index:\n",
    "        session = df.loc[ind]\n",
    "        temp = df[(df.session_strt > (session.session_strt - delta))\n",
    "                 &(df.session_strt < (session.session_end  + delta))]\n",
    "        len_temp_good = len(temp[temp.y_pred > fraction])\n",
    "        if len_temp_good>=quantity:\n",
    "            Alice_nearby[0][i] = 1\n",
    "        i+=1\n",
    "\n",
    "    return Alice_nearby.T"
   ]
  },
  {
   "cell_type": "markdown",
   "metadata": {},
   "source": [
    "Далее запускаем цикл с перебором интересующих диапазонов\n",
    "+ по количеству соседей [1, 2, 3, 4, 5, 6, 7, 8, 9]. Выбран большой диапазон, так как проверка имеет максимальную глубину и мало увеличивает сложность вычисления.\n",
    "+ по доли, от которой соседа можно считать валидной [0.3, 0.4, 0.5, 0.6, 0.7], 0,5+-0,2. Уровень вложенности средний. Добавляет фильтрацию от уже уменьшенного по времени массива, поэтому сложность хоть и возрастает, но не так сильно, как от перебора временных интервалов\n",
    "+ по временному разбросу [20, 30, 40, 50, 60] минут\n",
    "\n",
    "Оринетировочное время опыта 5x1,5ч (90минут) = 7,5 часов. 1,5 часа было получено из тестовых пусков до вылета первых ошибок."
   ]
  },
  {
   "cell_type": "markdown",
   "metadata": {},
   "source": [
    "### Получилось:\n",
    "CPU times: total: 7h 34min 21s\n",
    "\n",
    "Wall time: 8h 51min 55s"
   ]
  },
  {
   "cell_type": "code",
   "execution_count": 131,
   "metadata": {},
   "outputs": [
    {
     "name": "stdout",
     "output_type": "stream",
     "text": [
      "period_minutes = 20\n",
      "quantity = 1| fraction = 0.3| period_minutes = 20\n",
      "[0.8742 0.9649 0.9949 0.9306 0.9803 0.9941 0.6159 0.9862 0.9957 0.9903] Среднее значение по 10-ти фолдам: 0.9327\n",
      "quantity = 1| fraction = 0.4| period_minutes = 20\n",
      "[0.867  0.9691 0.9891 0.9498 0.9841 0.9955 0.6901 0.9895 0.998  0.9906] Среднее значение по 10-ти фолдам: 0.9423\n",
      "quantity = 1| fraction = 0.5| period_minutes = 20\n",
      "[0.8656 0.9743 0.9878 0.9617 0.9649 0.9809 0.7244 0.9908 0.9978 0.9912] Среднее значение по 10-ти фолдам: 0.9439\n",
      "quantity = 1| fraction = 0.6| period_minutes = 20\n",
      "[0.8525 0.9746 0.9868 0.9566 0.9748 0.9765 0.8281 0.9916 0.9979 0.9926] Среднее значение по 10-ти фолдам: 0.9532\n",
      "quantity = 1| fraction = 0.7| period_minutes = 20\n",
      "[0.8483 0.9742 0.9872 0.959  0.9773 0.9761 0.8618 0.9917 0.9949 0.9928] Среднее значение по 10-ти фолдам: 0.9563\n",
      "quantity = 2| fraction = 0.3| period_minutes = 20\n",
      "[0.8775 0.9691 0.9957 0.948  0.9875 0.9946 0.6153 0.9909 0.9959 0.9905] Среднее значение по 10-ти фолдам: 0.9365\n",
      "quantity = 2| fraction = 0.4| period_minutes = 20\n",
      "[0.875  0.9769 0.9915 0.9591 0.9886 0.9816 0.756  0.9917 0.9984 0.991 ] Среднее значение по 10-ти фолдам: 0.951\n",
      "quantity = 2| fraction = 0.5| period_minutes = 20\n",
      "[0.8466 0.9733 0.9898 0.952  0.9772 0.9793 0.8558 0.9923 0.9983 0.9933] Среднее значение по 10-ти фолдам: 0.9558\n",
      "quantity = 2| fraction = 0.6| period_minutes = 20\n",
      "[0.8472 0.9737 0.9878 0.9245 0.9787 0.9765 0.8892 0.9919 0.9982 0.9934] Среднее значение по 10-ти фолдам: 0.9561\n",
      "quantity = 2| fraction = 0.7| period_minutes = 20\n",
      "[0.8471 0.9683 0.9866 0.9079 0.9812 0.9777 0.8895 0.992  0.9956 0.9938] Среднее значение по 10-ти фолдам: 0.954\n",
      "quantity = 3| fraction = 0.3| period_minutes = 20\n",
      "[0.8642 0.9694 0.9916 0.9512 0.9887 0.9957 0.8226 0.9916 0.9978 0.992 ] Среднее значение по 10-ти фолдам: 0.9565\n",
      "quantity = 3| fraction = 0.4| period_minutes = 20\n",
      "[0.8569 0.9748 0.9897 0.9616 0.9921 0.9807 0.848  0.9917 0.9983 0.9932] Среднее значение по 10-ти фолдам: 0.9587\n",
      "quantity = 3| fraction = 0.5| period_minutes = 20\n",
      "[0.8388 0.9713 0.9873 0.9183 0.9789 0.9797 0.8935 0.9895 0.9984 0.9936] Среднее значение по 10-ти фолдам: 0.9549\n",
      "quantity = 3| fraction = 0.6| period_minutes = 20\n",
      "[0.8378 0.9666 0.9868 0.9045 0.9812 0.9775 0.8917 0.9848 0.9985 0.9948] Среднее значение по 10-ти фолдам: 0.9524\n",
      "quantity = 3| fraction = 0.7| period_minutes = 20\n",
      "[0.834  0.9672 0.9866 0.8987 0.9818 0.978  0.887  0.9826 0.996  0.9954] Среднее значение по 10-ти фолдам: 0.9507\n",
      "quantity = 4| fraction = 0.3| period_minutes = 20\n",
      "[0.856  0.9702 0.9894 0.9141 0.9921 0.9814 0.8635 0.9915 0.9983 0.9941] Среднее значение по 10-ти фолдам: 0.955\n",
      "quantity = 4| fraction = 0.4| period_minutes = 20\n",
      "[0.84   0.972  0.9873 0.9098 0.9924 0.979  0.8727 0.9905 0.9983 0.9944] Среднее значение по 10-ти фолдам: 0.9536\n",
      "quantity = 4| fraction = 0.5| period_minutes = 20\n",
      "[0.8339 0.9676 0.9873 0.8964 0.9802 0.9777 0.8866 0.9833 0.9975 0.9956] Среднее значение по 10-ти фолдам: 0.9506\n",
      "quantity = 4| fraction = 0.6| period_minutes = 20\n",
      "[0.837  0.9676 0.9888 0.8906 0.9832 0.9756 0.8896 0.9842 0.9916 0.9959] Среднее значение по 10-ти фолдам: 0.9504\n",
      "quantity = 4| fraction = 0.7| period_minutes = 20\n",
      "[0.8404 0.9676 0.9886 0.8913 0.9838 0.9765 0.888  0.9845 0.9916 0.9954] Среднее значение по 10-ти фолдам: 0.9508\n",
      "quantity = 5| fraction = 0.3| period_minutes = 20\n",
      "[0.8494 0.9694 0.9886 0.9066 0.9922 0.9784 0.8647 0.9897 0.9984 0.9946] Среднее значение по 10-ти фолдам: 0.9532\n",
      "quantity = 5| fraction = 0.4| period_minutes = 20\n",
      "[0.8319 0.9658 0.9872 0.8957 0.9925 0.9789 0.8793 0.9809 0.9975 0.9945] Среднее значение по 10-ти фолдам: 0.9504\n",
      "quantity = 5| fraction = 0.5| period_minutes = 20\n",
      "[0.835  0.9655 0.9874 0.8922 0.981  0.9771 0.8894 0.9835 0.9966 0.9955] Среднее значение по 10-ти фолдам: 0.9503\n",
      "quantity = 5| fraction = 0.6| period_minutes = 20\n",
      "[0.8388 0.966  0.9885 0.8406 0.973  0.9793 0.8834 0.9844 0.9933 0.994 ] Среднее значение по 10-ти фолдам: 0.9441\n",
      "quantity = 5| fraction = 0.7| period_minutes = 20\n",
      "[0.8389 0.9607 0.9874 0.7869 0.9749 0.9805 0.8846 0.9853 0.988  0.9941] Среднее значение по 10-ти фолдам: 0.9381\n",
      "quantity = 6| fraction = 0.3| period_minutes = 20\n",
      "[0.7632 0.931  0.9783 0.7874 0.9743 0.9715 0.8266 0.9789 0.9907 0.9852] Среднее значение по 10-ти фолдам: 0.9187\n",
      "quantity = 6| fraction = 0.4| period_minutes = 20\n",
      "[0.7632 0.931  0.9783 0.7874 0.9743 0.9715 0.8266 0.9789 0.9907 0.9852] Среднее значение по 10-ти фолдам: 0.9187\n",
      "quantity = 6| fraction = 0.5| period_minutes = 20\n",
      "[0.7632 0.931  0.9783 0.7874 0.9743 0.9715 0.8266 0.9789 0.9907 0.9852] Среднее значение по 10-ти фолдам: 0.9187\n",
      "quantity = 6| fraction = 0.6| period_minutes = 20\n",
      "[0.7632 0.931  0.9783 0.7874 0.9743 0.9715 0.8266 0.9789 0.9907 0.9852] Среднее значение по 10-ти фолдам: 0.9187\n",
      "quantity = 6| fraction = 0.7| period_minutes = 20\n",
      "[0.7632 0.931  0.9783 0.7874 0.9743 0.9715 0.8266 0.9789 0.9907 0.9852] Среднее значение по 10-ти фолдам: 0.9187\n",
      "quantity = 7| fraction = 0.3| period_minutes = 20\n",
      "[0.7632 0.931  0.9783 0.7874 0.9743 0.9715 0.8266 0.9789 0.9907 0.9852] Среднее значение по 10-ти фолдам: 0.9187\n",
      "quantity = 7| fraction = 0.4| period_minutes = 20\n",
      "[0.7632 0.931  0.9783 0.7874 0.9743 0.9715 0.8266 0.9789 0.9907 0.9852] Среднее значение по 10-ти фолдам: 0.9187\n",
      "quantity = 7| fraction = 0.5| period_minutes = 20\n",
      "[0.7632 0.931  0.9783 0.7874 0.9743 0.9715 0.8266 0.9789 0.9907 0.9852] Среднее значение по 10-ти фолдам: 0.9187\n",
      "quantity = 7| fraction = 0.6| period_minutes = 20\n",
      "[0.7632 0.931  0.9783 0.7874 0.9743 0.9715 0.8266 0.9789 0.9907 0.9852] Среднее значение по 10-ти фолдам: 0.9187\n",
      "quantity = 7| fraction = 0.7| period_minutes = 20\n",
      "[0.7632 0.931  0.9783 0.7874 0.9743 0.9715 0.8266 0.9789 0.9907 0.9852] Среднее значение по 10-ти фолдам: 0.9187\n",
      "quantity = 8| fraction = 0.3| period_minutes = 20\n",
      "[0.7632 0.931  0.9783 0.7874 0.9743 0.9715 0.8266 0.9789 0.9907 0.9852] Среднее значение по 10-ти фолдам: 0.9187\n",
      "quantity = 8| fraction = 0.4| period_minutes = 20\n",
      "[0.7632 0.931  0.9783 0.7874 0.9743 0.9715 0.8266 0.9789 0.9907 0.9852] Среднее значение по 10-ти фолдам: 0.9187\n",
      "quantity = 8| fraction = 0.5| period_minutes = 20\n",
      "[0.7632 0.931  0.9783 0.7874 0.9743 0.9715 0.8266 0.9789 0.9907 0.9852] Среднее значение по 10-ти фолдам: 0.9187\n",
      "quantity = 8| fraction = 0.6| period_minutes = 20\n",
      "[0.7632 0.931  0.9783 0.7874 0.9743 0.9715 0.8266 0.9789 0.9907 0.9852] Среднее значение по 10-ти фолдам: 0.9187\n",
      "quantity = 8| fraction = 0.7| period_minutes = 20\n",
      "[0.7632 0.931  0.9783 0.7874 0.9743 0.9715 0.8266 0.9789 0.9907 0.9852] Среднее значение по 10-ти фолдам: 0.9187\n",
      "quantity = 9| fraction = 0.3| period_minutes = 20\n",
      "[0.7632 0.931  0.9783 0.7874 0.9743 0.9715 0.8266 0.9789 0.9907 0.9852] Среднее значение по 10-ти фолдам: 0.9187\n",
      "quantity = 9| fraction = 0.4| period_minutes = 20\n",
      "[0.7632 0.931  0.9783 0.7874 0.9743 0.9715 0.8266 0.9789 0.9907 0.9852] Среднее значение по 10-ти фолдам: 0.9187\n",
      "quantity = 9| fraction = 0.5| period_minutes = 20\n",
      "[0.7632 0.931  0.9783 0.7874 0.9743 0.9715 0.8266 0.9789 0.9907 0.9852] Среднее значение по 10-ти фолдам: 0.9187\n",
      "quantity = 9| fraction = 0.6| period_minutes = 20\n",
      "[0.7632 0.931  0.9783 0.7874 0.9743 0.9715 0.8266 0.9789 0.9907 0.9852] Среднее значение по 10-ти фолдам: 0.9187\n",
      "quantity = 9| fraction = 0.7| period_minutes = 20\n",
      "[0.7632 0.931  0.9783 0.7874 0.9743 0.9715 0.8266 0.9789 0.9907 0.9852] Среднее значение по 10-ти фолдам: 0.9187\n",
      "period_minutes = 30\n",
      "quantity = 1| fraction = 0.3| period_minutes = 30\n",
      "[0.8706 0.9645 0.9945 0.9256 0.9783 0.9934 0.6176 0.9855 0.9954 0.9907] Среднее значение по 10-ти фолдам: 0.9316\n",
      "quantity = 1| fraction = 0.4| period_minutes = 30\n",
      "[0.8773 0.9686 0.9956 0.9486 0.9816 0.9959 0.6349 0.9891 0.9974 0.9915] Среднее значение по 10-ти фолдам: 0.938\n",
      "quantity = 1| fraction = 0.5| period_minutes = 30\n",
      "[0.8598 0.973  0.996  0.9574 0.9637 0.9814 0.6641 0.9904 0.9971 0.9917] Среднее значение по 10-ти фолдам: 0.9375\n",
      "quantity = 1| fraction = 0.6| period_minutes = 30\n",
      "[0.8568 0.973  0.9964 0.9618 0.9667 0.9782 0.7593 0.9914 0.9971 0.9936] Среднее значение по 10-ти фолдам: 0.9474\n",
      "quantity = 1| fraction = 0.7| period_minutes = 30\n",
      "[0.858  0.9707 0.9878 0.9657 0.9724 0.9799 0.8196 0.9915 0.9979 0.9936] Среднее значение по 10-ти фолдам: 0.9537\n",
      "quantity = 2| fraction = 0.3| period_minutes = 30\n"
     ]
    },
    {
     "name": "stdout",
     "output_type": "stream",
     "text": [
      "[0.8788 0.9694 0.9955 0.9455 0.9868 0.9942 0.5744 0.9908 0.9953 0.9914] Среднее значение по 10-ти фолдам: 0.9322\n",
      "quantity = 2| fraction = 0.4| period_minutes = 30\n",
      "[0.8739 0.975  0.9969 0.9579 0.9877 0.9822 0.6855 0.9916 0.998  0.9917] Среднее значение по 10-ти фолдам: 0.9441\n",
      "quantity = 2| fraction = 0.5| period_minutes = 30\n",
      "[0.8646 0.9739 0.9973 0.9622 0.9726 0.9785 0.8204 0.9922 0.9979 0.9938] Среднее значение по 10-ти фолдам: 0.9553\n",
      "quantity = 2| fraction = 0.6| period_minutes = 30\n",
      "[0.8583 0.9735 0.9972 0.9439 0.9738 0.98   0.8693 0.9922 0.9978 0.994 ] Среднее значение по 10-ти фолдам: 0.958\n",
      "quantity = 2| fraction = 0.7| period_minutes = 30\n",
      "[0.8479 0.9732 0.9873 0.933  0.9789 0.9804 0.8878 0.9921 0.9982 0.9939] Среднее значение по 10-ти фолдам: 0.9573\n",
      "quantity = 3| fraction = 0.3| period_minutes = 30\n",
      "[0.8754 0.9675 0.9967 0.9494 0.9873 0.996  0.76   0.9916 0.9974 0.9921] Среднее значение по 10-ти фолдам: 0.9513\n",
      "quantity = 3| fraction = 0.4| period_minutes = 30\n",
      "[0.8737 0.9727 0.997  0.9647 0.9914 0.9793 0.8026 0.9918 0.998  0.9937] Среднее значение по 10-ти фолдам: 0.9565\n",
      "quantity = 3| fraction = 0.5| period_minutes = 30\n",
      "[0.8519 0.9739 0.9875 0.9423 0.9758 0.9799 0.8804 0.9915 0.9981 0.9938] Среднее значение по 10-ти фолдам: 0.9575\n",
      "quantity = 3| fraction = 0.6| period_minutes = 30\n",
      "[0.8441 0.9682 0.9875 0.9298 0.9789 0.9803 0.8942 0.9912 0.9981 0.995 ] Среднее значение по 10-ти фолдам: 0.9567\n",
      "quantity = 3| fraction = 0.7| period_minutes = 30\n",
      "[0.8377 0.9672 0.9873 0.9238 0.9799 0.9805 0.8888 0.991  0.9983 0.996 ] Среднее значение по 10-ти фолдам: 0.9551\n",
      "quantity = 4| fraction = 0.3| period_minutes = 30\n",
      "[0.8701 0.9714 0.9968 0.9332 0.9916 0.981  0.8385 0.9917 0.9981 0.9948] Среднее значение по 10-ти фолдам: 0.9567\n",
      "quantity = 4| fraction = 0.4| period_minutes = 30\n",
      "[0.8518 0.9733 0.9874 0.9351 0.9919 0.9819 0.8587 0.992  0.998  0.9947] Среднее значение по 10-ти фолдам: 0.9565\n",
      "quantity = 4| fraction = 0.5| period_minutes = 30\n",
      "[0.8387 0.9678 0.9873 0.9175 0.979  0.9808 0.8795 0.9907 0.998  0.9959] Среднее значение по 10-ти фолдам: 0.9535\n",
      "quantity = 4| fraction = 0.6| period_minutes = 30\n",
      "[0.8406 0.9689 0.9886 0.9158 0.9821 0.9783 0.8836 0.9913 0.9984 0.996 ] Среднее значение по 10-ти фолдам: 0.9543\n",
      "quantity = 4| fraction = 0.7| period_minutes = 30\n",
      "[0.8404 0.9672 0.9886 0.9169 0.9825 0.978  0.8809 0.9912 0.9916 0.9961] Среднее значение по 10-ти фолдам: 0.9533\n",
      "quantity = 5| fraction = 0.3| period_minutes = 30\n",
      "[0.8576 0.9739 0.9964 0.9288 0.9919 0.9811 0.8453 0.9918 0.9981 0.995 ] Среднее значение по 10-ти фолдам: 0.956\n",
      "quantity = 5| fraction = 0.4| period_minutes = 30\n",
      "[0.8408 0.967  0.9872 0.9203 0.9921 0.981  0.8752 0.9904 0.9981 0.9954] Среднее значение по 10-ти фолдам: 0.9548\n",
      "quantity = 5| fraction = 0.5| period_minutes = 30\n",
      "[0.8378 0.9676 0.9877 0.9193 0.9795 0.9792 0.8887 0.9912 0.9983 0.9962] Среднее значение по 10-ти фолдам: 0.9546\n",
      "quantity = 5| fraction = 0.6| period_minutes = 30\n",
      "[0.8424 0.9672 0.9884 0.8793 0.9685 0.9783 0.8816 0.9909 0.9937 0.9952] Среднее значение по 10-ти фолдам: 0.9486\n",
      "quantity = 5| fraction = 0.7| period_minutes = 30\n",
      "[0.8429 0.9662 0.9885 0.7909 0.9714 0.9809 0.8832 0.9909 0.9814 0.9949] Среднее значение по 10-ти фолдам: 0.9391\n",
      "quantity = 6| fraction = 0.3| period_minutes = 30\n",
      "[0.7632 0.931  0.9783 0.7874 0.9743 0.9715 0.8266 0.9789 0.9907 0.9852] Среднее значение по 10-ти фолдам: 0.9187\n",
      "quantity = 6| fraction = 0.4| period_minutes = 30\n",
      "[0.7632 0.931  0.9783 0.7874 0.9743 0.9715 0.8266 0.9789 0.9907 0.9852] Среднее значение по 10-ти фолдам: 0.9187\n",
      "quantity = 6| fraction = 0.5| period_minutes = 30\n",
      "[0.7632 0.931  0.9783 0.7874 0.9743 0.9715 0.8266 0.9789 0.9907 0.9852] Среднее значение по 10-ти фолдам: 0.9187\n",
      "quantity = 6| fraction = 0.6| period_minutes = 30\n",
      "[0.7632 0.931  0.9783 0.7874 0.9743 0.9715 0.8266 0.9789 0.9907 0.9852] Среднее значение по 10-ти фолдам: 0.9187\n",
      "quantity = 6| fraction = 0.7| period_minutes = 30\n",
      "[0.7632 0.931  0.9783 0.7874 0.9743 0.9715 0.8266 0.9789 0.9907 0.9852] Среднее значение по 10-ти фолдам: 0.9187\n",
      "quantity = 7| fraction = 0.3| period_minutes = 30\n",
      "[0.7632 0.931  0.9783 0.7874 0.9743 0.9715 0.8266 0.9789 0.9907 0.9852] Среднее значение по 10-ти фолдам: 0.9187\n",
      "quantity = 7| fraction = 0.4| period_minutes = 30\n",
      "[0.7632 0.931  0.9783 0.7874 0.9743 0.9715 0.8266 0.9789 0.9907 0.9852] Среднее значение по 10-ти фолдам: 0.9187\n",
      "quantity = 7| fraction = 0.5| period_minutes = 30\n",
      "[0.7632 0.931  0.9783 0.7874 0.9743 0.9715 0.8266 0.9789 0.9907 0.9852] Среднее значение по 10-ти фолдам: 0.9187\n",
      "quantity = 7| fraction = 0.6| period_minutes = 30\n",
      "[0.7632 0.931  0.9783 0.7874 0.9743 0.9715 0.8266 0.9789 0.9907 0.9852] Среднее значение по 10-ти фолдам: 0.9187\n",
      "quantity = 7| fraction = 0.7| period_minutes = 30\n",
      "[0.7632 0.931  0.9783 0.7874 0.9743 0.9715 0.8266 0.9789 0.9907 0.9852] Среднее значение по 10-ти фолдам: 0.9187\n",
      "quantity = 8| fraction = 0.3| period_minutes = 30\n",
      "[0.7632 0.931  0.9783 0.7874 0.9743 0.9715 0.8266 0.9789 0.9907 0.9852] Среднее значение по 10-ти фолдам: 0.9187\n",
      "quantity = 8| fraction = 0.4| period_minutes = 30\n",
      "[0.7632 0.931  0.9783 0.7874 0.9743 0.9715 0.8266 0.9789 0.9907 0.9852] Среднее значение по 10-ти фолдам: 0.9187\n",
      "quantity = 8| fraction = 0.5| period_minutes = 30\n",
      "[0.7632 0.931  0.9783 0.7874 0.9743 0.9715 0.8266 0.9789 0.9907 0.9852] Среднее значение по 10-ти фолдам: 0.9187\n",
      "quantity = 8| fraction = 0.6| period_minutes = 30\n",
      "[0.7632 0.931  0.9783 0.7874 0.9743 0.9715 0.8266 0.9789 0.9907 0.9852] Среднее значение по 10-ти фолдам: 0.9187\n",
      "quantity = 8| fraction = 0.7| period_minutes = 30\n",
      "[0.7632 0.931  0.9783 0.7874 0.9743 0.9715 0.8266 0.9789 0.9907 0.9852] Среднее значение по 10-ти фолдам: 0.9187\n",
      "quantity = 9| fraction = 0.3| period_minutes = 30\n",
      "[0.7632 0.931  0.9783 0.7874 0.9743 0.9715 0.8266 0.9789 0.9907 0.9852] Среднее значение по 10-ти фолдам: 0.9187\n",
      "quantity = 9| fraction = 0.4| period_minutes = 30\n",
      "[0.7632 0.931  0.9783 0.7874 0.9743 0.9715 0.8266 0.9789 0.9907 0.9852] Среднее значение по 10-ти фолдам: 0.9187\n",
      "quantity = 9| fraction = 0.5| period_minutes = 30\n",
      "[0.7632 0.931  0.9783 0.7874 0.9743 0.9715 0.8266 0.9789 0.9907 0.9852] Среднее значение по 10-ти фолдам: 0.9187\n",
      "quantity = 9| fraction = 0.6| period_minutes = 30\n",
      "[0.7632 0.931  0.9783 0.7874 0.9743 0.9715 0.8266 0.9789 0.9907 0.9852] Среднее значение по 10-ти фолдам: 0.9187\n",
      "quantity = 9| fraction = 0.7| period_minutes = 30\n",
      "[0.7632 0.931  0.9783 0.7874 0.9743 0.9715 0.8266 0.9789 0.9907 0.9852] Среднее значение по 10-ти фолдам: 0.9187\n",
      "period_minutes = 40\n",
      "quantity = 1| fraction = 0.3| period_minutes = 40\n",
      "[0.867  0.9657 0.9943 0.9186 0.9775 0.9926 0.6186 0.9846 0.9952 0.9904] Среднее значение по 10-ти фолдам: 0.9304\n",
      "quantity = 1| fraction = 0.4| period_minutes = 40\n",
      "[0.8747 0.9723 0.9955 0.9433 0.9802 0.9952 0.6158 0.9884 0.9964 0.9914] Среднее значение по 10-ти фолдам: 0.9353\n",
      "quantity = 1| fraction = 0.5| period_minutes = 40\n",
      "[0.8668 0.9765 0.9958 0.9533 0.9615 0.9799 0.5959 0.9887 0.9962 0.9916] Среднее значение по 10-ти фолдам: 0.9306\n",
      "quantity = 1| fraction = 0.6| period_minutes = 40\n",
      "[0.8558 0.9731 0.9962 0.9546 0.9664 0.9778 0.6988 0.991  0.9961 0.9936] Среднее значение по 10-ти фолдам: 0.9403\n",
      "quantity = 1| fraction = 0.7| period_minutes = 40\n",
      "[0.8526 0.9671 0.9878 0.9617 0.9707 0.9789 0.7942 0.9909 0.9967 0.9936] Среднее значение по 10-ти фолдам: 0.9494\n",
      "quantity = 2| fraction = 0.3| period_minutes = 40\n",
      "[0.8753 0.9705 0.9953 0.9398 0.9861 0.9932 0.5435 0.9901 0.9947 0.9913] Среднее значение по 10-ти фолдам: 0.928\n",
      "quantity = 2| fraction = 0.4| period_minutes = 40\n",
      "[0.877  0.9754 0.997  0.9529 0.9874 0.9806 0.6394 0.9912 0.9967 0.9914] Среднее значение по 10-ти фолдам: 0.9389\n",
      "quantity = 2| fraction = 0.5| period_minutes = 40\n",
      "[0.8603 0.9716 0.9974 0.9581 0.9728 0.9761 0.8066 0.992  0.9962 0.9936] Среднее значение по 10-ти фолдам: 0.9525\n",
      "quantity = 2| fraction = 0.6| period_minutes = 40\n",
      "[0.8617 0.9719 0.9974 0.9539 0.9724 0.9759 0.8419 0.992  0.996  0.9938] Среднее значение по 10-ти фолдам: 0.9557\n",
      "quantity = 2| fraction = 0.7| period_minutes = 40\n",
      "[0.8604 0.9725 0.988  0.9438 0.9781 0.9769 0.8688 0.9922 0.9972 0.9937] Среднее значение по 10-ти фолдам: 0.9572\n",
      "quantity = 3| fraction = 0.3| period_minutes = 40\n",
      "[0.8743 0.9655 0.9967 0.9456 0.9862 0.9952 0.7226 0.991  0.9967 0.992 ] Среднее значение по 10-ти фолдам: 0.9466\n",
      "quantity = 3| fraction = 0.4| period_minutes = 40\n"
     ]
    },
    {
     "name": "stdout",
     "output_type": "stream",
     "text": [
      "[0.8777 0.9712 0.9971 0.9612 0.9912 0.9756 0.7739 0.9918 0.9967 0.9936] Среднее значение по 10-ти фолдам: 0.953\n",
      "quantity = 3| fraction = 0.5| period_minutes = 40\n",
      "[0.8626 0.9721 0.9883 0.9549 0.9753 0.9763 0.8594 0.9924 0.9968 0.9936] Среднее значение по 10-ти фолдам: 0.9572\n",
      "quantity = 3| fraction = 0.6| period_minutes = 40\n",
      "[0.8608 0.9688 0.9882 0.9448 0.9785 0.9765 0.8821 0.9925 0.9969 0.9946] Среднее значение по 10-ти фолдам: 0.9584\n",
      "quantity = 3| fraction = 0.7| period_minutes = 40\n",
      "[0.856  0.9683 0.988  0.944  0.9792 0.9771 0.8838 0.9913 0.9972 0.9958] Среднее значение по 10-ти фолдам: 0.9581\n",
      "quantity = 4| fraction = 0.3| period_minutes = 40\n",
      "[0.869  0.9697 0.9968 0.9452 0.9913 0.9772 0.8226 0.9917 0.9967 0.9946] Среднее значение по 10-ти фолдам: 0.9555\n",
      "quantity = 4| fraction = 0.4| period_minutes = 40\n",
      "[0.8731 0.973  0.988  0.9532 0.9918 0.9779 0.8248 0.9922 0.9969 0.9944] Среднее значение по 10-ти фолдам: 0.9565\n",
      "quantity = 4| fraction = 0.5| period_minutes = 40\n",
      "[0.8478 0.9694 0.9878 0.9358 0.9791 0.979  0.8717 0.9923 0.997  0.9957] Среднее значение по 10-ти фолдам: 0.9556\n",
      "quantity = 4| fraction = 0.6| period_minutes = 40\n",
      "[0.8509 0.9713 0.9883 0.9352 0.9812 0.9752 0.8773 0.9916 0.9973 0.9957] Среднее значение по 10-ти фолдам: 0.9564\n",
      "quantity = 4| fraction = 0.7| period_minutes = 40\n",
      "[0.8511 0.9714 0.9884 0.939  0.9818 0.9785 0.8767 0.9914 0.9978 0.9957] Среднее значение по 10-ти фолдам: 0.9572\n",
      "quantity = 5| fraction = 0.3| period_minutes = 40\n",
      "[0.8677 0.9734 0.9966 0.9461 0.9915 0.9769 0.8186 0.9921 0.9969 0.9949] Среднее значение по 10-ти фолдам: 0.9555\n",
      "quantity = 5| fraction = 0.4| period_minutes = 40\n",
      "[0.8562 0.9707 0.9875 0.9408 0.9919 0.978  0.8643 0.991  0.9971 0.9951] Среднее значение по 10-ти фолдам: 0.9573\n",
      "quantity = 5| fraction = 0.5| period_minutes = 40\n",
      "[0.8452 0.9694 0.988  0.9393 0.9794 0.9767 0.8803 0.9913 0.9977 0.9958] Среднее значение по 10-ти фолдам: 0.9563\n",
      "quantity = 5| fraction = 0.6| period_minutes = 40\n",
      "[0.852  0.9715 0.9881 0.8914 0.9644 0.9761 0.8749 0.9911 0.998  0.9954] Среднее значение по 10-ти фолдам: 0.9503\n",
      "quantity = 5| fraction = 0.7| period_minutes = 40\n",
      "[0.8522 0.9698 0.9882 0.7872 0.9679 0.9814 0.8825 0.9911 0.9776 0.9955] Среднее значение по 10-ти фолдам: 0.9393\n",
      "quantity = 6| fraction = 0.3| period_minutes = 40\n",
      "[0.7632 0.931  0.9783 0.7874 0.9743 0.9715 0.8266 0.9789 0.9907 0.9852] Среднее значение по 10-ти фолдам: 0.9187\n",
      "quantity = 6| fraction = 0.4| period_minutes = 40\n",
      "[0.7632 0.931  0.9783 0.7874 0.9743 0.9715 0.8266 0.9789 0.9907 0.9852] Среднее значение по 10-ти фолдам: 0.9187\n",
      "quantity = 6| fraction = 0.5| period_minutes = 40\n",
      "[0.7632 0.931  0.9783 0.7874 0.9743 0.9715 0.8266 0.9789 0.9907 0.9852] Среднее значение по 10-ти фолдам: 0.9187\n",
      "quantity = 6| fraction = 0.6| period_minutes = 40\n",
      "[0.7632 0.931  0.9783 0.7874 0.9743 0.9715 0.8266 0.9789 0.9907 0.9852] Среднее значение по 10-ти фолдам: 0.9187\n",
      "quantity = 6| fraction = 0.7| period_minutes = 40\n",
      "[0.7632 0.931  0.9783 0.7874 0.9743 0.9715 0.8266 0.9789 0.9907 0.9852] Среднее значение по 10-ти фолдам: 0.9187\n",
      "quantity = 7| fraction = 0.3| period_minutes = 40\n",
      "[0.7632 0.931  0.9783 0.7874 0.9743 0.9715 0.8266 0.9789 0.9907 0.9852] Среднее значение по 10-ти фолдам: 0.9187\n",
      "quantity = 7| fraction = 0.4| period_minutes = 40\n",
      "[0.7632 0.931  0.9783 0.7874 0.9743 0.9715 0.8266 0.9789 0.9907 0.9852] Среднее значение по 10-ти фолдам: 0.9187\n",
      "quantity = 7| fraction = 0.5| period_minutes = 40\n",
      "[0.7632 0.931  0.9783 0.7874 0.9743 0.9715 0.8266 0.9789 0.9907 0.9852] Среднее значение по 10-ти фолдам: 0.9187\n",
      "quantity = 7| fraction = 0.6| period_minutes = 40\n",
      "[0.7632 0.931  0.9783 0.7874 0.9743 0.9715 0.8266 0.9789 0.9907 0.9852] Среднее значение по 10-ти фолдам: 0.9187\n",
      "quantity = 7| fraction = 0.7| period_minutes = 40\n",
      "[0.7632 0.931  0.9783 0.7874 0.9743 0.9715 0.8266 0.9789 0.9907 0.9852] Среднее значение по 10-ти фолдам: 0.9187\n",
      "quantity = 8| fraction = 0.3| period_minutes = 40\n",
      "[0.7632 0.931  0.9783 0.7874 0.9743 0.9715 0.8266 0.9789 0.9907 0.9852] Среднее значение по 10-ти фолдам: 0.9187\n",
      "quantity = 8| fraction = 0.4| period_minutes = 40\n",
      "[0.7632 0.931  0.9783 0.7874 0.9743 0.9715 0.8266 0.9789 0.9907 0.9852] Среднее значение по 10-ти фолдам: 0.9187\n",
      "quantity = 8| fraction = 0.5| period_minutes = 40\n",
      "[0.7632 0.931  0.9783 0.7874 0.9743 0.9715 0.8266 0.9789 0.9907 0.9852] Среднее значение по 10-ти фолдам: 0.9187\n",
      "quantity = 8| fraction = 0.6| period_minutes = 40\n",
      "[0.7632 0.931  0.9783 0.7874 0.9743 0.9715 0.8266 0.9789 0.9907 0.9852] Среднее значение по 10-ти фолдам: 0.9187\n",
      "quantity = 8| fraction = 0.7| period_minutes = 40\n",
      "[0.7632 0.931  0.9783 0.7874 0.9743 0.9715 0.8266 0.9789 0.9907 0.9852] Среднее значение по 10-ти фолдам: 0.9187\n",
      "quantity = 9| fraction = 0.3| period_minutes = 40\n",
      "[0.7632 0.931  0.9783 0.7874 0.9743 0.9715 0.8266 0.9789 0.9907 0.9852] Среднее значение по 10-ти фолдам: 0.9187\n",
      "quantity = 9| fraction = 0.4| period_minutes = 40\n",
      "[0.7632 0.931  0.9783 0.7874 0.9743 0.9715 0.8266 0.9789 0.9907 0.9852] Среднее значение по 10-ти фолдам: 0.9187\n",
      "quantity = 9| fraction = 0.5| period_minutes = 40\n",
      "[0.7632 0.931  0.9783 0.7874 0.9743 0.9715 0.8266 0.9789 0.9907 0.9852] Среднее значение по 10-ти фолдам: 0.9187\n",
      "quantity = 9| fraction = 0.6| period_minutes = 40\n",
      "[0.7632 0.931  0.9783 0.7874 0.9743 0.9715 0.8266 0.9789 0.9907 0.9852] Среднее значение по 10-ти фолдам: 0.9187\n",
      "quantity = 9| fraction = 0.7| period_minutes = 40\n",
      "[0.7632 0.931  0.9783 0.7874 0.9743 0.9715 0.8266 0.9789 0.9907 0.9852] Среднее значение по 10-ти фолдам: 0.9187\n",
      "period_minutes = 50\n",
      "quantity = 1| fraction = 0.3| period_minutes = 50\n",
      "[0.8593 0.9633 0.9939 0.9167 0.9766 0.9916 0.6292 0.9836 0.9946 0.9901] Среднее значение по 10-ти фолдам: 0.9299\n",
      "quantity = 1| fraction = 0.4| period_minutes = 50\n",
      "[0.8676 0.9722 0.9951 0.9347 0.9792 0.9945 0.6278 0.9885 0.9961 0.9908] Среднее значение по 10-ти фолдам: 0.9346\n",
      "quantity = 1| fraction = 0.5| period_minutes = 50\n",
      "[0.8643 0.9801 0.9954 0.9468 0.9849 0.977  0.5595 0.988  0.9957 0.991 ] Среднее значение по 10-ти фолдам: 0.9283\n",
      "quantity = 1| fraction = 0.6| period_minutes = 50\n",
      "[0.8545 0.9742 0.9958 0.9467 0.9664 0.9756 0.6703 0.991  0.9958 0.9935] Среднее значение по 10-ти фолдам: 0.9364\n",
      "quantity = 1| fraction = 0.7| period_minutes = 50\n",
      "[0.8519 0.9675 0.9874 0.9554 0.9697 0.9769 0.7646 0.9908 0.9962 0.9934] Среднее значение по 10-ти фолдам: 0.9454\n",
      "quantity = 2| fraction = 0.3| period_minutes = 50\n",
      "[0.8687 0.969  0.995  0.9405 0.9853 0.9924 0.5699 0.9903 0.9941 0.9908] Среднее значение по 10-ти фолдам: 0.9296\n",
      "quantity = 2| fraction = 0.4| period_minutes = 50\n",
      "[0.8702 0.9771 0.9966 0.943  0.9868 0.9779 0.6664 0.9911 0.9963 0.9906] Среднее значение по 10-ти фолдам: 0.9396\n",
      "quantity = 2| fraction = 0.5| period_minutes = 50\n",
      "[0.8545 0.9738 0.9972 0.9528 0.9739 0.9727 0.8014 0.992  0.9959 0.9933] Среднее значение по 10-ти фолдам: 0.9508\n",
      "quantity = 2| fraction = 0.6| period_minutes = 50\n",
      "[0.8502 0.9731 0.9972 0.9444 0.9738 0.9722 0.8185 0.9918 0.9957 0.9934] Среднее значение по 10-ти фолдам: 0.951\n",
      "quantity = 2| fraction = 0.7| period_minutes = 50\n",
      "[0.8525 0.9722 0.9879 0.9343 0.9778 0.9737 0.8481 0.992  0.9968 0.9934] Среднее значение по 10-ти фолдам: 0.9529\n",
      "quantity = 3| fraction = 0.3| period_minutes = 50\n",
      "[0.869  0.9668 0.9963 0.9397 0.985  0.9944 0.7123 0.991  0.9963 0.9913] Среднее значение по 10-ти фолдам: 0.9442\n",
      "quantity = 3| fraction = 0.4| period_minutes = 50\n",
      "[0.8702 0.9735 0.9967 0.9556 0.9909 0.9712 0.7837 0.9918 0.9965 0.9932] Среднее значение по 10-ти фолдам: 0.9523\n",
      "quantity = 3| fraction = 0.5| period_minutes = 50\n",
      "[0.8562 0.9743 0.9885 0.9492 0.9768 0.9723 0.8417 0.9925 0.9966 0.9934] Среднее значение по 10-ти фолдам: 0.9542\n",
      "quantity = 3| fraction = 0.6| period_minutes = 50\n",
      "[0.8518 0.9739 0.9884 0.9393 0.9788 0.9718 0.8702 0.9928 0.9964 0.9944] Среднее значение по 10-ти фолдам: 0.9558\n",
      "quantity = 3| fraction = 0.7| period_minutes = 50\n",
      "[0.8526 0.9725 0.9879 0.9394 0.979  0.9715 0.8681 0.9927 0.9966 0.9955] Среднее значение по 10-ти фолдам: 0.9556\n",
      "quantity = 4| fraction = 0.3| period_minutes = 50\n",
      "[0.8661 0.9707 0.9966 0.9408 0.9909 0.9725 0.8145 0.9918 0.9966 0.9941] Среднее значение по 10-ти фолдам: 0.9535\n",
      "quantity = 4| fraction = 0.4| period_minutes = 50\n",
      "[0.8617 0.9742 0.9882 0.9477 0.9914 0.9732 0.8173 0.9921 0.9964 0.994 ] Среднее значение по 10-ти фолдам: 0.9536\n",
      "quantity = 4| fraction = 0.5| period_minutes = 50\n"
     ]
    },
    {
     "name": "stdout",
     "output_type": "stream",
     "text": [
      "[0.8417 0.9734 0.988  0.9299 0.9794 0.9756 0.8574 0.9924 0.9966 0.9955] Среднее значение по 10-ти фолдам: 0.953\n",
      "quantity = 4| fraction = 0.6| period_minutes = 50\n",
      "[0.8383 0.9727 0.9883 0.9288 0.982  0.9723 0.8647 0.9928 0.9967 0.9954] Среднее значение по 10-ти фолдам: 0.9532\n",
      "quantity = 4| fraction = 0.7| period_minutes = 50\n",
      "[0.8449 0.9725 0.988  0.9332 0.9816 0.9763 0.8626 0.9927 0.9969 0.9956] Среднее значение по 10-ти фолдам: 0.9544\n",
      "quantity = 5| fraction = 0.3| period_minutes = 50\n",
      "[0.861  0.9743 0.9963 0.9406 0.9912 0.9713 0.8065 0.992  0.9967 0.9944] Среднее значение по 10-ти фолдам: 0.9524\n",
      "quantity = 5| fraction = 0.4| period_minutes = 50\n",
      "[0.8524 0.9748 0.9877 0.9372 0.9915 0.9736 0.8538 0.9927 0.9964 0.9948] Среднее значение по 10-ти фолдам: 0.9555\n",
      "quantity = 5| fraction = 0.5| period_minutes = 50\n",
      "[0.8426 0.9729 0.9878 0.9344 0.9793 0.9728 0.8677 0.9926 0.9966 0.9956] Среднее значение по 10-ти фолдам: 0.9542\n",
      "quantity = 5| fraction = 0.6| period_minutes = 50\n",
      "[0.845  0.9725 0.9882 0.9075 0.9786 0.9731 0.8693 0.9927 0.9968 0.9953] Среднее значение по 10-ти фолдам: 0.9519\n",
      "quantity = 5| fraction = 0.7| period_minutes = 50\n",
      "[0.847  0.9724 0.9881 0.7891 0.9798 0.9809 0.8834 0.9927 0.9695 0.9953] Среднее значение по 10-ти фолдам: 0.9398\n",
      "quantity = 6| fraction = 0.3| period_minutes = 50\n",
      "[0.7632 0.931  0.9783 0.7874 0.9743 0.9715 0.8266 0.9789 0.9907 0.9852] Среднее значение по 10-ти фолдам: 0.9187\n",
      "quantity = 6| fraction = 0.4| period_minutes = 50\n",
      "[0.7632 0.931  0.9783 0.7874 0.9743 0.9715 0.8266 0.9789 0.9907 0.9852] Среднее значение по 10-ти фолдам: 0.9187\n",
      "quantity = 6| fraction = 0.5| period_minutes = 50\n",
      "[0.7632 0.931  0.9783 0.7874 0.9743 0.9715 0.8266 0.9789 0.9907 0.9852] Среднее значение по 10-ти фолдам: 0.9187\n",
      "quantity = 6| fraction = 0.6| period_minutes = 50\n",
      "[0.7632 0.931  0.9783 0.7874 0.9743 0.9715 0.8266 0.9789 0.9907 0.9852] Среднее значение по 10-ти фолдам: 0.9187\n",
      "quantity = 6| fraction = 0.7| period_minutes = 50\n",
      "[0.7632 0.931  0.9783 0.7874 0.9743 0.9715 0.8266 0.9789 0.9907 0.9852] Среднее значение по 10-ти фолдам: 0.9187\n",
      "quantity = 7| fraction = 0.3| period_minutes = 50\n",
      "[0.7632 0.931  0.9783 0.7874 0.9743 0.9715 0.8266 0.9789 0.9907 0.9852] Среднее значение по 10-ти фолдам: 0.9187\n",
      "quantity = 7| fraction = 0.4| period_minutes = 50\n",
      "[0.7632 0.931  0.9783 0.7874 0.9743 0.9715 0.8266 0.9789 0.9907 0.9852] Среднее значение по 10-ти фолдам: 0.9187\n",
      "quantity = 7| fraction = 0.5| period_minutes = 50\n",
      "[0.7632 0.931  0.9783 0.7874 0.9743 0.9715 0.8266 0.9789 0.9907 0.9852] Среднее значение по 10-ти фолдам: 0.9187\n",
      "quantity = 7| fraction = 0.6| period_minutes = 50\n",
      "[0.7632 0.931  0.9783 0.7874 0.9743 0.9715 0.8266 0.9789 0.9907 0.9852] Среднее значение по 10-ти фолдам: 0.9187\n",
      "quantity = 7| fraction = 0.7| period_minutes = 50\n",
      "[0.7632 0.931  0.9783 0.7874 0.9743 0.9715 0.8266 0.9789 0.9907 0.9852] Среднее значение по 10-ти фолдам: 0.9187\n",
      "quantity = 8| fraction = 0.3| period_minutes = 50\n",
      "[0.7632 0.931  0.9783 0.7874 0.9743 0.9715 0.8266 0.9789 0.9907 0.9852] Среднее значение по 10-ти фолдам: 0.9187\n",
      "quantity = 8| fraction = 0.4| period_minutes = 50\n",
      "[0.7632 0.931  0.9783 0.7874 0.9743 0.9715 0.8266 0.9789 0.9907 0.9852] Среднее значение по 10-ти фолдам: 0.9187\n",
      "quantity = 8| fraction = 0.5| period_minutes = 50\n",
      "[0.7632 0.931  0.9783 0.7874 0.9743 0.9715 0.8266 0.9789 0.9907 0.9852] Среднее значение по 10-ти фолдам: 0.9187\n",
      "quantity = 8| fraction = 0.6| period_minutes = 50\n",
      "[0.7632 0.931  0.9783 0.7874 0.9743 0.9715 0.8266 0.9789 0.9907 0.9852] Среднее значение по 10-ти фолдам: 0.9187\n",
      "quantity = 8| fraction = 0.7| period_minutes = 50\n",
      "[0.7632 0.931  0.9783 0.7874 0.9743 0.9715 0.8266 0.9789 0.9907 0.9852] Среднее значение по 10-ти фолдам: 0.9187\n",
      "quantity = 9| fraction = 0.3| period_minutes = 50\n",
      "[0.7632 0.931  0.9783 0.7874 0.9743 0.9715 0.8266 0.9789 0.9907 0.9852] Среднее значение по 10-ти фолдам: 0.9187\n",
      "quantity = 9| fraction = 0.4| period_minutes = 50\n",
      "[0.7632 0.931  0.9783 0.7874 0.9743 0.9715 0.8266 0.9789 0.9907 0.9852] Среднее значение по 10-ти фолдам: 0.9187\n",
      "quantity = 9| fraction = 0.5| period_minutes = 50\n",
      "[0.7632 0.931  0.9783 0.7874 0.9743 0.9715 0.8266 0.9789 0.9907 0.9852] Среднее значение по 10-ти фолдам: 0.9187\n",
      "quantity = 9| fraction = 0.6| period_minutes = 50\n",
      "[0.7632 0.931  0.9783 0.7874 0.9743 0.9715 0.8266 0.9789 0.9907 0.9852] Среднее значение по 10-ти фолдам: 0.9187\n",
      "quantity = 9| fraction = 0.7| period_minutes = 50\n",
      "[0.7632 0.931  0.9783 0.7874 0.9743 0.9715 0.8266 0.9789 0.9907 0.9852] Среднее значение по 10-ти фолдам: 0.9187\n",
      "period_minutes = 60\n",
      "quantity = 1| fraction = 0.3| period_minutes = 60\n",
      "[0.8555 0.9618 0.9935 0.9103 0.9762 0.9911 0.6257 0.9823 0.9943 0.9898] Среднее значение по 10-ти фолдам: 0.9281\n",
      "quantity = 1| fraction = 0.4| period_minutes = 60\n",
      "[0.864  0.9711 0.9946 0.936  0.9782 0.9941 0.6223 0.9883 0.9959 0.9903] Среднее значение по 10-ти фолдам: 0.9335\n",
      "quantity = 1| fraction = 0.5| period_minutes = 60\n",
      "[0.8649 0.9793 0.9951 0.9476 0.9846 0.9743 0.5508 0.9878 0.9954 0.9904] Среднее значение по 10-ти фолдам: 0.927\n",
      "quantity = 1| fraction = 0.6| period_minutes = 60\n",
      "[0.8554 0.9782 0.9954 0.9432 0.9649 0.9731 0.6419 0.9908 0.9956 0.9934] Среднее значение по 10-ти фолдам: 0.9332\n",
      "quantity = 1| fraction = 0.7| period_minutes = 60\n",
      "[0.848  0.9658 0.9871 0.9507 0.9697 0.9742 0.7483 0.9907 0.9957 0.9931] Среднее значение по 10-ти фолдам: 0.9423\n",
      "quantity = 2| fraction = 0.3| period_minutes = 60\n",
      "[0.8659 0.9675 0.9948 0.9376 0.9845 0.9916 0.5662 0.9901 0.9937 0.9906] Среднее значение по 10-ти фолдам: 0.9283\n",
      "quantity = 2| fraction = 0.4| period_minutes = 60\n",
      "[0.8681 0.9807 0.9963 0.947  0.9858 0.9749 0.6527 0.9908 0.9957 0.9901] Среднее значение по 10-ти фолдам: 0.9382\n",
      "quantity = 2| fraction = 0.5| period_minutes = 60\n",
      "[0.8533 0.9724 0.9967 0.9499 0.9743 0.9675 0.7953 0.9919 0.9952 0.9932] Среднее значение по 10-ти фолдам: 0.949\n",
      "quantity = 2| fraction = 0.6| period_minutes = 60\n",
      "[0.8503 0.9741 0.9968 0.9518 0.9739 0.9678 0.8068 0.9919 0.9953 0.9932] Среднее значение по 10-ти фолдам: 0.9502\n",
      "quantity = 2| fraction = 0.7| period_minutes = 60\n",
      "[0.8521 0.9731 0.9879 0.9407 0.9785 0.9701 0.8416 0.9918 0.9963 0.9931] Среднее значение по 10-ти фолдам: 0.9525\n",
      "quantity = 3| fraction = 0.3| period_minutes = 60\n",
      "[0.8674 0.9659 0.9959 0.9448 0.9843 0.9938 0.7018 0.9907 0.9958 0.9909] Среднее значение по 10-ти фолдам: 0.9431\n",
      "quantity = 3| fraction = 0.4| period_minutes = 60\n",
      "[0.8676 0.9736 0.9962 0.9526 0.9908 0.9655 0.7812 0.9919 0.9959 0.9929] Среднее значение по 10-ти фолдам: 0.9508\n",
      "quantity = 3| fraction = 0.5| period_minutes = 60\n",
      "[0.8552 0.9729 0.9881 0.9582 0.9766 0.9667 0.8321 0.9923 0.996  0.9932] Среднее значение по 10-ти фолдам: 0.9531\n",
      "quantity = 3| fraction = 0.6| period_minutes = 60\n",
      "[0.8523 0.9751 0.9881 0.9476 0.9786 0.9658 0.8657 0.9928 0.9958 0.9943] Среднее значение по 10-ти фолдам: 0.9556\n",
      "quantity = 3| fraction = 0.7| period_minutes = 60\n",
      "[0.8522 0.9736 0.9878 0.9473 0.9788 0.966  0.8653 0.9928 0.996  0.9952] Среднее значение по 10-ти фолдам: 0.9555\n",
      "quantity = 4| fraction = 0.3| period_minutes = 60\n",
      "[0.8668 0.9704 0.9961 0.9545 0.9908 0.9672 0.8045 0.9918 0.9961 0.9937] Среднее значение по 10-ти фолдам: 0.9532\n",
      "quantity = 4| fraction = 0.4| period_minutes = 60\n",
      "[0.86   0.9743 0.988  0.958  0.9913 0.9675 0.814  0.9918 0.9957 0.9937] Среднее значение по 10-ти фолдам: 0.9534\n",
      "quantity = 4| fraction = 0.5| period_minutes = 60\n",
      "[0.8403 0.9744 0.9878 0.9388 0.979  0.9714 0.8528 0.9924 0.9962 0.9954] Среднее значение по 10-ти фолдам: 0.9528\n",
      "quantity = 4| fraction = 0.6| period_minutes = 60\n",
      "[0.8436 0.9753 0.9879 0.9391 0.9809 0.967  0.8597 0.9927 0.996  0.9952] Среднее значение по 10-ти фолдам: 0.9537\n",
      "quantity = 4| fraction = 0.7| period_minutes = 60\n",
      "[0.8472 0.9749 0.9876 0.9428 0.9812 0.9707 0.854  0.9927 0.9962 0.9953] Среднее значение по 10-ти фолдам: 0.9543\n",
      "quantity = 5| fraction = 0.3| period_minutes = 60\n",
      "[0.8593 0.9743 0.9958 0.9492 0.991  0.9657 0.7984 0.9918 0.9962 0.994 ] Среднее значение по 10-ти фолдам: 0.9516\n",
      "quantity = 5| fraction = 0.4| period_minutes = 60\n",
      "[0.8545 0.9747 0.9876 0.9477 0.9913 0.9676 0.8475 0.9926 0.9959 0.9946] Среднее значение по 10-ти фолдам: 0.9554\n",
      "quantity = 5| fraction = 0.5| period_minutes = 60\n",
      "[0.8456 0.9743 0.9875 0.9448 0.9787 0.9675 0.8635 0.9926 0.9959 0.9954] Среднее значение по 10-ти фолдам: 0.9546\n",
      "quantity = 5| fraction = 0.6| period_minutes = 60\n"
     ]
    },
    {
     "name": "stdout",
     "output_type": "stream",
     "text": [
      "[0.8504 0.9746 0.9875 0.9273 0.9799 0.9681 0.8617 0.9926 0.9961 0.9951] Среднее значение по 10-ти фолдам: 0.9533\n",
      "quantity = 5| fraction = 0.7| period_minutes = 60\n",
      "[0.8495 0.9738 0.9874 0.7883 0.9823 0.9778 0.8765 0.9927 0.9651 0.995 ] Среднее значение по 10-ти фолдам: 0.9389\n",
      "quantity = 6| fraction = 0.3| period_minutes = 60\n",
      "[0.7632 0.931  0.9783 0.7874 0.9743 0.9715 0.8266 0.9789 0.9907 0.9852] Среднее значение по 10-ти фолдам: 0.9187\n",
      "quantity = 6| fraction = 0.4| period_minutes = 60\n",
      "[0.7632 0.931  0.9783 0.7874 0.9743 0.9715 0.8266 0.9789 0.9907 0.9852] Среднее значение по 10-ти фолдам: 0.9187\n",
      "quantity = 6| fraction = 0.5| period_minutes = 60\n",
      "[0.7632 0.931  0.9783 0.7874 0.9743 0.9715 0.8266 0.9789 0.9907 0.9852] Среднее значение по 10-ти фолдам: 0.9187\n",
      "quantity = 6| fraction = 0.6| period_minutes = 60\n",
      "[0.7632 0.931  0.9783 0.7874 0.9743 0.9715 0.8266 0.9789 0.9907 0.9852] Среднее значение по 10-ти фолдам: 0.9187\n",
      "quantity = 6| fraction = 0.7| period_minutes = 60\n",
      "[0.7632 0.931  0.9783 0.7874 0.9743 0.9715 0.8266 0.9789 0.9907 0.9852] Среднее значение по 10-ти фолдам: 0.9187\n",
      "quantity = 7| fraction = 0.3| period_minutes = 60\n",
      "[0.7632 0.931  0.9783 0.7874 0.9743 0.9715 0.8266 0.9789 0.9907 0.9852] Среднее значение по 10-ти фолдам: 0.9187\n",
      "quantity = 7| fraction = 0.4| period_minutes = 60\n",
      "[0.7632 0.931  0.9783 0.7874 0.9743 0.9715 0.8266 0.9789 0.9907 0.9852] Среднее значение по 10-ти фолдам: 0.9187\n",
      "quantity = 7| fraction = 0.5| period_minutes = 60\n",
      "[0.7632 0.931  0.9783 0.7874 0.9743 0.9715 0.8266 0.9789 0.9907 0.9852] Среднее значение по 10-ти фолдам: 0.9187\n",
      "quantity = 7| fraction = 0.6| period_minutes = 60\n",
      "[0.7632 0.931  0.9783 0.7874 0.9743 0.9715 0.8266 0.9789 0.9907 0.9852] Среднее значение по 10-ти фолдам: 0.9187\n",
      "quantity = 7| fraction = 0.7| period_minutes = 60\n",
      "[0.7632 0.931  0.9783 0.7874 0.9743 0.9715 0.8266 0.9789 0.9907 0.9852] Среднее значение по 10-ти фолдам: 0.9187\n",
      "quantity = 8| fraction = 0.3| period_minutes = 60\n",
      "[0.7632 0.931  0.9783 0.7874 0.9743 0.9715 0.8266 0.9789 0.9907 0.9852] Среднее значение по 10-ти фолдам: 0.9187\n",
      "quantity = 8| fraction = 0.4| period_minutes = 60\n",
      "[0.7632 0.931  0.9783 0.7874 0.9743 0.9715 0.8266 0.9789 0.9907 0.9852] Среднее значение по 10-ти фолдам: 0.9187\n",
      "quantity = 8| fraction = 0.5| period_minutes = 60\n",
      "[0.7632 0.931  0.9783 0.7874 0.9743 0.9715 0.8266 0.9789 0.9907 0.9852] Среднее значение по 10-ти фолдам: 0.9187\n",
      "quantity = 8| fraction = 0.6| period_minutes = 60\n",
      "[0.7632 0.931  0.9783 0.7874 0.9743 0.9715 0.8266 0.9789 0.9907 0.9852] Среднее значение по 10-ти фолдам: 0.9187\n",
      "quantity = 8| fraction = 0.7| period_minutes = 60\n",
      "[0.7632 0.931  0.9783 0.7874 0.9743 0.9715 0.8266 0.9789 0.9907 0.9852] Среднее значение по 10-ти фолдам: 0.9187\n",
      "quantity = 9| fraction = 0.3| period_minutes = 60\n",
      "[0.7632 0.931  0.9783 0.7874 0.9743 0.9715 0.8266 0.9789 0.9907 0.9852] Среднее значение по 10-ти фолдам: 0.9187\n",
      "quantity = 9| fraction = 0.4| period_minutes = 60\n",
      "[0.7632 0.931  0.9783 0.7874 0.9743 0.9715 0.8266 0.9789 0.9907 0.9852] Среднее значение по 10-ти фолдам: 0.9187\n",
      "quantity = 9| fraction = 0.5| period_minutes = 60\n",
      "[0.7632 0.931  0.9783 0.7874 0.9743 0.9715 0.8266 0.9789 0.9907 0.9852] Среднее значение по 10-ти фолдам: 0.9187\n",
      "quantity = 9| fraction = 0.6| period_minutes = 60\n",
      "[0.7632 0.931  0.9783 0.7874 0.9743 0.9715 0.8266 0.9789 0.9907 0.9852] Среднее значение по 10-ти фолдам: 0.9187\n",
      "quantity = 9| fraction = 0.7| period_minutes = 60\n",
      "[0.7632 0.931  0.9783 0.7874 0.9743 0.9715 0.8266 0.9789 0.9907 0.9852] Среднее значение по 10-ти фолдам: 0.9187\n",
      "CPU times: total: 7h 34min 21s\n",
      "Wall time: 8h 51min 55s\n"
     ]
    }
   ],
   "source": [
    "%%time\n",
    "\n",
    "Alice_nearby = np.zeros(shape=(10,5,len(train_df)))\n",
    "\n",
    "for period_minutes in [20, 30, 40, 50, 60]:\n",
    "    delta = timedelta(minutes=period_minutes)\n",
    "    print(\"period_minutes = \" + str(period_minutes))\n",
    "    i = 0\n",
    "    for ind in train_df.index:\n",
    "        session = train_df.loc[ind]\n",
    "        temp = train_df[(train_df.session_strt > (session.session_strt - delta))\n",
    "                       &(train_df.session_strt < (session.session_end  + delta))]\n",
    "        \n",
    "        f_i=0\n",
    "        for fraction in [0.3, 0.4, 0.5, 0.6, 0.7]:\n",
    "            len_temp_good = len(temp[temp.y_pred > fraction])\n",
    "            q_i=0\n",
    "            for quantity in [1, 2, 3, 4, 5, 6, 7, 8, 9]:\n",
    "                if len_temp_good>=quantity:\n",
    "                    Alice_nearby[q_i][f_i][i] = 1\n",
    "                q_i+=1\n",
    "            f_i+=1   \n",
    "        i+=1\n",
    "    \n",
    "    q_i=0\n",
    "    for quantity in [1, 2, 3, 4, 5, 6, 7, 8, 9]:\n",
    "        f_i=0\n",
    "        for fraction in [0.3, 0.4, 0.5, 0.6, 0.7]:\n",
    "            print(\"quantity = \" + str(quantity) + \"| fraction = \" + str(fraction) + \"| period_minutes = \" + str(period_minutes))\n",
    "            # выделяем нужный массив данных\n",
    "            train_nearby = Alice_nearby[:][f_i]\n",
    "            train_nearby = train_nearby[q_i:q_i+1]\n",
    "            \n",
    "            # сохраняем парамеры для дальнейшего использования, чтобы не перезапускать расчёты\n",
    "            name = \"Alice_nearby\"+\"_q\"+str(quantity)+\"_f\"+str(fraction)+\"_p\"+str(period_minutes)+\".txt\"\n",
    "            np.savetxt(name, train_nearby.T, fmt='%i', delimiter=\" \")\n",
    "            # добавляем полученное поле в выборку\n",
    "            C_nearby = csr_matrix(train_nearby.T, dtype=np.int64)\n",
    "            X_train_temp = hstack((X_train_week6_hour9to19_endSes_Alice, C_nearby))\n",
    "            \n",
    "            # запускаем модель, для получения данных\n",
    "            lr = LogisticRegression(C=0.1, random_state=17, solver='lbfgs', max_iter=1000).fit(X_train_temp, y_train)\n",
    "            cv_scores = cv_get_auc_lr_valid(X_train_temp, y_train, lr)\n",
    "            print(np.round(cv_scores,4), f'Среднее значение по 10-ти фолдам: {round(cv_scores.mean(),4)}')\n",
    "            \n",
    "            f_i+=1\n",
    "        q_i+=1"
   ]
  },
  {
   "cell_type": "markdown",
   "metadata": {},
   "source": [
    "#### Анализ\n",
    "Полученные значения были сохранены в эксель с разбитием на группы по времени 20-60 минут в виде таблиц q/f. Исследовались как итоговые средние значения, так и точность при первой попытке (для оценки возможного переобучения).\n",
    "\n",
    "Для дальнейшего изучения были выделены три лучших значения:\n",
    "1) quantity = 3| fraction = 0.4| period_minutes = 20\n",
    "\n",
    "2) quantity = 2| fraction = 0.6| period_minutes = 30\n",
    "\n",
    "3) quantity = 3| fraction = 0.6| period_minutes = 40\n",
    "\n",
    "Искомые значения были подгружены из полученной базы и проведены опыты."
   ]
  },
  {
   "cell_type": "markdown",
   "metadata": {},
   "source": [
    "#### Первый опыт.\n",
    "\n",
    "quantity = 3| fraction = 0.4| period_minutes = 20\n",
    "\n",
    "Первый опыт дал следующее улучшение точности на тестовой выборке:\n",
    "0,957618 -> 0,959306"
   ]
  },
  {
   "cell_type": "code",
   "execution_count": 134,
   "metadata": {},
   "outputs": [
    {
     "data": {
      "text/plain": [
       "array([0., 0., 0., ..., 0., 0., 0.])"
      ]
     },
     "execution_count": 134,
     "metadata": {},
     "output_type": "execute_result"
    }
   ],
   "source": [
    "Alice_nearby_load = np.loadtxt(\"Alice_nearby_q3_f0.4_p20.txt\", delimiter=\" \")\n",
    "Alice_nearby_load"
   ]
  },
  {
   "cell_type": "code",
   "execution_count": 147,
   "metadata": {},
   "outputs": [
    {
     "data": {
      "text/plain": [
       "<253561x50020 sparse matrix of type '<class 'numpy.int64'>'\n",
       "\twith 4627587 stored elements in Compressed Sparse Row format>"
      ]
     },
     "execution_count": 147,
     "metadata": {},
     "output_type": "execute_result"
    }
   ],
   "source": [
    "# добавляем полученное поле в выборку\n",
    "temp = np.zeros(shape=(1,len(train_df)))\n",
    "temp[:][:] = Alice_nearby_load\n",
    "C_nearby_3_04_20 = csr_matrix(temp.T, dtype=np.int64)\n",
    "X_train_nearby_3_04_20 = hstack((X_train_week6_hour9to19_endSes_Alice, C_nearby_3_04_20))\n",
    "X_train_nearby_3_04_20"
   ]
  },
  {
   "cell_type": "markdown",
   "metadata": {},
   "source": [
    "Тестовая"
   ]
  },
  {
   "cell_type": "code",
   "execution_count": 149,
   "metadata": {},
   "outputs": [
    {
     "name": "stdout",
     "output_type": "stream",
     "text": [
      "CPU times: total: 11min 14s\n",
      "Wall time: 11min 15s\n"
     ]
    },
    {
     "data": {
      "text/plain": [
       "array([[0.],\n",
       "       [0.],\n",
       "       [1.],\n",
       "       ...,\n",
       "       [0.],\n",
       "       [0.],\n",
       "       [0.]])"
      ]
     },
     "execution_count": 149,
     "metadata": {},
     "output_type": "execute_result"
    }
   ],
   "source": [
    "%%time\n",
    "test_nearby_3_04_20 = neighbors(test_df, 3, 0.4, 20)\n",
    "test_nearby_3_04_20"
   ]
  },
  {
   "cell_type": "code",
   "execution_count": 151,
   "metadata": {},
   "outputs": [
    {
     "data": {
      "text/plain": [
       "<82797x50020 sparse matrix of type '<class 'numpy.int64'>'\n",
       "\twith 1431979 stored elements in Compressed Sparse Row format>"
      ]
     },
     "execution_count": 151,
     "metadata": {},
     "output_type": "execute_result"
    }
   ],
   "source": [
    "# добавляем полученное поле в выборку\n",
    "C_test_nearby_3_04_20 = csr_matrix(test_nearby_3_04_20, dtype=np.int64)\n",
    "X_test_nearby_3_04_20 = hstack((X_test_week6_hour9to19_endSes_Alice, C_test_nearby_3_04_20))\n",
    "X_test_nearby_3_04_20"
   ]
  },
  {
   "cell_type": "markdown",
   "metadata": {},
   "source": [
    "#### Второй опыт.\n",
    "\n",
    "quantity = 2| fraction = 0.6| period_minutes = 30\n",
    "\n",
    "Второй опыт дал следующее улучшение точности на тестовой выборке:\n",
    "0,957618 -> 0,959735\n",
    "\n",
    "#### ЛУЧШЕЕ значение"
   ]
  },
  {
   "cell_type": "code",
   "execution_count": 163,
   "metadata": {},
   "outputs": [
    {
     "data": {
      "text/plain": [
       "array([0., 0., 0., ..., 0., 0., 0.])"
      ]
     },
     "execution_count": 163,
     "metadata": {},
     "output_type": "execute_result"
    }
   ],
   "source": [
    "Alice_nearby_load_2 = np.loadtxt(\"Alice_nearby_q2_f0.6_p30.txt\", delimiter=\" \")\n",
    "Alice_nearby_load_2"
   ]
  },
  {
   "cell_type": "code",
   "execution_count": 164,
   "metadata": {},
   "outputs": [
    {
     "data": {
      "text/plain": [
       "<253561x50020 sparse matrix of type '<class 'numpy.int64'>'\n",
       "\twith 4628406 stored elements in Compressed Sparse Row format>"
      ]
     },
     "execution_count": 164,
     "metadata": {},
     "output_type": "execute_result"
    }
   ],
   "source": [
    "# добавляем полученное поле в выборку\n",
    "temp = np.zeros(shape=(1,len(train_df)))\n",
    "temp[:][:] = Alice_nearby_load_2\n",
    "C_nearby_2_06_30 = csr_matrix(temp.T, dtype=np.int64)\n",
    "X_train_nearby_2_06_30 = hstack((X_train_week6_hour9to19_endSes_Alice, C_nearby_2_06_30))\n",
    "X_train_nearby_2_06_30"
   ]
  },
  {
   "cell_type": "code",
   "execution_count": 165,
   "metadata": {},
   "outputs": [
    {
     "name": "stdout",
     "output_type": "stream",
     "text": [
      "CPU times: total: 0 ns\n",
      "Wall time: 0 ns\n"
     ]
    },
    {
     "data": {
      "text/plain": [
       "array([[0.],\n",
       "       [0.],\n",
       "       [1.],\n",
       "       ...,\n",
       "       [0.],\n",
       "       [0.],\n",
       "       [0.]])"
      ]
     },
     "execution_count": 165,
     "metadata": {},
     "output_type": "execute_result"
    }
   ],
   "source": [
    "%%time\n",
    "test_nearby_2_06_30 = neighbors(test_df, 2, 0.6, 30)\n",
    "test_nearby_2_06_30"
   ]
  },
  {
   "cell_type": "code",
   "execution_count": 170,
   "metadata": {},
   "outputs": [
    {
     "data": {
      "text/plain": [
       "<82797x50020 sparse matrix of type '<class 'numpy.int64'>'\n",
       "\twith 1432455 stored elements in Compressed Sparse Row format>"
      ]
     },
     "execution_count": 170,
     "metadata": {},
     "output_type": "execute_result"
    }
   ],
   "source": [
    "# добавляем полученное поле в выборку\n",
    "C_test_nearby_2_06_30 = csr_matrix(test_nearby_2_06_30, dtype=np.int64)\n",
    "X_test_nearby_2_06_30 = hstack((X_test_week6_hour9to19_endSes_Alice, C_test_nearby_2_06_30))\n",
    "X_test_nearby_2_06_30"
   ]
  },
  {
   "cell_type": "markdown",
   "metadata": {},
   "source": [
    "#### Третий опыт.\n",
    "\n",
    "quantity = 3| fraction = 0.6| period_minutes = 40\n",
    "\n",
    "Третий опыт дал следующее улучшение точности на тестовой выборке:\n",
    "0,957618 -> 0,956407"
   ]
  },
  {
   "cell_type": "code",
   "execution_count": 160,
   "metadata": {},
   "outputs": [
    {
     "data": {
      "text/plain": [
       "array([0., 0., 0., ..., 0., 0., 0.])"
      ]
     },
     "execution_count": 160,
     "metadata": {},
     "output_type": "execute_result"
    }
   ],
   "source": [
    "Alice_nearby_load_3 = np.loadtxt(\"Alice_nearby_q3_f0.6_p40.txt\", delimiter=\" \")\n",
    "Alice_nearby_load_3"
   ]
  },
  {
   "cell_type": "code",
   "execution_count": 161,
   "metadata": {},
   "outputs": [
    {
     "data": {
      "text/plain": [
       "<253561x50020 sparse matrix of type '<class 'numpy.int64'>'\n",
       "\twith 4628198 stored elements in Compressed Sparse Row format>"
      ]
     },
     "execution_count": 161,
     "metadata": {},
     "output_type": "execute_result"
    }
   ],
   "source": [
    "# добавляем полученное поле в выборку\n",
    "temp = np.zeros(shape=(1,len(train_df)))\n",
    "temp[:][:] = Alice_nearby_load_3\n",
    "C_nearby_3_06_40 = csr_matrix(temp.T, dtype=np.int64)\n",
    "X_train_nearby_3_06_40 = hstack((X_train_week6_hour9to19_endSes_Alice, C_nearby_3_06_40))\n",
    "X_train_nearby_3_06_40"
   ]
  },
  {
   "cell_type": "code",
   "execution_count": 167,
   "metadata": {},
   "outputs": [
    {
     "name": "stdout",
     "output_type": "stream",
     "text": [
      "CPU times: total: 0 ns\n",
      "Wall time: 0 ns\n"
     ]
    },
    {
     "data": {
      "text/plain": [
       "array([[0.],\n",
       "       [0.],\n",
       "       [1.],\n",
       "       ...,\n",
       "       [0.],\n",
       "       [0.],\n",
       "       [0.]])"
      ]
     },
     "execution_count": 167,
     "metadata": {},
     "output_type": "execute_result"
    }
   ],
   "source": [
    "%%time\n",
    "test_nearby_3_06_40 = neighbors(test_df, 3, 0.6, 40)\n",
    "test_nearby_3_06_40"
   ]
  },
  {
   "cell_type": "code",
   "execution_count": 168,
   "metadata": {},
   "outputs": [
    {
     "data": {
      "text/plain": [
       "<82797x50020 sparse matrix of type '<class 'numpy.int64'>'\n",
       "\twith 1432314 stored elements in Compressed Sparse Row format>"
      ]
     },
     "execution_count": 168,
     "metadata": {},
     "output_type": "execute_result"
    }
   ],
   "source": [
    "# добавляем полученное поле в выборку\n",
    "C_test_nearby_3_06_40 = csr_matrix(test_nearby_3_06_40, dtype=np.int64)\n",
    "X_test_nearby_3_06_40 = hstack((X_test_week6_hour9to19_endSes_Alice, C_test_nearby_3_06_40))\n",
    "X_test_nearby_3_06_40"
   ]
  },
  {
   "cell_type": "markdown",
   "metadata": {},
   "source": [
    "# Этап 6\n",
    "\n",
    "Далее была выдвинута гипотеза о том, чтобы разделить на \"Есть ли Алисы ДО\" и \"Есть ли Алисы ПОСЛЕ\", исследование производилось на лучшей выборке - 2, 0,6 и 30 минут.\n",
    "\n",
    "Указанная гипотеза так же дала существенный прирост точности.\n",
    "\n",
    "0,959735 -> 0,963507\n",
    "\n",
    "\n",
    "\n",
    "### (+) Указанная гипотеза дала положительный результат"
   ]
  },
  {
   "cell_type": "code",
   "execution_count": 62,
   "metadata": {},
   "outputs": [],
   "source": [
    "def neighbors_BeforeAndAfter(df, quantity_1 : int, fraction_1 : float, period_minutes_1 : int\n",
    "                               , quantity_2 : int, fraction_2 : float, period_minutes_2 : int):\n",
    "    delta_1 = timedelta(minutes=period_minutes_1)\n",
    "    delta_2 = timedelta(minutes=period_minutes_2)\n",
    "    Alice_nearby = np.zeros(shape=(2,len(df)))\n",
    "\n",
    "    i = 0\n",
    "    for ind in df.index:\n",
    "        session = df.loc[ind]\n",
    "        temp_1 = df[(df.session_strt > (session.session_strt - delta_1))\n",
    "                  & (df.session_strt <= session.session_strt)] # учитывается данная выборка\n",
    "        temp_2 = df[(df.session_strt >= session.session_strt) # учитывается данная выборка\n",
    "                  & (df.session_strt < (session.session_end + delta_2))]\n",
    "        len_temp_1_good = len(temp_1[temp_1.y_pred > fraction_1])\n",
    "        len_temp_2_good = len(temp_2[temp_2.y_pred > fraction_2])\n",
    "        if len_temp_1_good>=quantity_1:\n",
    "            Alice_nearby[0][i] = 1\n",
    "        if len_temp_2_good>=quantity_2:\n",
    "            Alice_nearby[1][i] = 1\n",
    "        i+=1\n",
    "\n",
    "    return Alice_nearby.T"
   ]
  },
  {
   "cell_type": "code",
   "execution_count": 63,
   "metadata": {},
   "outputs": [
    {
     "name": "stdout",
     "output_type": "stream",
     "text": [
      "CPU times: total: 1h 12min 4s\n",
      "Wall time: 1h 12min 10s\n"
     ]
    },
    {
     "data": {
      "text/plain": [
       "array([[0., 0.],\n",
       "       [0., 0.],\n",
       "       [0., 0.],\n",
       "       ...,\n",
       "       [0., 0.],\n",
       "       [0., 0.],\n",
       "       [0., 0.]])"
      ]
     },
     "execution_count": 63,
     "metadata": {},
     "output_type": "execute_result"
    }
   ],
   "source": [
    "%%time\n",
    "train_nearby_BA_2_06_30 = neighbors_BeforeAndAfter(train_df, 2, 0.6, 30, 2, 0.6, 30)\n",
    "train_nearby_BA_2_06_30"
   ]
  },
  {
   "cell_type": "code",
   "execution_count": 64,
   "metadata": {},
   "outputs": [
    {
     "data": {
      "text/plain": [
       "<253561x50021 sparse matrix of type '<class 'numpy.int64'>'\n",
       "\twith 4637627 stored elements in Compressed Sparse Row format>"
      ]
     },
     "execution_count": 64,
     "metadata": {},
     "output_type": "execute_result"
    }
   ],
   "source": [
    "# добавляем полученное поле в выборку\n",
    "C_train_nearby_BA_2_06_30 = csr_matrix(train_nearby_BA_2_06_30, dtype=np.int64)\n",
    "X_train_nearby_BA_2_06_30 = hstack((X_train_week6_hour9to19_endSes_Alice, C_train_nearby_BA_2_06_30))\n",
    "X_train_nearby_BA_2_06_30"
   ]
  },
  {
   "cell_type": "code",
   "execution_count": 65,
   "metadata": {},
   "outputs": [
    {
     "name": "stdout",
     "output_type": "stream",
     "text": [
      "CPU times: total: 20min 8s\n",
      "Wall time: 20min 8s\n"
     ]
    },
    {
     "data": {
      "text/plain": [
       "array([[0., 0.],\n",
       "       [0., 0.],\n",
       "       [0., 1.],\n",
       "       ...,\n",
       "       [0., 0.],\n",
       "       [0., 0.],\n",
       "       [0., 0.]])"
      ]
     },
     "execution_count": 65,
     "metadata": {},
     "output_type": "execute_result"
    }
   ],
   "source": [
    "%%time\n",
    "test_nearby_BA_2_06_30 = neighbors_BeforeAndAfter(test_df, 2, 0.6, 30, 2, 0.6, 30)\n",
    "test_nearby_BA_2_06_30"
   ]
  },
  {
   "cell_type": "code",
   "execution_count": 66,
   "metadata": {},
   "outputs": [
    {
     "data": {
      "text/plain": [
       "<82797x50021 sparse matrix of type '<class 'numpy.int64'>'\n",
       "\twith 1437029 stored elements in Compressed Sparse Row format>"
      ]
     },
     "execution_count": 66,
     "metadata": {},
     "output_type": "execute_result"
    }
   ],
   "source": [
    "# добавляем полученное поле в выборку\n",
    "C_test_nearby_BA_2_06_30 = csr_matrix(test_nearby_BA_2_06_30, dtype=np.int64)\n",
    "X_test_nearby_BA_2_06_30 = hstack((X_test_week6_hour9to19_endSes_Alice, C_test_nearby_BA_2_06_30))\n",
    "X_test_nearby_BA_2_06_30"
   ]
  },
  {
   "cell_type": "code",
   "execution_count": 67,
   "metadata": {},
   "outputs": [],
   "source": [
    "np.savetxt(\"train_nearby_BA_2_06_30\", train_nearby_BA_2_06_30.T, fmt='%i', delimiter=\" \")"
   ]
  },
  {
   "cell_type": "code",
   "execution_count": 68,
   "metadata": {},
   "outputs": [],
   "source": [
    "np.savetxt(\"test_nearby_BA_2_06_30\", test_nearby_BA_2_06_30.T, fmt='%i', delimiter=\" \")"
   ]
  },
  {
   "cell_type": "markdown",
   "metadata": {},
   "source": [
    "# ЭТАП 7"
   ]
  },
  {
   "cell_type": "markdown",
   "metadata": {},
   "source": [
    "+ Временной разброс в обе стороны задаём одинаковым\n",
    "+ разделяем на 3 ячейки\n",
    "    + До\n",
    "    + Своя\n",
    "    + После\n",
    "+ Количество задаётся везде одинаковым и равным 1 (то есть достаточно хоть одного)\n",
    "+ Вероятности разделяются на свою и внешние (внешние одинаковы для упрощения поиска)\n",
    "\n",
    "*Была предпринята попытка с запуском перебора оптимального значения, но расчёт был слишком длительным и его оптимизацией было решено не знаниматься ввиду ограничености времени. Запускаемый враиант данного алгоритма приведён в разделе \"Дополнительное\"\n",
    "\n",
    "Использовались значения 0,6/0,6/30 и С=0,2\n",
    "\n",
    "Привело к увеличению точности до \"0,966054\"\n",
    "\n",
    "\n",
    "\n",
    "### (+) Указанная гипотеза дала положительный результат"
   ]
  },
  {
   "cell_type": "code",
   "execution_count": 47,
   "metadata": {},
   "outputs": [],
   "source": [
    "def neighbors_BeforeAndIAndAfter(df, fraction_1 : float, fraction_2 : float, period_minutes : int):\n",
    "    delta = timedelta(minutes=period_minutes)\n",
    "    Alice_nearby = np.zeros(shape=(3,len(df)))\n",
    "\n",
    "    i = 0\n",
    "    for ind in df.index:\n",
    "        session = df.loc[ind]\n",
    "        temp_1 = df[(df.session_strt > (session.session_strt - delta))\n",
    "                  & (df.session_strt < session.session_strt)] # НЕ учитывается данная выборка\n",
    "        temp_2 = df[(df.session_strt > session.session_strt) # НЕ учитывается данная выборка\n",
    "                  & (df.session_strt < (session.session_end + delta))]\n",
    "        len_temp_1_good = len(temp_1[temp_1.y_pred > fraction_1])\n",
    "        len_temp_2_good = len(temp_2[temp_2.y_pred > fraction_2])\n",
    "        if session.y_pred > fraction_1:\n",
    "            Alice_nearby[0][i] = 1\n",
    "        if len_temp_1_good > 0:\n",
    "            Alice_nearby[1][i] = 1\n",
    "        if len_temp_2_good > 0:\n",
    "            Alice_nearby[2][i] = 1\n",
    "        i+=1\n",
    "\n",
    "    return Alice_nearby.T"
   ]
  },
  {
   "cell_type": "code",
   "execution_count": 48,
   "metadata": {},
   "outputs": [
    {
     "name": "stdout",
     "output_type": "stream",
     "text": [
      "CPU times: total: 1h 7min 48s\n",
      "Wall time: 1h 7min 49s\n"
     ]
    },
    {
     "data": {
      "text/plain": [
       "array([[0., 0., 0.],\n",
       "       [0., 0., 0.],\n",
       "       [0., 0., 0.],\n",
       "       ...,\n",
       "       [0., 0., 0.],\n",
       "       [0., 0., 0.],\n",
       "       [0., 0., 0.]])"
      ]
     },
     "execution_count": 48,
     "metadata": {},
     "output_type": "execute_result"
    }
   ],
   "source": [
    "%%time\n",
    "train_nearby_BIA_06_30 = neighbors_BeforeAndIAndAfter(train_df, 0.6, 0.6, 30)\n",
    "train_nearby_BIA_06_30"
   ]
  },
  {
   "cell_type": "code",
   "execution_count": 49,
   "metadata": {},
   "outputs": [
    {
     "data": {
      "text/plain": [
       "<253561x50022 sparse matrix of type '<class 'numpy.int64'>'\n",
       "\twith 4643605 stored elements in Compressed Sparse Row format>"
      ]
     },
     "execution_count": 49,
     "metadata": {},
     "output_type": "execute_result"
    }
   ],
   "source": [
    "# добавляем полученное поле в выборку\n",
    "C_train_nearby_BIA_06_30 = csr_matrix(train_nearby_BIA_06_30, dtype=np.int64)\n",
    "X_train_nearby_BIA_06_30 = hstack((X_train_week6_hour9to19_endSes_Alice, C_train_nearby_BIA_06_30))\n",
    "X_train_nearby_BIA_06_30"
   ]
  },
  {
   "cell_type": "code",
   "execution_count": 50,
   "metadata": {},
   "outputs": [
    {
     "name": "stdout",
     "output_type": "stream",
     "text": [
      "CPU times: total: 19min 38s\n",
      "Wall time: 19min 38s\n"
     ]
    },
    {
     "data": {
      "text/plain": [
       "array([[0., 0., 0.],\n",
       "       [0., 0., 0.],\n",
       "       [0., 0., 1.],\n",
       "       ...,\n",
       "       [0., 0., 0.],\n",
       "       [0., 0., 0.],\n",
       "       [0., 0., 0.]])"
      ]
     },
     "execution_count": 50,
     "metadata": {},
     "output_type": "execute_result"
    }
   ],
   "source": [
    "%%time\n",
    "test_nearby_BIA_06_30 = neighbors_BeforeAndIAndAfter(test_df, 0.6, 0.6, 30)\n",
    "test_nearby_BIA_06_30"
   ]
  },
  {
   "cell_type": "code",
   "execution_count": 51,
   "metadata": {},
   "outputs": [
    {
     "data": {
      "text/plain": [
       "<82797x50022 sparse matrix of type '<class 'numpy.int64'>'\n",
       "\twith 1441936 stored elements in Compressed Sparse Row format>"
      ]
     },
     "execution_count": 51,
     "metadata": {},
     "output_type": "execute_result"
    }
   ],
   "source": [
    "# добавляем полученное поле в выборку\n",
    "C_test_nearby_BIA_06_30 = csr_matrix(test_nearby_BIA_06_30, dtype=np.int64)\n",
    "X_test_nearby_BIA_06_30 = hstack((X_test_week6_hour9to19_endSes_Alice, C_test_nearby_BIA_06_30))\n",
    "X_test_nearby_BIA_06_30"
   ]
  },
  {
   "cell_type": "code",
   "execution_count": 52,
   "metadata": {},
   "outputs": [],
   "source": [
    "np.savetxt(\"train_nearby_BIA_06_30\", train_nearby_BIA_06_30.T, fmt='%i', delimiter=\" \")"
   ]
  },
  {
   "cell_type": "code",
   "execution_count": 53,
   "metadata": {},
   "outputs": [],
   "source": [
    "np.savetxt(\"X_test_nearby_BIA_06_30\", train_nearby_BIA_06_30.T, fmt='%i', delimiter=\" \")"
   ]
  },
  {
   "cell_type": "markdown",
   "metadata": {},
   "source": [
    "## Изменение порога\n",
    "\n",
    "Краткое тестирование на различных порогах внутренней и внешней Алисы. При первичном тесте - дало ухудшение результата\n",
    "\n",
    "\n",
    "### (-) Указанная гипотеза дала отрицательный результат"
   ]
  },
  {
   "cell_type": "code",
   "execution_count": 67,
   "metadata": {},
   "outputs": [
    {
     "name": "stdout",
     "output_type": "stream",
     "text": [
      "CPU times: total: 1h 6min 53s\n",
      "Wall time: 1h 6min 53s\n"
     ]
    },
    {
     "data": {
      "text/plain": [
       "array([[0., 0., 0.],\n",
       "       [0., 0., 0.],\n",
       "       [0., 0., 0.],\n",
       "       ...,\n",
       "       [0., 0., 0.],\n",
       "       [0., 0., 0.],\n",
       "       [0., 0., 0.]])"
      ]
     },
     "execution_count": 67,
     "metadata": {},
     "output_type": "execute_result"
    }
   ],
   "source": [
    "%%time\n",
    "train_nearby_BIA_04_06_30 = neighbors_BeforeAndIAndAfter(train_df, 0.4, 0.6, 30)\n",
    "train_nearby_BIA_04_06_30"
   ]
  },
  {
   "cell_type": "code",
   "execution_count": 68,
   "metadata": {},
   "outputs": [
    {
     "data": {
      "text/plain": [
       "<253561x50022 sparse matrix of type '<class 'numpy.int64'>'\n",
       "\twith 4645177 stored elements in Compressed Sparse Row format>"
      ]
     },
     "execution_count": 68,
     "metadata": {},
     "output_type": "execute_result"
    }
   ],
   "source": [
    "# добавляем полученное поле в выборку\n",
    "C_train_nearby_BIA_04_06_30 = csr_matrix(train_nearby_BIA_04_06_30, dtype=np.int64)\n",
    "X_train_nearby_BIA_04_06_30 = hstack((X_train_week6_hour9to19_endSes_Alice, C_train_nearby_BIA_04_06_30))\n",
    "X_train_nearby_BIA_04_06_30"
   ]
  },
  {
   "cell_type": "code",
   "execution_count": null,
   "metadata": {},
   "outputs": [],
   "source": []
  },
  {
   "cell_type": "code",
   "execution_count": null,
   "metadata": {},
   "outputs": [],
   "source": []
  },
  {
   "cell_type": "code",
   "execution_count": null,
   "metadata": {},
   "outputs": [],
   "source": []
  },
  {
   "cell_type": "markdown",
   "metadata": {},
   "source": [
    "# Обучение моделей и сохранение данных"
   ]
  },
  {
   "cell_type": "code",
   "execution_count": 18,
   "metadata": {
    "_cell_guid": "9f3b378b-a11a-44c9-a7d1-0da152a42aae",
    "_uuid": "8f7b6e88162f02f298cd2edab0aa336d8f377607",
    "execution": {
     "iopub.execute_input": "2022-04-07T11:43:54.677941Z",
     "iopub.status.busy": "2022-04-07T11:43:54.677361Z",
     "iopub.status.idle": "2022-04-07T11:43:54.683147Z",
     "shell.execute_reply": "2022-04-07T11:43:54.682077Z",
     "shell.execute_reply.started": "2022-04-07T11:43:54.67774Z"
    }
   },
   "outputs": [],
   "source": [
    "# подготовка данных \"учитель\"\n",
    "y_train = train_df['target'].values"
   ]
  },
  {
   "cell_type": "markdown",
   "metadata": {},
   "source": [
    "Предпринимались попытки полностью выкинуть 11-ый месяц из обучющей выборки, но уменьшение колличества данных, только ухудшило результат\n",
    "\n",
    "\n",
    "### (-) Указанная гипотеза дала отрицательный результат"
   ]
  },
  {
   "cell_type": "code",
   "execution_count": 30,
   "metadata": {},
   "outputs": [],
   "source": [
    "y_train = train_df_without_2013_11['target'].values"
   ]
  },
  {
   "cell_type": "markdown",
   "metadata": {},
   "source": [
    "Обучение модели"
   ]
  },
  {
   "cell_type": "code",
   "execution_count": 19,
   "metadata": {},
   "outputs": [],
   "source": [
    "lr = LogisticRegression(C=0.1, random_state=17, solver='lbfgs', max_iter=1000).fit(X_train_week6_hour9to19_endSes_Alice, y_train)"
   ]
  },
  {
   "cell_type": "markdown",
   "metadata": {},
   "source": [
    "## Кросс валидация для лучшей оценки точности\n",
    "\n",
    "За счёт постепенного перебора значений по которым происходит обучение и по которым производится тестирование, можем оценить лучше точность модели."
   ]
  },
  {
   "cell_type": "code",
   "execution_count": 22,
   "metadata": {},
   "outputs": [],
   "source": [
    "time_split = TimeSeriesSplit(n_splits=10)\n",
    "\n",
    "def cv_get_auc_lr_valid(X, y, lr):\n",
    "    '''\n",
    "    функция проводит кросс-валидацию на заданном тренировочном фрейме X, таргете y и заранее обученной модели\n",
    "    на выходе - массив ROC-AUC на каждом из 4-рех фолдах \n",
    "    '''\n",
    "    cv_scores = cross_val_score(lr, X, y, cv=time_split, scoring='roc_auc', n_jobs=2)\n",
    "    \n",
    "    return cv_scores"
   ]
  },
  {
   "cell_type": "code",
   "execution_count": 77,
   "metadata": {},
   "outputs": [
    {
     "name": "stdout",
     "output_type": "stream",
     "text": [
      "CPU times: total: 156 ms\n",
      "Wall time: 24.6 s\n"
     ]
    }
   ],
   "source": [
    "%%time\n",
    "cv_scores = cv_get_auc_lr_valid(X_train_nearby_BIA_06_30, y_train, lr)"
   ]
  },
  {
   "cell_type": "code",
   "execution_count": 78,
   "metadata": {},
   "outputs": [
    {
     "data": {
      "text/plain": [
       "(array([0.8794, 0.9701, 0.9956, 0.9143, 0.989 , 0.9756, 0.8887, 0.992 ,\n",
       "        0.9977, 0.9949]),\n",
       " 'Среднее значение по 10-ти фолдам: 0.9597')"
      ]
     },
     "execution_count": 78,
     "metadata": {},
     "output_type": "execute_result"
    }
   ],
   "source": [
    "np.round(cv_scores,4), f'Среднее значение по 10-ти фолдам: {round(cv_scores.mean(),4)}'"
   ]
  },
  {
   "cell_type": "markdown",
   "metadata": {},
   "source": [
    "Предсказание значение для ряда исследований"
   ]
  },
  {
   "cell_type": "code",
   "execution_count": 20,
   "metadata": {},
   "outputs": [],
   "source": [
    "y_pred_train = lr.predict_proba(X_train_week6_hour9to19_endSes_Alice)[:, 1]"
   ]
  },
  {
   "cell_type": "markdown",
   "metadata": {},
   "source": [
    "### Подбираем иные гиперпараметры автоматизированным методом.\n",
    "\n",
    "Согласно ожиданиям, точность при подборе оптимального параметра С должна была существенно увеличиться, однако при проверке на тестовой выборке, мы получали лишь ухудшение. Поэтому коэффициент С подбирался вручную и было решено задать его раным 0,5\n",
    "\n",
    "\n",
    "### (-) Указанная гипотеза дала отрицательный результат"
   ]
  },
  {
   "cell_type": "markdown",
   "metadata": {},
   "source": [
    "1) Ищем для \"X_train_week6_hour9to19_endSes_Alice\"\n",
    "\n",
    "Сперва было:\n",
    "\n",
    "c_params = np.logspace(-1.5, 3, 40)  # задаем возможные параметры для С, для этого использовался \"С=0,1\"\n",
    "\n",
    "Диапазон от 0,03 до 100, оптимальное 0.5878016072274915\n",
    "\n",
    "Теперь сужаем круг\n",
    "\n",
    "c_params = np.logspace(-0.6, -0.1, 40), оптмимальный 0.5740825670026137\n",
    "\n",
    "2) Ищем для \"X_train_nearby_BIA_06_30\"\n",
    "\n",
    "Сперва было:\n",
    "\n",
    "c_params = np.logspace(-1.5, 3, 40)  # задаем возможные параметры для С, для этого использовался \"С=0,4\"\n",
    "\n",
    "Диапазон от 0,03 до 100, оптимальное "
   ]
  },
  {
   "cell_type": "code",
   "execution_count": 54,
   "metadata": {},
   "outputs": [
    {
     "data": {
      "text/plain": [
       "array([3.16227766e-02, 4.12462638e-02, 5.37983840e-02, 7.01703829e-02,\n",
       "       9.15247311e-02, 1.19377664e-01, 1.55706840e-01, 2.03091762e-01,\n",
       "       2.64896929e-01, 3.45510729e-01, 4.50657034e-01, 5.87801607e-01,\n",
       "       7.66682207e-01, 1.00000000e+00, 1.30432139e+00, 1.70125428e+00,\n",
       "       2.21898234e+00, 2.89426612e+00, 3.77505321e+00, 4.92388263e+00,\n",
       "       6.42232542e+00, 8.37677640e+00, 1.09260086e+01, 1.42510267e+01,\n",
       "       1.85879189e+01, 2.42446202e+01, 3.16227766e+01, 4.12462638e+01,\n",
       "       5.37983840e+01, 7.01703829e+01, 9.15247311e+01, 1.19377664e+02,\n",
       "       1.55706840e+02, 2.03091762e+02, 2.64896929e+02, 3.45510729e+02,\n",
       "       4.50657034e+02, 5.87801607e+02, 7.66682207e+02, 1.00000000e+03])"
      ]
     },
     "execution_count": 54,
     "metadata": {},
     "output_type": "execute_result"
    }
   ],
   "source": [
    "c_params = np.logspace(-1.5, 3, 40)  # задаем возможные параметры для С, для этого использовался \"С=0,1\"\n",
    "# solver_params = ['lbfgs', 'liblinear']  # задаем возможные параметры для солвера\n",
    "solver_params = ['lbfgs']  # задаем возможные параметры для солвера\n",
    "c_params"
   ]
  },
  {
   "cell_type": "code",
   "execution_count": 55,
   "metadata": {},
   "outputs": [],
   "source": [
    "model_grid_searcher = GridSearchCV(estimator=lr, \n",
    "                                   param_grid={'C': c_params, 'solver':solver_params},\n",
    "                                   scoring='roc_auc', \n",
    "                                   n_jobs=4, \n",
    "                                   cv=time_split, \n",
    "                                   verbose=1)"
   ]
  },
  {
   "cell_type": "code",
   "execution_count": 56,
   "metadata": {},
   "outputs": [
    {
     "name": "stdout",
     "output_type": "stream",
     "text": [
      "Fitting 10 folds for each of 40 candidates, totalling 400 fits\n",
      "CPU times: total: 7.61 s\n",
      "Wall time: 34min 33s\n"
     ]
    },
    {
     "data": {
      "text/plain": [
       "GridSearchCV(cv=TimeSeriesSplit(gap=0, max_train_size=None, n_splits=10, test_size=None),\n",
       "             estimator=LogisticRegression(C=0.5740825670026137, max_iter=1000,\n",
       "                                          random_state=17, solver='liblinear'),\n",
       "             n_jobs=4,\n",
       "             param_grid={'C': array([3.16227766e-02, 4.12462638e-02, 5.37983840e-02, 7.01703829e-02,\n",
       "       9.15247311e-02, 1.19377664e-01, 1.55706840e-01, 2.03091762e-01,\n",
       "       2.64896929e-...\n",
       "       6.42232542e+00, 8.37677640e+00, 1.09260086e+01, 1.42510267e+01,\n",
       "       1.85879189e+01, 2.42446202e+01, 3.16227766e+01, 4.12462638e+01,\n",
       "       5.37983840e+01, 7.01703829e+01, 9.15247311e+01, 1.19377664e+02,\n",
       "       1.55706840e+02, 2.03091762e+02, 2.64896929e+02, 3.45510729e+02,\n",
       "       4.50657034e+02, 5.87801607e+02, 7.66682207e+02, 1.00000000e+03]),\n",
       "                         'solver': ['lbfgs']},\n",
       "             scoring='roc_auc', verbose=1)"
      ]
     },
     "execution_count": 56,
     "metadata": {},
     "output_type": "execute_result"
    }
   ],
   "source": [
    "%%time\n",
    "model_grid_searcher.fit(X_train_nearby_BIA_06_30, y_train); "
   ]
  },
  {
   "cell_type": "code",
   "execution_count": 57,
   "metadata": {},
   "outputs": [
    {
     "data": {
      "text/plain": [
       "(0.9837599967964777, {'C': 0.04124626382901352, 'solver': 'lbfgs'})"
      ]
     },
     "execution_count": 57,
     "metadata": {},
     "output_type": "execute_result"
    }
   ],
   "source": [
    "model_grid_searcher.best_score_, model_grid_searcher.best_params_"
   ]
  },
  {
   "cell_type": "markdown",
   "metadata": {},
   "source": [
    "# Формирование выходного файла"
   ]
  },
  {
   "cell_type": "code",
   "execution_count": 59,
   "metadata": {
    "_cell_guid": "4e7590d4-096f-4282-b0c6-702b5b5e8917",
    "_uuid": "d6457c4112f39c8d5721fba91feb1a4e74d3ed98",
    "execution": {
     "iopub.execute_input": "2022-04-07T12:12:08.196316Z",
     "iopub.status.busy": "2022-04-07T12:12:08.195957Z",
     "iopub.status.idle": "2022-04-07T12:12:08.201861Z",
     "shell.execute_reply": "2022-04-07T12:12:08.200826Z",
     "shell.execute_reply.started": "2022-04-07T12:12:08.196265Z"
    }
   },
   "outputs": [],
   "source": [
    "# Функция записи в файл\n",
    "def write_to_submission_file(predicted_labels, out_file,\n",
    "                             target='target', index_label=\"session_id\"):\n",
    "    predicted_df = pd.DataFrame(predicted_labels,\n",
    "                                index = range(1, predicted_labels.shape[0] + 1),\n",
    "                                columns=[target])\n",
    "    predicted_df.to_csv(out_file, index_label=index_label)"
   ]
  },
  {
   "cell_type": "code",
   "execution_count": 69,
   "metadata": {
    "_cell_guid": "43108119-ddee-4eaf-830b-91adec26009b",
    "_uuid": "2c055eb78026fc951216ed7dbdbedcfa47b61898",
    "execution": {
     "iopub.execute_input": "2022-04-07T12:12:42.559522Z",
     "iopub.status.busy": "2022-04-07T12:12:42.559052Z",
     "iopub.status.idle": "2022-04-07T12:13:07.978637Z",
     "shell.execute_reply": "2022-04-07T12:13:07.977572Z",
     "shell.execute_reply.started": "2022-04-07T12:12:42.55948Z"
    }
   },
   "outputs": [],
   "source": [
    "# обучение модели по всем данным\n",
    "# используется random_state=17 для повторяемости результатов\n",
    "\n",
    "lr = LogisticRegression(C=0.5, random_state=17, solver='liblinear', max_iter=1000).fit(X_train_nearby_BA_2_06_30, y_train)\n",
    "\n",
    "# предсказываются значения\n",
    "y_test = lr.predict_proba(X_test_nearby_BA_2_06_30)[:, 1]\n",
    "\n",
    "# Записываются в файл для отправки\n",
    "write_to_submission_file(y_test, 'baseline_1.csv')"
   ]
  },
  {
   "cell_type": "markdown",
   "metadata": {},
   "source": [
    "The first model demonstrated the quality of 0.9235 on the validation set. Let's take it as the first baseline and starting point. "
   ]
  },
  {
   "cell_type": "code",
   "execution_count": null,
   "metadata": {},
   "outputs": [],
   "source": []
  },
  {
   "cell_type": "code",
   "execution_count": null,
   "metadata": {},
   "outputs": [],
   "source": []
  },
  {
   "cell_type": "markdown",
   "metadata": {},
   "source": [
    "# *Дополнительное*\n",
    "На этом актуальная часть завершена, ниже приводятся исследования, которые решено было передвинуть в конец"
   ]
  },
  {
   "cell_type": "markdown",
   "metadata": {},
   "source": [
    "Далее я пробовал добавлять разные фичи с рейтингом сайтов - их расчёт будет дальше.\n",
    "\n",
    "Концепция рейтинга сайта основана на том, что у Алисы есть предпочтения по сайтам, мы отсортировываем сначала все сайты, которые посетила Алиса (создаём множество), потом считаем колличество посещений каждого из них. Понимаю, что это же должно делать за счёт подбора коэффициентов к каждому сайту, но почему бы не попробовать?\n",
    "* Добавлена степенная фунция, для более чёткого выражения сайтов, которые посещала Алиса, но редко. По сути, этим мы добавляем некую нелинейность в линейную регрссию.\n",
    "\n",
    "Эти фичи позволяли на трайне поднять точность более 99%, но на тесте немного загубляли результаты, далее мы выясним, почему это может быть."
   ]
  },
  {
   "cell_type": "code",
   "execution_count": 11,
   "metadata": {},
   "outputs": [],
   "source": [
    "def Add_rating_sites(df, Alica_sites_rating):\n",
    "    rating_sites = np.zeros(shape=(1,len(df)))\n",
    "    \n",
    "    i = 0\n",
    "    for ind in df.index:\n",
    "        temp = df.loc[ind]\n",
    "        for site in sites:\n",
    "            key = temp[site]\n",
    "            if key in Alica_sites_rating:\n",
    "                rating_sites[0][i] += pow(Alica_sites_rating[key], 0.1)\n",
    "        i+=1\n",
    "        if i%10000==0:\n",
    "            print(i)\n",
    "    df['rating_sites'] = rating_sites.T"
   ]
  },
  {
   "cell_type": "markdown",
   "metadata": {},
   "source": [
    "Ниже приводится аналогичный код, только разбитый на 10 ячеек (для каждого сайта - своё)"
   ]
  },
  {
   "cell_type": "code",
   "execution_count": 12,
   "metadata": {},
   "outputs": [],
   "source": [
    "def Add_rating_All_sites(df, Alica_sites_rating):\n",
    "    rating_sites = np.zeros(shape=(10,len(df)))\n",
    "    \n",
    "    i = 0\n",
    "    for ind in df.index:\n",
    "        temp = df.loc[ind]\n",
    "        for k in range(0,10):\n",
    "            key = temp[sites[k]]\n",
    "            if key in Alica_sites_rating:\n",
    "                rating_sites[k][i] += pow(Alica_sites_rating[key], 0.25)\n",
    "        i+=1\n",
    "        if i%10000==0:\n",
    "            print(i)\n",
    "    for j in range(0,10):\n",
    "        df['rating_site'+str((j+1))] = rating_sites[j].T"
   ]
  },
  {
   "cell_type": "markdown",
   "metadata": {},
   "source": [
    "Далее запускаем наши фичи (здесь пока не трогается рейтинг сайтов, так как исследования предпочтений Алисы проводятся без них, это лишь была попытка - улучшить точность, да и сперва нужно провести расчёты)"
   ]
  },
  {
   "cell_type": "markdown",
   "metadata": {},
   "source": [
    "#### ПРОБНОЕ УДАЛЕНИЕ ЛИШНИХ САЙТОВ\n",
    "Данные испытания проводились на начальном этапе и было доказано, что сиё приводит к переобучении модели.\n",
    "\n",
    "Сначала мы проходимся по всем № сайтов и созадём из них множество, которое затем объединяем в множестов уникальных сайтов"
   ]
  },
  {
   "cell_type": "code",
   "execution_count": 15,
   "metadata": {},
   "outputs": [],
   "source": [
    "# немного костыльно, думать уже сил не было (актуально только для train)\n",
    "def Set_unique_Alica_site(df):\n",
    "    df_Alice = df[df[\"target\"]==1]\n",
    "    unique_Alica_site1 = set(df_Alice[\"site1\"])\n",
    "    unique_Alica_site2 = set(df_Alice[\"site2\"])\n",
    "    unique_Alica_site3 = set(df_Alice[\"site3\"])\n",
    "    unique_Alica_site4 = set(df_Alice[\"site4\"])\n",
    "    unique_Alica_site5 = set(df_Alice[\"site5\"])\n",
    "    unique_Alica_site6 = set(df_Alice[\"site6\"])\n",
    "    unique_Alica_site7 = set(df_Alice[\"site7\"])\n",
    "    unique_Alica_site8 = set(df_Alice[\"site8\"])\n",
    "    unique_Alica_site9 = set(df_Alice[\"site9\"])\n",
    "    unique_Alica_site10 = set(df_Alice[\"site10\"])\n",
    "    unique_Alica_sites = unique_Alica_site1.union(unique_Alica_site2, unique_Alica_site3, unique_Alica_site4, unique_Alica_site5\n",
    "                                                 , unique_Alica_site6, unique_Alica_site7, unique_Alica_site8, unique_Alica_site9\n",
    "                                                 , unique_Alica_site10)\n",
    "    return unique_Alica_sites"
   ]
  },
  {
   "cell_type": "markdown",
   "metadata": {},
   "source": [
    "Получаем, что у Алисы 1054 посещённых сайта"
   ]
  },
  {
   "cell_type": "code",
   "execution_count": 16,
   "metadata": {},
   "outputs": [
    {
     "name": "stdout",
     "output_type": "stream",
     "text": [
      "CPU times: total: 46.9 ms\n",
      "Wall time: 37 ms\n"
     ]
    },
    {
     "data": {
      "text/plain": [
       "1054"
      ]
     },
     "execution_count": 16,
     "metadata": {},
     "output_type": "execute_result"
    }
   ],
   "source": [
    "%%time\n",
    "set_unique_Alica_sites = Set_unique_Alica_site(train_df)\n",
    "len(set_unique_Alica_sites)"
   ]
  },
  {
   "cell_type": "markdown",
   "metadata": {},
   "source": [
    "Затем создали функцию, которая создаётся массив из сайтов посещённых только Алисой. Данная операция предназначена для того, чтобы создать X_train только на основе сайтов, которые нравятся Алисе и уже на них учиться. В последующем от этой идеи отказался, так как подобное просеивание отсекает сайты, которые Алиса посетила первый раз. Для замены этого начал использовать - рейтинг сайтов."
   ]
  },
  {
   "cell_type": "code",
   "execution_count": 17,
   "metadata": {},
   "outputs": [],
   "source": [
    "# Данная функция выполняется минут 15 для train, и лучше сразу использовать сохранённый файл\n",
    "def Replacement_sites_for_Alica(df, set_Alica_sites):\n",
    "    replacement_sites = np.zeros(shape=(11,len(train_df)))\n",
    "    i = 0\n",
    "    for ind in train_df.index:\n",
    "        k = 0\n",
    "        replacement_sites[k][i] = ind\n",
    "        k = 1\n",
    "        for site in sites:\n",
    "            if (train_df.loc[ind][site] in set_Alica_sites):\n",
    "                replacement_sites[k][i] = train_df.loc[ind][site]\n",
    "            else:\n",
    "                replacement_sites[k][i] = -1\n",
    "            k+=1\n",
    "        i+=1\n",
    "        # участок для отслеживания прогресса, а то считается долго в данной реализации (оптимизировать не стал\n",
    "        # так как дало мало толку)\n",
    "        if ((i%10000) == 0):\n",
    "            print(i)\n",
    "     \n",
    "    # преобразование в int\n",
    "    replacement_sites.astype(np.int64)   \n",
    "    return replacement_sites"
   ]
  },
  {
   "cell_type": "code",
   "execution_count": 18,
   "metadata": {},
   "outputs": [
    {
     "name": "stdout",
     "output_type": "stream",
     "text": [
      "10000\n",
      "20000\n",
      "30000\n",
      "40000\n",
      "50000\n",
      "60000\n",
      "70000\n",
      "80000\n",
      "90000\n",
      "100000\n",
      "110000\n",
      "120000\n",
      "130000\n",
      "140000\n",
      "150000\n",
      "160000\n",
      "170000\n",
      "180000\n",
      "190000\n",
      "200000\n",
      "210000\n",
      "220000\n",
      "230000\n",
      "240000\n",
      "250000\n",
      "CPU times: total: 15min 55s\n",
      "Wall time: 15min 55s\n"
     ]
    }
   ],
   "source": [
    "%%time\n",
    "replacement_sites = Replacement_sites_for_Alica(train_df, set_unique_Alica_sites)"
   ]
  },
  {
   "cell_type": "code",
   "execution_count": 19,
   "metadata": {},
   "outputs": [],
   "source": [
    "np.savetxt(\"train_sessions_text_1.txt\", replacement_sites[:][1:11].T, fmt='%i', delimiter=\" \")"
   ]
  },
  {
   "cell_type": "markdown",
   "metadata": {},
   "source": [
    "Вот мы и получили файл по которому можно формировать X_train с отсечёнными сайтами. Быть может идея и полезная, но использовать её толком я не смог, увы.\n",
    "\n",
    "Далее переходим к популярности сайтов, здесь всё просто: считаем сколько мы посетили каждый сайт и затем приводим к 1"
   ]
  },
  {
   "cell_type": "code",
   "execution_count": 20,
   "metadata": {},
   "outputs": [
    {
     "name": "stdout",
     "output_type": "stream",
     "text": [
      "CPU times: total: 0 ns\n",
      "Wall time: 0 ns\n"
     ]
    }
   ],
   "source": [
    "%%time\n",
    "def Popularity_site_in_Alica(df, unique_Alica_sites):\n",
    "    # создание нового словаря с кодами сайтов\n",
    "    temp_sites = list(unique_Alica_sites)\n",
    "    Alica_sites = {temp_sites[1]: 0,}\n",
    "    for key in temp_sites[2:len(unique_Alica_sites)]:\n",
    "        Alica_sites[key] = 0\n",
    "        \n",
    "    # добавление счётчика популярности сайта\n",
    "    for ind in df[df[\"target\"] == 1].index:\n",
    "        temp_stroke = df.loc[ind]\n",
    "        for site in sites:\n",
    "            key = temp_stroke[site]\n",
    "            if key != 0:\n",
    "                Alica_sites[key] +=1\n",
    "\n",
    "    # перевод в доли\n",
    "    #max_val = max(Alica_sites.values())\n",
    "    #for key in temp_sites[1:len(unique_Alica_sites)]:\n",
    "    #    Alica_sites[key] = Alica_sites[key] / max_val\n",
    "    return Alica_sites"
   ]
  },
  {
   "cell_type": "code",
   "execution_count": 23,
   "metadata": {},
   "outputs": [],
   "source": [
    "# Не доработал\n",
    "def Mean_time_of_site_in_Alica(df, unique_Alica_sites):\n",
    "    # создание нового словаря с кодами сайтов\n",
    "    temp_sites = list(unique_Alica_sites)\n",
    "    Alica_sites = {temp_sites[1]: 0,}\n",
    "    for key in temp_sites[2:len(unique_Alica_sites)]:\n",
    "        Alica_sites[key] = 0\n",
    "        \n",
    "    # добавление счётчика популярности сайта\n",
    "    for ind in df[df[\"target\"] == 1].index:\n",
    "        temp_stroke = df.loc[ind]\n",
    "        for i in range(1,11):\n",
    "            key = temp_stroke[\"site\"+i]\n",
    "            if key != 0:\n",
    "                if (i<10) and temp_stroke[\"time\"+i+1].notna():\n",
    "                    Alica_sites[key] +=temp_stroke[\"time\"+i+1]-temp_stroke[\"time\"+i]"
   ]
  },
  {
   "cell_type": "code",
   "execution_count": 24,
   "metadata": {},
   "outputs": [
    {
     "data": {
      "text/plain": [
       "1382"
      ]
     },
     "execution_count": 24,
     "metadata": {},
     "output_type": "execute_result"
    }
   ],
   "source": [
    "Alica_sites = Popularity_site_in_Alica(train_df, set_unique_Alica_sites)\n",
    "max(Alica_sites.values())"
   ]
  },
  {
   "cell_type": "markdown",
   "metadata": {},
   "source": [
    "Теперь можно запустить подсчёт рейтинга сайтов. Стоит отметить, что функция считается тоже не мгновенно, и стоит подождать"
   ]
  },
  {
   "cell_type": "code",
   "execution_count": 25,
   "metadata": {},
   "outputs": [
    {
     "name": "stdout",
     "output_type": "stream",
     "text": [
      "10000\n",
      "20000\n",
      "30000\n",
      "40000\n",
      "50000\n",
      "60000\n",
      "70000\n",
      "80000\n",
      "90000\n",
      "100000\n",
      "110000\n",
      "120000\n",
      "130000\n",
      "140000\n",
      "150000\n",
      "160000\n",
      "170000\n",
      "180000\n",
      "190000\n",
      "200000\n",
      "210000\n",
      "220000\n",
      "230000\n",
      "240000\n",
      "250000\n",
      "CPU times: total: 1min 16s\n",
      "Wall time: 1min 16s\n"
     ]
    },
    {
     "data": {
      "text/html": [
       "<div>\n",
       "<style scoped>\n",
       "    .dataframe tbody tr th:only-of-type {\n",
       "        vertical-align: middle;\n",
       "    }\n",
       "\n",
       "    .dataframe tbody tr th {\n",
       "        vertical-align: top;\n",
       "    }\n",
       "\n",
       "    .dataframe thead th {\n",
       "        text-align: right;\n",
       "    }\n",
       "</style>\n",
       "<table border=\"1\" class=\"dataframe\">\n",
       "  <thead>\n",
       "    <tr style=\"text-align: right;\">\n",
       "      <th></th>\n",
       "      <th>site1</th>\n",
       "      <th>time1</th>\n",
       "      <th>site2</th>\n",
       "      <th>time2</th>\n",
       "      <th>site3</th>\n",
       "      <th>time3</th>\n",
       "      <th>site4</th>\n",
       "      <th>time4</th>\n",
       "      <th>site5</th>\n",
       "      <th>time5</th>\n",
       "      <th>...</th>\n",
       "      <th>session_end</th>\n",
       "      <th>session_len</th>\n",
       "      <th>start_year</th>\n",
       "      <th>start_month</th>\n",
       "      <th>start_hour</th>\n",
       "      <th>start_minute</th>\n",
       "      <th>start_seconds</th>\n",
       "      <th>start_time</th>\n",
       "      <th>weekday</th>\n",
       "      <th>rating_sites</th>\n",
       "    </tr>\n",
       "    <tr>\n",
       "      <th>session_id</th>\n",
       "      <th></th>\n",
       "      <th></th>\n",
       "      <th></th>\n",
       "      <th></th>\n",
       "      <th></th>\n",
       "      <th></th>\n",
       "      <th></th>\n",
       "      <th></th>\n",
       "      <th></th>\n",
       "      <th></th>\n",
       "      <th></th>\n",
       "      <th></th>\n",
       "      <th></th>\n",
       "      <th></th>\n",
       "      <th></th>\n",
       "      <th></th>\n",
       "      <th></th>\n",
       "      <th></th>\n",
       "      <th></th>\n",
       "      <th></th>\n",
       "      <th></th>\n",
       "    </tr>\n",
       "  </thead>\n",
       "  <tbody>\n",
       "    <tr>\n",
       "      <th>27554</th>\n",
       "      <td>41475</td>\n",
       "      <td>2013-11-15 07:39:35</td>\n",
       "      <td>6725</td>\n",
       "      <td>2013-11-15 07:39:35</td>\n",
       "      <td>6725</td>\n",
       "      <td>2013-11-15 07:39:36</td>\n",
       "      <td>41475</td>\n",
       "      <td>2013-11-15 07:39:36</td>\n",
       "      <td>41476</td>\n",
       "      <td>2013-11-15 07:39:40</td>\n",
       "      <td>...</td>\n",
       "      <td>2013-11-15 07:44:25</td>\n",
       "      <td>290</td>\n",
       "      <td>2013</td>\n",
       "      <td>11</td>\n",
       "      <td>7</td>\n",
       "      <td>39</td>\n",
       "      <td>35</td>\n",
       "      <td>27575</td>\n",
       "      <td>4</td>\n",
       "      <td>0.000000</td>\n",
       "    </tr>\n",
       "    <tr>\n",
       "      <th>81350</th>\n",
       "      <td>41476</td>\n",
       "      <td>2013-11-15 07:44:25</td>\n",
       "      <td>41475</td>\n",
       "      <td>2013-11-15 07:44:25</td>\n",
       "      <td>41476</td>\n",
       "      <td>2013-11-15 07:57:45</td>\n",
       "      <td>6725</td>\n",
       "      <td>2013-11-15 07:57:45</td>\n",
       "      <td>41475</td>\n",
       "      <td>2013-11-15 07:57:45</td>\n",
       "      <td>...</td>\n",
       "      <td>2013-11-15 07:57:49</td>\n",
       "      <td>804</td>\n",
       "      <td>2013</td>\n",
       "      <td>11</td>\n",
       "      <td>7</td>\n",
       "      <td>44</td>\n",
       "      <td>25</td>\n",
       "      <td>27865</td>\n",
       "      <td>4</td>\n",
       "      <td>0.000000</td>\n",
       "    </tr>\n",
       "    <tr>\n",
       "      <th>234665</th>\n",
       "      <td>4802</td>\n",
       "      <td>2013-11-15 07:52:17</td>\n",
       "      <td>23</td>\n",
       "      <td>2013-11-15 07:52:18</td>\n",
       "      <td>4803</td>\n",
       "      <td>2013-11-15 07:52:19</td>\n",
       "      <td>38</td>\n",
       "      <td>2013-11-15 07:52:19</td>\n",
       "      <td>38</td>\n",
       "      <td>2013-11-15 07:52:20</td>\n",
       "      <td>...</td>\n",
       "      <td>2013-11-15 07:52:28</td>\n",
       "      <td>11</td>\n",
       "      <td>2013</td>\n",
       "      <td>11</td>\n",
       "      <td>7</td>\n",
       "      <td>52</td>\n",
       "      <td>17</td>\n",
       "      <td>28337</td>\n",
       "      <td>4</td>\n",
       "      <td>10.671260</td>\n",
       "    </tr>\n",
       "    <tr>\n",
       "      <th>97610</th>\n",
       "      <td>23</td>\n",
       "      <td>2013-11-15 07:52:28</td>\n",
       "      <td>23</td>\n",
       "      <td>2013-11-15 07:52:29</td>\n",
       "      <td>22</td>\n",
       "      <td>2013-11-15 07:52:37</td>\n",
       "      <td>21</td>\n",
       "      <td>2013-11-15 07:52:37</td>\n",
       "      <td>63</td>\n",
       "      <td>2013-11-15 07:55:10</td>\n",
       "      <td>...</td>\n",
       "      <td>2013-11-15 08:01:26</td>\n",
       "      <td>538</td>\n",
       "      <td>2013</td>\n",
       "      <td>11</td>\n",
       "      <td>7</td>\n",
       "      <td>52</td>\n",
       "      <td>28</td>\n",
       "      <td>28348</td>\n",
       "      <td>4</td>\n",
       "      <td>9.973277</td>\n",
       "    </tr>\n",
       "    <tr>\n",
       "      <th>161358</th>\n",
       "      <td>41476</td>\n",
       "      <td>2013-11-15 07:57:50</td>\n",
       "      <td>41476</td>\n",
       "      <td>2013-11-15 07:57:51</td>\n",
       "      <td>6725</td>\n",
       "      <td>2013-11-15 07:59:34</td>\n",
       "      <td>41475</td>\n",
       "      <td>2013-11-15 07:59:34</td>\n",
       "      <td>41476</td>\n",
       "      <td>2013-11-15 07:59:34</td>\n",
       "      <td>...</td>\n",
       "      <td>2013-11-15 07:59:34</td>\n",
       "      <td>104</td>\n",
       "      <td>2013</td>\n",
       "      <td>11</td>\n",
       "      <td>7</td>\n",
       "      <td>57</td>\n",
       "      <td>50</td>\n",
       "      <td>28670</td>\n",
       "      <td>4</td>\n",
       "      <td>0.000000</td>\n",
       "    </tr>\n",
       "    <tr>\n",
       "      <th>...</th>\n",
       "      <td>...</td>\n",
       "      <td>...</td>\n",
       "      <td>...</td>\n",
       "      <td>...</td>\n",
       "      <td>...</td>\n",
       "      <td>...</td>\n",
       "      <td>...</td>\n",
       "      <td>...</td>\n",
       "      <td>...</td>\n",
       "      <td>...</td>\n",
       "      <td>...</td>\n",
       "      <td>...</td>\n",
       "      <td>...</td>\n",
       "      <td>...</td>\n",
       "      <td>...</td>\n",
       "      <td>...</td>\n",
       "      <td>...</td>\n",
       "      <td>...</td>\n",
       "      <td>...</td>\n",
       "      <td>...</td>\n",
       "      <td>...</td>\n",
       "    </tr>\n",
       "    <tr>\n",
       "      <th>129606</th>\n",
       "      <td>6003</td>\n",
       "      <td>2014-05-03 18:06:13</td>\n",
       "      <td>0</td>\n",
       "      <td>NaT</td>\n",
       "      <td>0</td>\n",
       "      <td>NaT</td>\n",
       "      <td>0</td>\n",
       "      <td>NaT</td>\n",
       "      <td>0</td>\n",
       "      <td>NaT</td>\n",
       "      <td>...</td>\n",
       "      <td>2014-05-03 18:06:13</td>\n",
       "      <td>0</td>\n",
       "      <td>2014</td>\n",
       "      <td>5</td>\n",
       "      <td>18</td>\n",
       "      <td>6</td>\n",
       "      <td>13</td>\n",
       "      <td>65173</td>\n",
       "      <td>5</td>\n",
       "      <td>0.000000</td>\n",
       "    </tr>\n",
       "    <tr>\n",
       "      <th>53628</th>\n",
       "      <td>6003</td>\n",
       "      <td>2014-05-03 18:09:26</td>\n",
       "      <td>0</td>\n",
       "      <td>NaT</td>\n",
       "      <td>0</td>\n",
       "      <td>NaT</td>\n",
       "      <td>0</td>\n",
       "      <td>NaT</td>\n",
       "      <td>0</td>\n",
       "      <td>NaT</td>\n",
       "      <td>...</td>\n",
       "      <td>2014-05-03 18:09:26</td>\n",
       "      <td>0</td>\n",
       "      <td>2014</td>\n",
       "      <td>5</td>\n",
       "      <td>18</td>\n",
       "      <td>9</td>\n",
       "      <td>26</td>\n",
       "      <td>65366</td>\n",
       "      <td>5</td>\n",
       "      <td>0.000000</td>\n",
       "    </tr>\n",
       "    <tr>\n",
       "      <th>84754</th>\n",
       "      <td>6003</td>\n",
       "      <td>2014-05-03 18:11:21</td>\n",
       "      <td>0</td>\n",
       "      <td>NaT</td>\n",
       "      <td>0</td>\n",
       "      <td>NaT</td>\n",
       "      <td>0</td>\n",
       "      <td>NaT</td>\n",
       "      <td>0</td>\n",
       "      <td>NaT</td>\n",
       "      <td>...</td>\n",
       "      <td>2014-05-03 18:11:21</td>\n",
       "      <td>0</td>\n",
       "      <td>2014</td>\n",
       "      <td>5</td>\n",
       "      <td>18</td>\n",
       "      <td>11</td>\n",
       "      <td>21</td>\n",
       "      <td>65481</td>\n",
       "      <td>5</td>\n",
       "      <td>0.000000</td>\n",
       "    </tr>\n",
       "    <tr>\n",
       "      <th>153398</th>\n",
       "      <td>6003</td>\n",
       "      <td>2014-05-03 18:15:57</td>\n",
       "      <td>6003</td>\n",
       "      <td>2014-05-03 18:15:58</td>\n",
       "      <td>0</td>\n",
       "      <td>NaT</td>\n",
       "      <td>0</td>\n",
       "      <td>NaT</td>\n",
       "      <td>0</td>\n",
       "      <td>NaT</td>\n",
       "      <td>...</td>\n",
       "      <td>2014-05-03 18:15:58</td>\n",
       "      <td>1</td>\n",
       "      <td>2014</td>\n",
       "      <td>5</td>\n",
       "      <td>18</td>\n",
       "      <td>15</td>\n",
       "      <td>57</td>\n",
       "      <td>65757</td>\n",
       "      <td>5</td>\n",
       "      <td>0.000000</td>\n",
       "    </tr>\n",
       "    <tr>\n",
       "      <th>11690</th>\n",
       "      <td>305</td>\n",
       "      <td>2014-05-04 17:30:57</td>\n",
       "      <td>306</td>\n",
       "      <td>2014-05-04 17:30:58</td>\n",
       "      <td>306</td>\n",
       "      <td>2014-05-04 17:31:00</td>\n",
       "      <td>979</td>\n",
       "      <td>2014-05-04 17:33:07</td>\n",
       "      <td>0</td>\n",
       "      <td>NaT</td>\n",
       "      <td>...</td>\n",
       "      <td>2014-05-04 17:33:07</td>\n",
       "      <td>130</td>\n",
       "      <td>2014</td>\n",
       "      <td>5</td>\n",
       "      <td>17</td>\n",
       "      <td>30</td>\n",
       "      <td>57</td>\n",
       "      <td>63057</td>\n",
       "      <td>6</td>\n",
       "      <td>0.000000</td>\n",
       "    </tr>\n",
       "  </tbody>\n",
       "</table>\n",
       "<p>253561 rows × 33 columns</p>\n",
       "</div>"
      ],
      "text/plain": [
       "            site1               time1  site2               time2  site3  \\\n",
       "session_id                                                                \n",
       "27554       41475 2013-11-15 07:39:35   6725 2013-11-15 07:39:35   6725   \n",
       "81350       41476 2013-11-15 07:44:25  41475 2013-11-15 07:44:25  41476   \n",
       "234665       4802 2013-11-15 07:52:17     23 2013-11-15 07:52:18   4803   \n",
       "97610          23 2013-11-15 07:52:28     23 2013-11-15 07:52:29     22   \n",
       "161358      41476 2013-11-15 07:57:50  41476 2013-11-15 07:57:51   6725   \n",
       "...           ...                 ...    ...                 ...    ...   \n",
       "129606       6003 2014-05-03 18:06:13      0                 NaT      0   \n",
       "53628        6003 2014-05-03 18:09:26      0                 NaT      0   \n",
       "84754        6003 2014-05-03 18:11:21      0                 NaT      0   \n",
       "153398       6003 2014-05-03 18:15:57   6003 2014-05-03 18:15:58      0   \n",
       "11690         305 2014-05-04 17:30:57    306 2014-05-04 17:30:58    306   \n",
       "\n",
       "                         time3  site4               time4  site5  \\\n",
       "session_id                                                         \n",
       "27554      2013-11-15 07:39:36  41475 2013-11-15 07:39:36  41476   \n",
       "81350      2013-11-15 07:57:45   6725 2013-11-15 07:57:45  41475   \n",
       "234665     2013-11-15 07:52:19     38 2013-11-15 07:52:19     38   \n",
       "97610      2013-11-15 07:52:37     21 2013-11-15 07:52:37     63   \n",
       "161358     2013-11-15 07:59:34  41475 2013-11-15 07:59:34  41476   \n",
       "...                        ...    ...                 ...    ...   \n",
       "129606                     NaT      0                 NaT      0   \n",
       "53628                      NaT      0                 NaT      0   \n",
       "84754                      NaT      0                 NaT      0   \n",
       "153398                     NaT      0                 NaT      0   \n",
       "11690      2014-05-04 17:31:00    979 2014-05-04 17:33:07      0   \n",
       "\n",
       "                         time5  ...         session_end session_len  \\\n",
       "session_id                      ...                                   \n",
       "27554      2013-11-15 07:39:40  ... 2013-11-15 07:44:25         290   \n",
       "81350      2013-11-15 07:57:45  ... 2013-11-15 07:57:49         804   \n",
       "234665     2013-11-15 07:52:20  ... 2013-11-15 07:52:28          11   \n",
       "97610      2013-11-15 07:55:10  ... 2013-11-15 08:01:26         538   \n",
       "161358     2013-11-15 07:59:34  ... 2013-11-15 07:59:34         104   \n",
       "...                        ...  ...                 ...         ...   \n",
       "129606                     NaT  ... 2014-05-03 18:06:13           0   \n",
       "53628                      NaT  ... 2014-05-03 18:09:26           0   \n",
       "84754                      NaT  ... 2014-05-03 18:11:21           0   \n",
       "153398                     NaT  ... 2014-05-03 18:15:58           1   \n",
       "11690                      NaT  ... 2014-05-04 17:33:07         130   \n",
       "\n",
       "            start_year start_month  start_hour start_minute  start_seconds  \\\n",
       "session_id                                                                   \n",
       "27554             2013          11           7           39             35   \n",
       "81350             2013          11           7           44             25   \n",
       "234665            2013          11           7           52             17   \n",
       "97610             2013          11           7           52             28   \n",
       "161358            2013          11           7           57             50   \n",
       "...                ...         ...         ...          ...            ...   \n",
       "129606            2014           5          18            6             13   \n",
       "53628             2014           5          18            9             26   \n",
       "84754             2014           5          18           11             21   \n",
       "153398            2014           5          18           15             57   \n",
       "11690             2014           5          17           30             57   \n",
       "\n",
       "           start_time  weekday rating_sites  \n",
       "session_id                                   \n",
       "27554           27575        4     0.000000  \n",
       "81350           27865        4     0.000000  \n",
       "234665          28337        4    10.671260  \n",
       "97610           28348        4     9.973277  \n",
       "161358          28670        4     0.000000  \n",
       "...               ...      ...          ...  \n",
       "129606          65173        5     0.000000  \n",
       "53628           65366        5     0.000000  \n",
       "84754           65481        5     0.000000  \n",
       "153398          65757        5     0.000000  \n",
       "11690           63057        6     0.000000  \n",
       "\n",
       "[253561 rows x 33 columns]"
      ]
     },
     "execution_count": 25,
     "metadata": {},
     "output_type": "execute_result"
    }
   ],
   "source": [
    "%%time\n",
    "Add_rating_sites(train_df, Alica_sites)\n",
    "train_df"
   ]
  },
  {
   "cell_type": "markdown",
   "metadata": {},
   "source": [
    "### Этап 7\n",
    "Приводится алгоритм, по средстав которого предпринимались попытки найти актуальные пороги внутренней и внешней Алисы с перебором разных временных участков. Но данный алгоритм занимает слишком большой промежуток времени и требует сущетсвенной оптимизации."
   ]
  },
  {
   "cell_type": "code",
   "execution_count": 46,
   "metadata": {},
   "outputs": [
    {
     "name": "stdout",
     "output_type": "stream",
     "text": [
      "--------------------------------------------------------------------------\n",
      "period_minutes = 15\n",
      "--------------------------------------------------------------------------\n"
     ]
    },
    {
     "ename": "KeyboardInterrupt",
     "evalue": "",
     "output_type": "error",
     "traceback": [
      "\u001b[1;31m---------------------------------------------------------------------------\u001b[0m",
      "\u001b[1;31mKeyboardInterrupt\u001b[0m                         Traceback (most recent call last)",
      "File \u001b[1;32m<timed exec>:11\u001b[0m, in \u001b[0;36m<module>\u001b[1;34m\u001b[0m\n",
      "File \u001b[1;32m~\\AppData\\Local\\Programs\\Python\\Python39\\lib\\site-packages\\pandas\\core\\ops\\common.py:70\u001b[0m, in \u001b[0;36m_unpack_zerodim_and_defer.<locals>.new_method\u001b[1;34m(self, other)\u001b[0m\n\u001b[0;32m     66\u001b[0m             \u001b[38;5;28;01mreturn\u001b[39;00m \u001b[38;5;28mNotImplemented\u001b[39m\n\u001b[0;32m     68\u001b[0m other \u001b[38;5;241m=\u001b[39m item_from_zerodim(other)\n\u001b[1;32m---> 70\u001b[0m \u001b[38;5;28;01mreturn\u001b[39;00m \u001b[43mmethod\u001b[49m\u001b[43m(\u001b[49m\u001b[38;5;28;43mself\u001b[39;49m\u001b[43m,\u001b[49m\u001b[43m \u001b[49m\u001b[43mother\u001b[49m\u001b[43m)\u001b[49m\n",
      "File \u001b[1;32m~\\AppData\\Local\\Programs\\Python\\Python39\\lib\\site-packages\\pandas\\core\\arraylike.py:56\u001b[0m, in \u001b[0;36mOpsMixin.__gt__\u001b[1;34m(self, other)\u001b[0m\n\u001b[0;32m     54\u001b[0m \u001b[38;5;129m@unpack_zerodim_and_defer\u001b[39m(\u001b[38;5;124m\"\u001b[39m\u001b[38;5;124m__gt__\u001b[39m\u001b[38;5;124m\"\u001b[39m)\n\u001b[0;32m     55\u001b[0m \u001b[38;5;28;01mdef\u001b[39;00m \u001b[38;5;21m__gt__\u001b[39m(\u001b[38;5;28mself\u001b[39m, other):\n\u001b[1;32m---> 56\u001b[0m     \u001b[38;5;28;01mreturn\u001b[39;00m \u001b[38;5;28;43mself\u001b[39;49m\u001b[38;5;241;43m.\u001b[39;49m\u001b[43m_cmp_method\u001b[49m\u001b[43m(\u001b[49m\u001b[43mother\u001b[49m\u001b[43m,\u001b[49m\u001b[43m \u001b[49m\u001b[43moperator\u001b[49m\u001b[38;5;241;43m.\u001b[39;49m\u001b[43mgt\u001b[49m\u001b[43m)\u001b[49m\n",
      "File \u001b[1;32m~\\AppData\\Local\\Programs\\Python\\Python39\\lib\\site-packages\\pandas\\core\\series.py:5623\u001b[0m, in \u001b[0;36mSeries._cmp_method\u001b[1;34m(self, other, op)\u001b[0m\n\u001b[0;32m   5620\u001b[0m rvalues \u001b[38;5;241m=\u001b[39m extract_array(other, extract_numpy\u001b[38;5;241m=\u001b[39m\u001b[38;5;28;01mTrue\u001b[39;00m, extract_range\u001b[38;5;241m=\u001b[39m\u001b[38;5;28;01mTrue\u001b[39;00m)\n\u001b[0;32m   5622\u001b[0m \u001b[38;5;28;01mwith\u001b[39;00m np\u001b[38;5;241m.\u001b[39merrstate(\u001b[38;5;28mall\u001b[39m\u001b[38;5;241m=\u001b[39m\u001b[38;5;124m\"\u001b[39m\u001b[38;5;124mignore\u001b[39m\u001b[38;5;124m\"\u001b[39m):\n\u001b[1;32m-> 5623\u001b[0m     res_values \u001b[38;5;241m=\u001b[39m \u001b[43mops\u001b[49m\u001b[38;5;241;43m.\u001b[39;49m\u001b[43mcomparison_op\u001b[49m\u001b[43m(\u001b[49m\u001b[43mlvalues\u001b[49m\u001b[43m,\u001b[49m\u001b[43m \u001b[49m\u001b[43mrvalues\u001b[49m\u001b[43m,\u001b[49m\u001b[43m \u001b[49m\u001b[43mop\u001b[49m\u001b[43m)\u001b[49m\n\u001b[0;32m   5625\u001b[0m \u001b[38;5;28;01mreturn\u001b[39;00m \u001b[38;5;28mself\u001b[39m\u001b[38;5;241m.\u001b[39m_construct_result(res_values, name\u001b[38;5;241m=\u001b[39mres_name)\n",
      "File \u001b[1;32m~\\AppData\\Local\\Programs\\Python\\Python39\\lib\\site-packages\\pandas\\core\\ops\\array_ops.py:269\u001b[0m, in \u001b[0;36mcomparison_op\u001b[1;34m(left, right, op)\u001b[0m\n\u001b[0;32m    260\u001b[0m         \u001b[38;5;28;01mraise\u001b[39;00m \u001b[38;5;167;01mValueError\u001b[39;00m(\n\u001b[0;32m    261\u001b[0m             \u001b[38;5;124m\"\u001b[39m\u001b[38;5;124mLengths must match to compare\u001b[39m\u001b[38;5;124m\"\u001b[39m, lvalues\u001b[38;5;241m.\u001b[39mshape, rvalues\u001b[38;5;241m.\u001b[39mshape\n\u001b[0;32m    262\u001b[0m         )\n\u001b[0;32m    264\u001b[0m \u001b[38;5;28;01mif\u001b[39;00m should_extension_dispatch(lvalues, rvalues) \u001b[38;5;129;01mor\u001b[39;00m (\n\u001b[0;32m    265\u001b[0m     (\u001b[38;5;28misinstance\u001b[39m(rvalues, (Timedelta, BaseOffset, Timestamp)) \u001b[38;5;129;01mor\u001b[39;00m right \u001b[38;5;129;01mis\u001b[39;00m NaT)\n\u001b[0;32m    266\u001b[0m     \u001b[38;5;129;01mand\u001b[39;00m \u001b[38;5;129;01mnot\u001b[39;00m is_object_dtype(lvalues\u001b[38;5;241m.\u001b[39mdtype)\n\u001b[0;32m    267\u001b[0m ):\n\u001b[0;32m    268\u001b[0m     \u001b[38;5;66;03m# Call the method on lvalues\u001b[39;00m\n\u001b[1;32m--> 269\u001b[0m     res_values \u001b[38;5;241m=\u001b[39m \u001b[43mop\u001b[49m\u001b[43m(\u001b[49m\u001b[43mlvalues\u001b[49m\u001b[43m,\u001b[49m\u001b[43m \u001b[49m\u001b[43mrvalues\u001b[49m\u001b[43m)\u001b[49m\n\u001b[0;32m    271\u001b[0m \u001b[38;5;28;01melif\u001b[39;00m is_scalar(rvalues) \u001b[38;5;129;01mand\u001b[39;00m isna(rvalues):  \u001b[38;5;66;03m# TODO: but not pd.NA?\u001b[39;00m\n\u001b[0;32m    272\u001b[0m     \u001b[38;5;66;03m# numpy does not like comparisons vs None\u001b[39;00m\n\u001b[0;32m    273\u001b[0m     \u001b[38;5;28;01mif\u001b[39;00m op \u001b[38;5;129;01mis\u001b[39;00m operator\u001b[38;5;241m.\u001b[39mne:\n",
      "File \u001b[1;32m~\\AppData\\Local\\Programs\\Python\\Python39\\lib\\site-packages\\pandas\\core\\ops\\common.py:70\u001b[0m, in \u001b[0;36m_unpack_zerodim_and_defer.<locals>.new_method\u001b[1;34m(self, other)\u001b[0m\n\u001b[0;32m     66\u001b[0m             \u001b[38;5;28;01mreturn\u001b[39;00m \u001b[38;5;28mNotImplemented\u001b[39m\n\u001b[0;32m     68\u001b[0m other \u001b[38;5;241m=\u001b[39m item_from_zerodim(other)\n\u001b[1;32m---> 70\u001b[0m \u001b[38;5;28;01mreturn\u001b[39;00m \u001b[43mmethod\u001b[49m\u001b[43m(\u001b[49m\u001b[38;5;28;43mself\u001b[39;49m\u001b[43m,\u001b[49m\u001b[43m \u001b[49m\u001b[43mother\u001b[49m\u001b[43m)\u001b[49m\n",
      "File \u001b[1;32m~\\AppData\\Local\\Programs\\Python\\Python39\\lib\\site-packages\\pandas\\core\\arraylike.py:56\u001b[0m, in \u001b[0;36mOpsMixin.__gt__\u001b[1;34m(self, other)\u001b[0m\n\u001b[0;32m     54\u001b[0m \u001b[38;5;129m@unpack_zerodim_and_defer\u001b[39m(\u001b[38;5;124m\"\u001b[39m\u001b[38;5;124m__gt__\u001b[39m\u001b[38;5;124m\"\u001b[39m)\n\u001b[0;32m     55\u001b[0m \u001b[38;5;28;01mdef\u001b[39;00m \u001b[38;5;21m__gt__\u001b[39m(\u001b[38;5;28mself\u001b[39m, other):\n\u001b[1;32m---> 56\u001b[0m     \u001b[38;5;28;01mreturn\u001b[39;00m \u001b[38;5;28;43mself\u001b[39;49m\u001b[38;5;241;43m.\u001b[39;49m\u001b[43m_cmp_method\u001b[49m\u001b[43m(\u001b[49m\u001b[43mother\u001b[49m\u001b[43m,\u001b[49m\u001b[43m \u001b[49m\u001b[43moperator\u001b[49m\u001b[38;5;241;43m.\u001b[39;49m\u001b[43mgt\u001b[49m\u001b[43m)\u001b[49m\n",
      "File \u001b[1;32m~\\AppData\\Local\\Programs\\Python\\Python39\\lib\\site-packages\\pandas\\core\\arrays\\datetimelike.py:1025\u001b[0m, in \u001b[0;36mDatetimeLikeArrayMixin._cmp_method\u001b[1;34m(self, other, op)\u001b[0m\n\u001b[0;32m   1023\u001b[0m other_vals \u001b[38;5;241m=\u001b[39m \u001b[38;5;28mself\u001b[39m\u001b[38;5;241m.\u001b[39m_unbox(other)\n\u001b[0;32m   1024\u001b[0m \u001b[38;5;66;03m# GH#37462 comparison on i8 values is almost 2x faster than M8/m8\u001b[39;00m\n\u001b[1;32m-> 1025\u001b[0m result \u001b[38;5;241m=\u001b[39m \u001b[43mop\u001b[49m\u001b[43m(\u001b[49m\u001b[38;5;28;43mself\u001b[39;49m\u001b[38;5;241;43m.\u001b[39;49m\u001b[43m_ndarray\u001b[49m\u001b[38;5;241;43m.\u001b[39;49m\u001b[43mview\u001b[49m\u001b[43m(\u001b[49m\u001b[38;5;124;43m\"\u001b[39;49m\u001b[38;5;124;43mi8\u001b[39;49m\u001b[38;5;124;43m\"\u001b[39;49m\u001b[43m)\u001b[49m\u001b[43m,\u001b[49m\u001b[43m \u001b[49m\u001b[43mother_vals\u001b[49m\u001b[38;5;241;43m.\u001b[39;49m\u001b[43mview\u001b[49m\u001b[43m(\u001b[49m\u001b[38;5;124;43m\"\u001b[39;49m\u001b[38;5;124;43mi8\u001b[39;49m\u001b[38;5;124;43m\"\u001b[39;49m\u001b[43m)\u001b[49m\u001b[43m)\u001b[49m\n\u001b[0;32m   1027\u001b[0m o_mask \u001b[38;5;241m=\u001b[39m isna(other)\n\u001b[0;32m   1028\u001b[0m mask \u001b[38;5;241m=\u001b[39m \u001b[38;5;28mself\u001b[39m\u001b[38;5;241m.\u001b[39m_isnan \u001b[38;5;241m|\u001b[39m o_mask\n",
      "\u001b[1;31mKeyboardInterrupt\u001b[0m: "
     ]
    }
   ],
   "source": [
    "%%time\n",
    "\n",
    "Alice_nearby = np.zeros(shape=(3,5,5,len(train_df)))\n",
    "\n",
    "for period_minutes in [15, 20, 25, 30, 35, 40]:\n",
    "    delta = timedelta(minutes=period_minutes)\n",
    "    print(\"--------------------------------------------------------------------------\")\n",
    "    print(\"period_minutes = \" + str(period_minutes))\n",
    "    print(\"--------------------------------------------------------------------------\")\n",
    "    i = 0\n",
    "    for ind in train_df.index:\n",
    "        session = train_df.loc[ind]\n",
    "        temp_1 = train_df[(train_df.session_strt > (session.session_strt - delta))\n",
    "                        & (train_df.session_strt < session.session_strt)] # НЕ учитывается данная выборка\n",
    "        temp_2 = train_df[(train_df.session_strt > session.session_end)   # НЕ учитывается данная выборка\n",
    "                        & (train_df.session_strt < (session.session_end + delta))]\n",
    "        \n",
    "        f1_i=0 # личная вероятность (внутреняя)\n",
    "        for fraction_1 in [0.4, 0.45, 0.5, 0.55, 0.6]:\n",
    "            f2_i=0  # внешняя вероятность\n",
    "            f1_found = 0\n",
    "            if session.y_pred > fraction_1:\n",
    "                f1_found = 1\n",
    "                \n",
    "            for fraction_2 in [0.4, 0.45, 0.5, 0.55, 0.6]:\n",
    "                Alice_nearby[0][f1_i][f2_i][i] = f1_found\n",
    "                \n",
    "                len_temp_1_good = len(temp_1[temp_1.y_pred > fraction_2])\n",
    "                if len_temp_1_good>0:\n",
    "                    Alice_nearby[1][f1_i][f2_i][i] = 1\n",
    "                len_temp_2_good = len(temp_2[temp_2.y_pred > fraction_2])\n",
    "                if len_temp_2_good>0:\n",
    "                    Alice_nearby[2][f1_i][f2_i][i] = 1\n",
    "                f2_i+=1\n",
    "            f1_i+=1   \n",
    "        i+=1\n",
    "    \n",
    "    f1_i=0\n",
    "    for fraction_1 in [0.4, 0.45, 0.5, 0.55, 0.6]:\n",
    "        f2_i=0\n",
    "        for fraction_2 in [0.4, 0.45, 0.5, 0.55, 0.6]:\n",
    "            print(\"fraction_1 = \" + str(fraction_1) + \"| fraction_2 = \" + str(fraction_2) +\"| period_minutes = \" + str(period_minutes))\n",
    "            # выделяем нужный массив данных\n",
    "            train_nearby = Alice_nearby[:][:][f1_i]\n",
    "            train_nearby = train_nearby[:][f2_i]\n",
    "            \n",
    "            # сохраняем парамеры для дальнейшего использования, чтобы не перезапускать расчёты\n",
    "            name = \"Alice_nearby_BIA\"+\"_f1\"+str(fraction_1)+\"_f2\"+str(fraction_2)+\"_p\"+str(period_minutes)+\".txt\"\n",
    "            np.savetxt(name, train_nearby.T, fmt='%i', delimiter=\" \")\n",
    "            # добавляем полученное поле в выборку\n",
    "            C_nearby = csr_matrix(train_nearby.T, dtype=np.int64)\n",
    "            X_train_temp = hstack((X_train_week6_hour9to19_endSes_Alice, C_nearby))\n",
    "            \n",
    "            # запускаем модель, для получения данных\n",
    "            lr = LogisticRegression(C=0.1, random_state=17, solver='lbfgs', max_iter=1000).fit(X_train_temp, y_train)\n",
    "            cv_scores = cv_get_auc_lr_valid(X_train_temp, y_train, lr)\n",
    "            print(np.round(cv_scores,4), f'Среднее значение по 10-ти фолдам: {round(cv_scores.mean(),4)}')\n",
    "            \n",
    "            f2_i+=1\n",
    "        f1_i+=1"
   ]
  },
  {
   "cell_type": "markdown",
   "metadata": {},
   "source": [
    "### Подбор оптимальных значений количества фич и точек\n",
    "Приводится алгоритм осуществляющий перебор ngram_range и max_features. Однако по результатам исследований разницы почти никакой нет, что вызывает сомнения. Увы, но времени на уточнение причин и ошибок уже не имеется, поэтому располагаем в \"Дополнительное\"."
   ]
  },
  {
   "cell_type": "code",
   "execution_count": null,
   "metadata": {},
   "outputs": [
    {
     "name": "stdout",
     "output_type": "stream",
     "text": [
      "----------------------------------\n",
      "2\n",
      "----------------------------------\n",
      "k =  10000\n",
      "[0.7629 0.9363 0.9765 0.7854 0.975  0.9702 0.7984 0.9791 0.9899 0.985 ] Среднее значение по 10-ти фолдам: 0.9159\n",
      "k =  15000\n",
      "[0.7607 0.9358 0.9763 0.7879 0.9748 0.972  0.8272 0.9793 0.9904 0.9855] Среднее значение по 10-ти фолдам: 0.919\n",
      "k =  20000\n",
      "[0.7609 0.9368 0.9763 0.7881 0.9749 0.9723 0.8261 0.9793 0.9904 0.9854] Среднее значение по 10-ти фолдам: 0.919\n",
      "k =  25000\n",
      "[0.7604 0.9369 0.9761 0.7872 0.9746 0.9725 0.8277 0.9793 0.9904 0.9854] Среднее значение по 10-ти фолдам: 0.9191\n",
      "k =  30000\n",
      "[0.7603 0.937  0.9761 0.7872 0.9746 0.9724 0.8272 0.9794 0.9904 0.9855] Среднее значение по 10-ти фолдам: 0.919\n",
      "k =  35000\n",
      "[0.7598 0.9375 0.9762 0.7872 0.9746 0.9726 0.827  0.9793 0.9905 0.9855] Среднее значение по 10-ти фолдам: 0.919\n",
      "k =  40000\n",
      "[0.7599 0.9377 0.9762 0.7871 0.9746 0.9726 0.8273 0.9793 0.9904 0.9855] Среднее значение по 10-ти фолдам: 0.9191\n",
      "k =  45000\n",
      "[0.7598 0.9379 0.9761 0.7871 0.9745 0.9727 0.8271 0.9793 0.9904 0.9855] Среднее значение по 10-ти фолдам: 0.919\n",
      "k =  50000\n",
      "[0.7598 0.9378 0.976  0.7871 0.9745 0.9727 0.8272 0.9793 0.9904 0.9855] Среднее значение по 10-ти фолдам: 0.919\n",
      "k =  55000\n",
      "[0.7596 0.9379 0.9759 0.7874 0.9745 0.9728 0.8268 0.9793 0.9904 0.9855] Среднее значение по 10-ти фолдам: 0.919\n",
      "k =  60000\n",
      "[0.7596 0.938  0.9759 0.7875 0.9745 0.9728 0.8264 0.9793 0.9904 0.9855] Среднее значение по 10-ти фолдам: 0.919\n",
      "k =  65000\n",
      "[0.7597 0.938  0.9759 0.7874 0.9745 0.9728 0.8264 0.9793 0.9904 0.9854] Среднее значение по 10-ти фолдам: 0.919\n",
      "k =  70000\n",
      "[0.7597 0.938  0.9759 0.7874 0.9745 0.9727 0.8262 0.9793 0.9905 0.9854] Среднее значение по 10-ти фолдам: 0.919\n",
      "k =  75000\n",
      "[0.7596 0.938  0.9759 0.7874 0.9745 0.9728 0.8263 0.9793 0.9904 0.9854] Среднее значение по 10-ти фолдам: 0.919\n",
      "k =  80000\n",
      "[0.7595 0.938  0.9758 0.7873 0.9745 0.9728 0.8263 0.9793 0.9904 0.9854] Среднее значение по 10-ти фолдам: 0.9189\n",
      "k =  85000\n",
      "[0.7592 0.9381 0.9758 0.7872 0.9745 0.9728 0.8262 0.9793 0.9904 0.9854] Среднее значение по 10-ти фолдам: 0.9189\n",
      "k =  90000\n",
      "[0.7592 0.9382 0.9758 0.7871 0.9744 0.9728 0.8261 0.9793 0.9904 0.9854] Среднее значение по 10-ти фолдам: 0.9189\n",
      "k =  95000\n",
      "[0.7592 0.9382 0.9758 0.7871 0.9744 0.9728 0.8261 0.9793 0.9905 0.9854] Среднее значение по 10-ти фолдам: 0.9189\n",
      "----------------------------------\n",
      "3\n",
      "----------------------------------\n",
      "k =  10000\n",
      "[0.7649 0.9348 0.9783 0.7885 0.9749 0.9692 0.7999 0.9788 0.9903 0.9847] Среднее значение по 10-ти фолдам: 0.9164\n",
      "k =  15000\n",
      "[0.7647 0.9342 0.9779 0.7863 0.9749 0.9696 0.7982 0.9788 0.9902 0.9849] Среднее значение по 10-ти фолдам: 0.916\n",
      "k =  20000\n",
      "[0.7623 0.9334 0.9778 0.7889 0.9746 0.9713 0.8269 0.979  0.9907 0.9853] Среднее значение по 10-ти фолдам: 0.919\n",
      "k =  25000\n",
      "[0.7621 0.9337 0.9777 0.7887 0.9746 0.9715 0.8263 0.979  0.9908 0.9853] Среднее значение по 10-ти фолдам: 0.919\n",
      "k =  30000\n",
      "[0.7626 0.9343 0.9777 0.7888 0.9747 0.9717 0.8255 0.9791 0.9907 0.9852] Среднее значение по 10-ти фолдам: 0.919\n",
      "k =  35000\n",
      "[0.7617 0.9347 0.9777 0.7882 0.9745 0.9719 0.8262 0.979  0.9907 0.9852] Среднее значение по 10-ти фолдам: 0.919\n",
      "k =  40000\n",
      "[0.762  0.9342 0.9776 0.7878 0.9744 0.9719 0.8268 0.9791 0.9907 0.9853] Среднее значение по 10-ти фолдам: 0.919\n",
      "k =  45000\n",
      "[0.762  0.9342 0.9776 0.7875 0.9744 0.9719 0.8263 0.9791 0.9907 0.9853] Среднее значение по 10-ти фолдам: 0.9189\n",
      "k =  50000\n",
      "[0.7618 0.9343 0.9776 0.7876 0.9744 0.9721 0.8261 0.9791 0.9907 0.9854] Среднее значение по 10-ти фолдам: 0.9189\n",
      "k =  55000\n",
      "[0.7613 0.9347 0.9777 0.7878 0.9744 0.9721 0.826  0.9791 0.9907 0.9854] Среднее значение по 10-ти фолдам: 0.9189\n",
      "k =  60000\n",
      "[0.7612 0.9349 0.9777 0.7879 0.9743 0.9721 0.8261 0.9791 0.9907 0.9853] Среднее значение по 10-ти фолдам: 0.9189\n",
      "k =  65000\n",
      "[0.7611 0.9352 0.9777 0.7879 0.9743 0.9721 0.8258 0.9791 0.9907 0.9853] Среднее значение по 10-ти фолдам: 0.9189\n",
      "k =  70000\n",
      "[0.7612 0.9351 0.9776 0.7879 0.9743 0.9722 0.8259 0.979  0.9907 0.9853] Среднее значение по 10-ти фолдам: 0.9189\n",
      "k =  75000\n",
      "[0.7611 0.935  0.9776 0.7878 0.9743 0.9722 0.8259 0.9791 0.9907 0.9853] Среднее значение по 10-ти фолдам: 0.9189\n",
      "k =  80000\n",
      "[0.7612 0.935  0.9776 0.7878 0.9743 0.9722 0.8258 0.9791 0.9907 0.9853] Среднее значение по 10-ти фолдам: 0.9189\n",
      "k =  85000\n",
      "[0.7612 0.9349 0.9775 0.7879 0.9743 0.9722 0.8258 0.9791 0.9907 0.9853] Среднее значение по 10-ти фолдам: 0.9189\n",
      "k =  90000\n",
      "[0.7611 0.9348 0.9774 0.7879 0.9743 0.9723 0.8259 0.979  0.9907 0.9853] Среднее значение по 10-ти фолдам: 0.9189\n",
      "k =  95000\n",
      "[0.7611 0.9349 0.9774 0.7878 0.9743 0.9722 0.8259 0.9791 0.9907 0.9853] Среднее значение по 10-ти фолдам: 0.9189\n",
      "----------------------------------\n",
      "4\n",
      "----------------------------------\n",
      "k =  10000\n",
      "[0.7649 0.9325 0.9787 0.7883 0.9751 0.9637 0.8005 0.9787 0.9903 0.9846] Среднее значение по 10-ти фолдам: 0.9157\n",
      "k =  15000\n",
      "[0.7658 0.9333 0.9795 0.7851 0.9752 0.9692 0.7984 0.9788 0.9903 0.9849] Среднее значение по 10-ти фолдам: 0.916\n",
      "k =  20000\n",
      "[0.7654 0.9318 0.9782 0.7875 0.9747 0.9702 0.7981 0.9788 0.9901 0.985 ] Среднее значение по 10-ти фолдам: 0.916\n",
      "k =  25000\n",
      "[0.7631 0.9315 0.9783 0.7886 0.9746 0.9713 0.8275 0.9789 0.9907 0.9854] Среднее значение по 10-ти фолдам: 0.919\n",
      "k =  30000\n",
      "[0.7629 0.9318 0.9783 0.7884 0.9746 0.9713 0.8268 0.9789 0.9907 0.9853] Среднее значение по 10-ти фолдам: 0.9189\n",
      "k =  35000\n",
      "[0.7633 0.9323 0.9783 0.7887 0.9747 0.9714 0.8259 0.9789 0.9907 0.9852] Среднее значение по 10-ти фолдам: 0.9189\n",
      "k =  40000\n",
      "[0.7626 0.9326 0.9783 0.7886 0.9746 0.9716 0.826  0.9789 0.9907 0.9853] Среднее значение по 10-ти фолдам: 0.9189\n",
      "k =  45000\n",
      "[0.7626 0.9327 0.9782 0.7879 0.9744 0.9716 0.8266 0.9789 0.9907 0.9852] Среднее значение по 10-ти фолдам: 0.9189\n",
      "k =  50000\n",
      "[0.7629 0.932  0.9781 0.7878 0.9743 0.9717 0.8272 0.9789 0.9907 0.9853] Среднее значение по 10-ти фолдам: 0.9189\n",
      "k =  55000\n",
      "[0.763  0.932  0.9781 0.7875 0.9743 0.9717 0.8269 0.979  0.9907 0.9853] Среднее значение по 10-ти фолдам: 0.9188\n",
      "k =  60000\n",
      "[0.7629 0.9319 0.9781 0.7874 0.9743 0.9719 0.8267 0.979  0.9907 0.9853] Среднее значение по 10-ти фолдам: 0.9188\n",
      "k =  65000\n",
      "[0.7623 0.9323 0.9783 0.7877 0.9743 0.9719 0.8266 0.979  0.9907 0.9853] Среднее значение по 10-ти фолдам: 0.9188\n",
      "k =  70000\n",
      "[0.7622 0.9323 0.9782 0.7876 0.9743 0.9719 0.8265 0.9789 0.9907 0.9853] Среднее значение по 10-ти фолдам: 0.9188\n",
      "k =  75000\n",
      "[0.7623 0.9324 0.9783 0.7878 0.9743 0.972  0.8268 0.9789 0.9907 0.9853] Среднее значение по 10-ти фолдам: 0.9189\n",
      "k =  80000\n",
      "[0.7623 0.9325 0.9782 0.7878 0.9743 0.972  0.8268 0.9789 0.9907 0.9852] Среднее значение по 10-ти фолдам: 0.9189\n",
      "k =  85000\n",
      "[0.7622 0.9326 0.9782 0.7879 0.9742 0.972  0.8268 0.9788 0.9907 0.9853] Среднее значение по 10-ти фолдам: 0.9189\n",
      "k =  90000\n",
      "[0.7622 0.9325 0.9782 0.7878 0.9742 0.972  0.8267 0.9789 0.9907 0.9852] Среднее значение по 10-ти фолдам: 0.9188\n",
      "k =  95000\n",
      "[0.7623 0.9325 0.9782 0.7878 0.9742 0.972  0.8265 0.9789 0.9907 0.9852] Среднее значение по 10-ти фолдам: 0.9188\n",
      "----------------------------------\n",
      "5\n",
      "----------------------------------\n",
      "k =  10000\n",
      "[0.765  0.9311 0.9788 0.7877 0.9751 0.9636 0.7998 0.9787 0.9903 0.9845] Среднее значение по 10-ти фолдам: 0.9155\n",
      "k =  15000\n",
      "[0.7663 0.9317 0.9795 0.787  0.9752 0.9691 0.7987 0.9788 0.9904 0.9848] Среднее значение по 10-ти фолдам: 0.9162\n",
      "k =  20000\n",
      "[0.7656 0.9304 0.9783 0.7872 0.9747 0.9702 0.798  0.9786 0.9901 0.9849] Среднее значение по 10-ти фолдам: 0.9158\n",
      "k =  25000\n",
      "[0.7656 0.9294 0.9779 0.787  0.9747 0.97   0.7983 0.9787 0.9902 0.9848] Среднее значение по 10-ти фолдам: 0.9157\n",
      "k =  30000\n",
      "[0.7634 0.9301 0.9784 0.7881 0.9746 0.9712 0.8271 0.9789 0.9907 0.9853] Среднее значение по 10-ти фолдам: 0.9188\n",
      "k =  35000\n",
      "[0.7635 0.9306 0.9784 0.7876 0.9746 0.9713 0.8265 0.9789 0.9907 0.9852] Среднее значение по 10-ти фолдам: 0.9187\n",
      "k =  40000\n",
      "[0.7638 0.9309 0.9784 0.788  0.9747 0.9714 0.8259 0.9789 0.9907 0.9851] Среднее значение по 10-ти фолдам: 0.9188\n",
      "k =  45000\n",
      "[0.7639 0.9313 0.9784 0.7881 0.9746 0.9714 0.826  0.9789 0.9907 0.9852] Среднее значение по 10-ти фолдам: 0.9188\n",
      "k =  50000\n",
      "[0.7632 0.931  0.9783 0.7874 0.9743 0.9715 0.8266 0.9789 0.9907 0.9852] Среднее значение по 10-ти фолдам: 0.9187\n",
      "k =  55000\n",
      "[0.7634 0.9307 0.9783 0.7872 0.9743 0.9716 0.8272 0.9789 0.9907 0.9852] Среднее значение по 10-ти фолдам: 0.9187\n"
     ]
    },
    {
     "name": "stdout",
     "output_type": "stream",
     "text": [
      "k =  60000\n",
      "[0.7635 0.9306 0.9782 0.787  0.9743 0.9716 0.827  0.9789 0.9907 0.9852] Среднее значение по 10-ти фолдам: 0.9187\n",
      "k =  65000\n",
      "[0.7635 0.9306 0.9783 0.7868 0.9743 0.9716 0.8269 0.979  0.9907 0.9852] Среднее значение по 10-ти фолдам: 0.9187\n",
      "k =  70000\n",
      "[0.7634 0.9306 0.9783 0.7871 0.9742 0.9718 0.8268 0.9789 0.9907 0.9852] Среднее значение по 10-ти фолдам: 0.9187\n",
      "k =  75000\n",
      "[0.763  0.931  0.9784 0.7872 0.9742 0.9718 0.8267 0.9789 0.9907 0.9852] Среднее значение по 10-ти фолдам: 0.9187\n",
      "k =  80000\n",
      "[0.7629 0.9311 0.9784 0.7871 0.9742 0.9718 0.8266 0.9789 0.9907 0.9852] Среднее значение по 10-ти фолдам: 0.9187\n",
      "k =  85000\n",
      "[0.7629 0.9312 0.9784 0.7873 0.9742 0.9718 0.8269 0.9789 0.9907 0.9852] Среднее значение по 10-ти фолдам: 0.9188\n",
      "k =  90000\n",
      "[0.7629 0.9312 0.9784 0.7874 0.9742 0.9718 0.827  0.9789 0.9907 0.9852] Среднее значение по 10-ти фолдам: 0.9188\n",
      "k =  95000\n",
      "[0.763  0.9311 0.9784 0.7874 0.9741 0.9718 0.827  0.9789 0.9907 0.9852] Среднее значение по 10-ти фолдам: 0.9188\n",
      "----------------------------------\n",
      "6\n",
      "----------------------------------\n",
      "k =  10000\n",
      "[0.7651 0.9305 0.9789 0.7874 0.9751 0.9636 0.7995 0.9787 0.9903 0.9845] Среднее значение по 10-ти фолдам: 0.9154\n",
      "k =  15000\n",
      "[0.7663 0.9313 0.9796 0.7866 0.975  0.9689 0.7984 0.9786 0.9903 0.9846] Среднее значение по 10-ти фолдам: 0.916\n",
      "k =  20000\n",
      "[0.7659 0.9306 0.9786 0.7852 0.9748 0.9694 0.7982 0.9787 0.9902 0.9848] Среднее значение по 10-ти фолдам: 0.9156\n",
      "k =  25000\n",
      "[0.7659 0.929  0.978  0.7866 0.9746 0.9701 0.7983 0.9787 0.9901 0.9848] Среднее значение по 10-ти фолдам: 0.9156\n",
      "k =  30000\n",
      "[0.7637 0.9297 0.9785 0.7879 0.9745 0.9711 0.8271 0.9789 0.9907 0.9853] Среднее значение по 10-ти фолдам: 0.9187\n",
      "k =  35000\n",
      "[0.7636 0.9302 0.9784 0.7874 0.9746 0.9712 0.8263 0.9789 0.9907 0.9851] Среднее значение по 10-ти фолдам: 0.9186\n",
      "k =  40000\n",
      "[0.764  0.9304 0.9785 0.788  0.9746 0.9713 0.8258 0.9789 0.9907 0.9851] Среднее значение по 10-ти фолдам: 0.9187\n",
      "k =  45000\n",
      "[0.764  0.9307 0.9784 0.7879 0.9746 0.9714 0.826  0.9789 0.9906 0.9851] Среднее значение по 10-ти фолдам: 0.9188\n",
      "k =  50000\n",
      "[0.7633 0.9309 0.9784 0.7873 0.9743 0.9715 0.8264 0.9789 0.9907 0.9851] Среднее значение по 10-ти фолдам: 0.9187\n",
      "k =  55000\n",
      "[0.7635 0.9303 0.9783 0.7872 0.9743 0.9716 0.8266 0.9789 0.9907 0.9852] Среднее значение по 10-ти фолдам: 0.9186\n",
      "k =  60000\n",
      "[0.7637 0.9302 0.9783 0.7869 0.9742 0.9715 0.8269 0.979  0.9907 0.9852] Среднее значение по 10-ти фолдам: 0.9187\n",
      "k =  65000\n",
      "[0.7636 0.9301 0.9783 0.7866 0.9742 0.9715 0.8268 0.9789 0.9907 0.9852] Среднее значение по 10-ти фолдам: 0.9186\n",
      "k =  70000\n",
      "[0.7637 0.9302 0.9783 0.7869 0.9742 0.9717 0.8268 0.9789 0.9907 0.9852] Среднее значение по 10-ти фолдам: 0.9187\n",
      "k =  75000\n",
      "[0.7636 0.9303 0.9783 0.7868 0.9742 0.9717 0.8268 0.9789 0.9907 0.9852] Среднее значение по 10-ти фолдам: 0.9187\n",
      "k =  80000\n",
      "[0.7636 0.9304 0.9784 0.7868 0.9742 0.9717 0.8266 0.9789 0.9906 0.9852] Среднее значение по 10-ти фолдам: 0.9187\n",
      "k =  85000\n",
      "[0.7632 0.9306 0.9784 0.7869 0.9742 0.9717 0.8267 0.9789 0.9907 0.9852] Среднее значение по 10-ти фолдам: 0.9187\n",
      "k =  90000\n",
      "[0.7632 0.9305 0.9784 0.787  0.9742 0.9717 0.8268 0.9789 0.9907 0.9852] Среднее значение по 10-ти фолдам: 0.9187\n",
      "k =  95000\n",
      "[0.7632 0.9307 0.9784 0.7873 0.9741 0.9717 0.827  0.9788 0.9907 0.9852] Среднее значение по 10-ти фолдам: 0.9187\n",
      "----------------------------------\n",
      "7\n",
      "----------------------------------\n",
      "k =  10000\n",
      "[0.7652 0.9303 0.9789 0.7872 0.975  0.9636 0.7995 0.9786 0.9903 0.9845] Среднее значение по 10-ти фолдам: 0.9153\n",
      "k =  15000\n",
      "[0.7664 0.931  0.9796 0.7866 0.975  0.9689 0.7986 0.9787 0.9903 0.9846] Среднее значение по 10-ти фолдам: 0.916\n",
      "k =  20000\n",
      "[0.7659 0.9307 0.9786 0.7848 0.9748 0.9694 0.798  0.9787 0.9901 0.9848] Среднее значение по 10-ти фолдам: 0.9156\n",
      "k =  25000\n",
      "[0.7661 0.9289 0.978  0.7865 0.9746 0.97   0.7982 0.9787 0.9901 0.9848] Среднее значение по 10-ти фолдам: 0.9156\n",
      "k =  30000\n",
      "[0.7638 0.9295 0.9785 0.7878 0.9745 0.9711 0.8272 0.9789 0.9907 0.9853] Среднее значение по 10-ти фолдам: 0.9187\n",
      "k =  35000\n",
      "[0.7636 0.9297 0.9785 0.7876 0.9745 0.9711 0.8265 0.9788 0.9907 0.9852] Среднее значение по 10-ти фолдам: 0.9186\n",
      "k =  40000\n",
      "[0.7638 0.9301 0.9785 0.7876 0.9746 0.9712 0.8261 0.9789 0.9907 0.9852] Среднее значение по 10-ти фолдам: 0.9187\n",
      "k =  45000\n",
      "[0.7641 0.9305 0.9785 0.7876 0.9746 0.9714 0.8259 0.9789 0.9906 0.9852] Среднее значение по 10-ти фолдам: 0.9187\n",
      "k =  50000\n",
      "[0.7633 0.9308 0.9784 0.7873 0.9743 0.9715 0.8265 0.9788 0.9907 0.9851] Среднее значение по 10-ти фолдам: 0.9187\n",
      "k =  55000\n",
      "[0.7635 0.9304 0.9784 0.7872 0.9743 0.9715 0.8266 0.9789 0.9907 0.9852] Среднее значение по 10-ти фолдам: 0.9187\n",
      "k =  60000\n",
      "[0.7638 0.9301 0.9783 0.7869 0.9742 0.9716 0.8266 0.9789 0.9906 0.9852] Среднее значение по 10-ти фолдам: 0.9186\n",
      "k =  65000\n",
      "[0.7637 0.93   0.9783 0.7867 0.9742 0.9715 0.8268 0.9789 0.9907 0.9852] Среднее значение по 10-ти фолдам: 0.9186\n",
      "k =  70000\n",
      "[0.7638 0.9301 0.9783 0.7866 0.9742 0.9715 0.8268 0.9789 0.9907 0.9852] Среднее значение по 10-ти фолдам: 0.9186\n",
      "k =  75000\n",
      "[0.7637 0.9301 0.9783 0.7867 0.9742 0.9717 0.8267 0.9789 0.9906 0.9852] Среднее значение по 10-ти фолдам: 0.9186\n",
      "k =  80000\n",
      "[0.7633 0.9304 0.9784 0.7867 0.9742 0.9717 0.8267 0.9789 0.9907 0.9852] Среднее значение по 10-ти фолдам: 0.9186\n",
      "k =  85000\n",
      "[0.7633 0.9304 0.9784 0.7868 0.9742 0.9717 0.8267 0.9789 0.9907 0.9852] Среднее значение по 10-ти фолдам: 0.9186\n",
      "k =  90000\n",
      "[0.7633 0.9304 0.9784 0.7867 0.9742 0.9717 0.8267 0.9789 0.9907 0.9852] Среднее значение по 10-ти фолдам: 0.9186\n",
      "k =  95000\n",
      "[0.7633 0.9304 0.9784 0.7868 0.9742 0.9717 0.8268 0.9788 0.9907 0.9852] Среднее значение по 10-ти фолдам: 0.9186\n",
      "----------------------------------\n",
      "8\n",
      "----------------------------------\n",
      "k =  10000\n",
      "[0.7652 0.9302 0.9789 0.7871 0.975  0.9636 0.7995 0.9786 0.9903 0.9845] Среднее значение по 10-ти фолдам: 0.9153\n",
      "k =  15000\n",
      "[0.7663 0.9311 0.9796 0.7866 0.975  0.9689 0.7987 0.9787 0.9903 0.9847] Среднее значение по 10-ти фолдам: 0.916\n",
      "k =  20000\n",
      "[0.7668 0.9314 0.9797 0.7852 0.9748 0.9691 0.7974 0.9787 0.9901 0.9847] Среднее значение по 10-ти фолдам: 0.9158\n",
      "k =  25000\n",
      "[0.7661 0.9289 0.978  0.7865 0.9746 0.97   0.7982 0.9787 0.9901 0.9848] Среднее значение по 10-ти фолдам: 0.9156\n",
      "k =  30000\n",
      "[0.7638 0.9293 0.9785 0.7876 0.9745 0.9711 0.8273 0.9789 0.9907 0.9852] Среднее значение по 10-ти фолдам: 0.9187\n",
      "k =  35000\n",
      "[0.7638 0.9297 0.9784 0.7875 0.9745 0.9711 0.8266 0.9788 0.9907 0.9852] Среднее значение по 10-ти фолдам: 0.9187\n",
      "k =  40000\n",
      "[0.7641 0.9302 0.9784 0.7879 0.9746 0.9712 0.826  0.9789 0.9907 0.9851] Среднее значение по 10-ти фолдам: 0.9187\n",
      "k =  45000\n",
      "[0.7642 0.9302 0.9785 0.7876 0.9746 0.9713 0.8258 0.9789 0.9907 0.9851] Среднее значение по 10-ти фолдам: 0.9187\n",
      "k =  50000\n",
      "[0.7634 0.9308 0.9784 0.7871 0.9743 0.9715 0.8265 0.9788 0.9907 0.9851] Среднее значение по 10-ти фолдам: 0.9187\n",
      "k =  55000\n",
      "[0.7634 0.9307 0.9784 0.7869 0.9742 0.9715 0.8266 0.9789 0.9907 0.9852] Среднее значение по 10-ти фолдам: 0.9187\n",
      "k =  60000\n",
      "[0.7638 0.9301 0.9783 0.7868 0.9742 0.9715 0.827  0.9789 0.9906 0.9852] Среднее значение по 10-ти фолдам: 0.9186\n",
      "k =  65000\n",
      "[0.7639 0.9299 0.9783 0.7867 0.9742 0.9715 0.827  0.9789 0.9906 0.9852] Среднее значение по 10-ти фолдам: 0.9186\n",
      "k =  70000\n",
      "[0.7637 0.93   0.9783 0.7864 0.9742 0.9715 0.8268 0.979  0.9906 0.9852] Среднее значение по 10-ти фолдам: 0.9186\n",
      "k =  75000\n",
      "[0.7637 0.9299 0.9783 0.7866 0.9742 0.9717 0.8267 0.979  0.9906 0.9852] Среднее значение по 10-ти фолдам: 0.9186\n",
      "k =  80000\n",
      "[0.7636 0.9301 0.9783 0.7865 0.9742 0.9717 0.8267 0.9789 0.9906 0.9852] Среднее значение по 10-ти фолдам: 0.9186\n",
      "k =  85000\n",
      "[0.7633 0.9304 0.9784 0.7865 0.9742 0.9717 0.8267 0.9789 0.9906 0.9852] Среднее значение по 10-ти фолдам: 0.9186\n",
      "k =  90000\n",
      "[0.7633 0.9304 0.9784 0.7868 0.9742 0.9717 0.8266 0.9789 0.9907 0.9852] Среднее значение по 10-ти фолдам: 0.9186\n",
      "k =  95000\n",
      "[0.7634 0.9304 0.9784 0.7868 0.9742 0.9717 0.8268 0.9789 0.9906 0.9852] Среднее значение по 10-ти фолдам: 0.9186\n",
      "----------------------------------\n",
      "9\n",
      "----------------------------------\n",
      "k =  10000\n",
      "[0.7652 0.9302 0.9789 0.7871 0.975  0.9636 0.7992 0.9787 0.9903 0.9845] Среднее значение по 10-ти фолдам: 0.9153\n",
      "k =  15000\n",
      "[0.7664 0.931  0.9795 0.7866 0.975  0.969  0.7988 0.9787 0.9903 0.9847] Среднее значение по 10-ти фолдам: 0.916\n"
     ]
    },
    {
     "name": "stdout",
     "output_type": "stream",
     "text": [
      "k =  20000\n",
      "[0.7668 0.9314 0.9796 0.7852 0.9748 0.969  0.7974 0.9787 0.9901 0.9847] Среднее значение по 10-ти фолдам: 0.9158\n",
      "k =  25000\n",
      "[0.7661 0.9289 0.978  0.7864 0.9746 0.97   0.7982 0.9788 0.9901 0.9848] Среднее значение по 10-ти фолдам: 0.9156\n",
      "k =  30000\n",
      "[0.7639 0.9295 0.9785 0.7876 0.9745 0.9711 0.827  0.9789 0.9906 0.9852] Среднее значение по 10-ти фолдам: 0.9187\n",
      "k =  35000\n",
      "[0.7638 0.9297 0.9784 0.7875 0.9745 0.9711 0.8264 0.9789 0.9907 0.9852] Среднее значение по 10-ти фолдам: 0.9186\n",
      "k =  40000\n",
      "[0.7639 0.93   0.9785 0.7876 0.9746 0.9712 0.8262 0.9789 0.9907 0.9851] Среднее значение по 10-ти фолдам: 0.9187\n",
      "k =  45000\n",
      "[0.7642 0.9302 0.9784 0.7876 0.9746 0.9713 0.8258 0.9789 0.9907 0.9851] Среднее значение по 10-ти фолдам: 0.9187\n",
      "k =  50000\n",
      "[0.7634 0.9307 0.9785 0.787  0.9745 0.9713 0.8262 0.9789 0.9906 0.9852] Среднее значение по 10-ти фолдам: 0.9186\n",
      "k =  55000\n",
      "[0.7635 0.9308 0.9784 0.787  0.9743 0.9715 0.8265 0.9788 0.9906 0.9851] Среднее значение по 10-ти фолдам: 0.9187\n",
      "k =  60000\n",
      "[0.7637 0.9302 0.9784 0.787  0.9742 0.9715 0.8269 0.9789 0.9906 0.9852] Среднее значение по 10-ти фолдам: 0.9187\n",
      "k =  65000\n",
      "[0.7638 0.93   0.9782 0.7867 0.9742 0.9715 0.8269 0.9789 0.9906 0.9852] Среднее значение по 10-ти фолдам: 0.9186\n",
      "k =  70000\n",
      "[0.7639 0.93   0.9783 0.7865 0.9742 0.9715 0.8267 0.9789 0.9906 0.9852] Среднее значение по 10-ти фолдам: 0.9186\n",
      "k =  75000\n",
      "[0.7638 0.93   0.9783 0.7865 0.9741 0.9716 0.8268 0.979  0.9906 0.9852] Среднее значение по 10-ти фолдам: 0.9186\n",
      "k =  80000\n",
      "[0.7636 0.93   0.9783 0.7866 0.9742 0.9717 0.8268 0.979  0.9906 0.9852] Среднее значение по 10-ти фолдам: 0.9186\n",
      "k =  85000\n",
      "[0.7637 0.9302 0.9783 0.7867 0.9742 0.9717 0.8267 0.9789 0.9907 0.9852] Среднее значение по 10-ти фолдам: 0.9186\n",
      "k =  90000\n",
      "[0.7633 0.9306 0.9784 0.7868 0.9741 0.9717 0.8268 0.9789 0.9907 0.9852] Среднее значение по 10-ти фолдам: 0.9186\n",
      "k =  95000\n",
      "[0.7633 0.9306 0.9784 0.7869 0.9741 0.9717 0.8269 0.9789 0.9907 0.9852] Среднее значение по 10-ти фолдам: 0.9187\n",
      "----------------------------------\n",
      "10\n",
      "----------------------------------\n"
     ]
    }
   ],
   "source": [
    "%%time\n",
    "for i in range(2,11): # уровень фич\n",
    "    print(\"----------------------------------\")\n",
    "    print(i)\n",
    "    print(\"----------------------------------\")\n",
    "    for k in range(10000,100000,5000): # количество фич \n",
    "        # исходные данные\n",
    "        cv = CountVectorizer(ngram_range=(1, i), max_features=k)\n",
    "        with open('train_sessions_text.txt') as inp_train_file:\n",
    "            X_train = cv.fit_transform(inp_train_file)\n",
    "        with open('test_sessions_text.txt') as inp_test_file:\n",
    "            X_test = cv.transform(inp_test_file)\n",
    "\n",
    "        X_train_week6 = add_week_6(X_train, train_df)\n",
    "        X_train_week6_hour9to19_Alice = add_hour_from9to19(X_train_week6, train_df)\n",
    "        X_train_week6_hour9to19_endSes_Alice= add_end_session(X_train_week6_hour9to19_Alice, train_df)\n",
    "\n",
    "        lr = LogisticRegression(C=0.1, random_state=17, solver='lbfgs', max_iter=1000).fit(X_train_week6_hour9to19_endSes_Alice, y_train)\n",
    "        cv_scores = cv_get_auc_lr_valid(X_train_week6_hour9to19_endSes_Alice, y_train, lr)\n",
    "\n",
    "        print(\"k = \", str(k))\n",
    "        print(np.round(cv_scores,4), f'Среднее значение по 10-ти фолдам: {round(cv_scores.mean(),4)}')"
   ]
  },
  {
   "cell_type": "code",
   "execution_count": null,
   "metadata": {},
   "outputs": [],
   "source": []
  },
  {
   "cell_type": "markdown",
   "metadata": {},
   "source": [
    "Ниже проведён коротки тест на подбор оптимальных параметров для межсекционной Алисы, как можем видеть, разницы существенной не наблюдается, и выбор вполне оптимальный диапазон в 0,6/0,6"
   ]
  },
  {
   "cell_type": "code",
   "execution_count": 32,
   "metadata": {},
   "outputs": [
    {
     "name": "stdout",
     "output_type": "stream",
     "text": [
      "--------------------------------------------------------------------------\n",
      "period_minutes = 30\n",
      "--------------------------------------------------------------------------\n",
      "fraction_1 = 0.4| fraction_2 = 0.4| period_minutes = 30\n",
      "[0.8087 0.9472 0.9724 0.7736 0.9743 0.9538 0.8607 0.9861 0.9903 0.9863] Среднее значение по 10-ти фолдам: 0.9253\n",
      "fraction_1 = 0.4| fraction_2 = 0.5| period_minutes = 30\n",
      "[0.7967 0.9401 0.9695 0.7758 0.9767 0.9582 0.8514 0.9846 0.9909 0.9867] Среднее значение по 10-ти фолдам: 0.9231\n",
      "fraction_1 = 0.4| fraction_2 = 0.6| period_minutes = 30\n",
      "[0.7861 0.9341 0.9731 0.7703 0.9787 0.9629 0.8406 0.9836 0.9913 0.987 ] Среднее значение по 10-ти фолдам: 0.9208\n",
      "fraction_1 = 0.5| fraction_2 = 0.4| period_minutes = 30\n",
      "[0.8836 0.9726 0.9945 0.9501 0.9714 0.9927 0.8165 0.99   0.9975 0.991 ] Среднее значение по 10-ти фолдам: 0.956\n",
      "fraction_1 = 0.5| fraction_2 = 0.5| period_minutes = 30\n",
      "[0.8836 0.9726 0.9945 0.9501 0.9714 0.9927 0.8165 0.99   0.9975 0.991 ] Среднее значение по 10-ти фолдам: 0.956\n",
      "fraction_1 = 0.5| fraction_2 = 0.6| period_minutes = 30\n",
      "[0.8836 0.9726 0.9945 0.9501 0.9714 0.9927 0.8165 0.99   0.9975 0.991 ] Среднее значение по 10-ти фолдам: 0.956\n",
      "fraction_1 = 0.6| fraction_2 = 0.4| period_minutes = 30\n",
      "[0.8655 0.9765 0.9869 0.9289 0.9898 0.9723 0.8402 0.9905 0.986  0.9922] Среднее значение по 10-ти фолдам: 0.9529\n",
      "fraction_1 = 0.6| fraction_2 = 0.5| period_minutes = 30\n",
      "[0.8655 0.9765 0.9869 0.9289 0.9898 0.9723 0.8402 0.9905 0.986  0.9922] Среднее значение по 10-ти фолдам: 0.9529\n",
      "fraction_1 = 0.6| fraction_2 = 0.6| period_minutes = 30\n",
      "[0.8655 0.9765 0.9869 0.9289 0.9898 0.9723 0.8402 0.9905 0.986  0.9922] Среднее значение по 10-ти фолдам: 0.9529\n",
      "CPU times: total: 4h 19min 53s\n",
      "Wall time: 4h 23min 24s\n"
     ]
    }
   ],
   "source": [
    "%%time\n",
    "\n",
    "Alice_nearby = np.zeros(shape=(3,3,3,len(train_df)))\n",
    "\n",
    "for period_minutes in [30]:\n",
    "    delta = timedelta(minutes=period_minutes)\n",
    "    print(\"--------------------------------------------------------------------------\")\n",
    "    print(\"period_minutes = \" + str(period_minutes))\n",
    "    print(\"--------------------------------------------------------------------------\")\n",
    "    i = 0\n",
    "    for ind in train_df.index:\n",
    "        session = train_df.loc[ind]\n",
    "        temp_1 = train_df[(train_df.session_strt > (session.session_strt - delta))\n",
    "                        & (train_df.session_strt < session.session_strt)] # НЕ учитывается данная выборка\n",
    "        temp_2 = train_df[(train_df.session_strt > session.session_end)   # НЕ учитывается данная выборка\n",
    "                        & (train_df.session_strt < (session.session_end + delta))]\n",
    "        \n",
    "        f1_i=0 # личная вероятность (внутреняя)\n",
    "        for fraction_1 in [0.4, 0.5, 0.6]:\n",
    "            f2_i=0  # внешняя вероятность\n",
    "            f1_found = 0\n",
    "            if session.y_pred > fraction_1:\n",
    "                f1_found = 1\n",
    "                \n",
    "            for fraction_2 in [0.4, 0.5, 0.6]:\n",
    "                Alice_nearby[0][f1_i][f2_i][i] = f1_found\n",
    "                \n",
    "                len_temp_1_good = len(temp_1[temp_1.y_pred > fraction_2])\n",
    "                if len_temp_1_good>0:\n",
    "                    Alice_nearby[1][f1_i][f2_i][i] = 1\n",
    "                len_temp_2_good = len(temp_2[temp_2.y_pred > fraction_2])\n",
    "                if len_temp_2_good>0:\n",
    "                    Alice_nearby[2][f1_i][f2_i][i] = 1\n",
    "                f2_i+=1\n",
    "            f1_i+=1   \n",
    "        i+=1\n",
    "    \n",
    "    f1_i=0\n",
    "    for fraction_1 in [0.4, 0.5, 0.6]:\n",
    "        f2_i=0\n",
    "        for fraction_2 in [0.4, 0.5, 0.6]:\n",
    "            print(\"fraction_1 = \" + str(fraction_1) + \"| fraction_2 = \" + str(fraction_2) +\"| period_minutes = \" + str(period_minutes))\n",
    "            # выделяем нужный массив данных\n",
    "            train_nearby = Alice_nearby[:][:][f1_i]\n",
    "            train_nearby = train_nearby[:][f2_i]\n",
    "            \n",
    "            # сохраняем парамеры для дальнейшего использования, чтобы не перезапускать расчёты\n",
    "            name = \"Alice_nearby_BIA\"+\"_f1\"+str(fraction_1)+\"_f2\"+str(fraction_2)+\"_p\"+str(period_minutes)+\".txt\"\n",
    "            np.savetxt(name, train_nearby.T, fmt='%i', delimiter=\" \")\n",
    "            # добавляем полученное поле в выборку\n",
    "            C_nearby = csr_matrix(train_nearby.T, dtype=np.int64)\n",
    "            X_train_temp = hstack((X_train_week6_hour9to19_endSes_Alice, C_nearby))\n",
    "            \n",
    "            # запускаем модель, для получения данных\n",
    "            lr = LogisticRegression(C=0.1, random_state=17, solver='lbfgs', max_iter=1000).fit(X_train_temp, y_train)\n",
    "            cv_scores = cv_get_auc_lr_valid(X_train_temp, y_train, lr)\n",
    "            print(np.round(cv_scores,4), f'Среднее значение по 10-ти фолдам: {round(cv_scores.mean(),4)}')\n",
    "            \n",
    "            f2_i+=1\n",
    "        f1_i+=1"
   ]
  },
  {
   "cell_type": "code",
   "execution_count": 35,
   "metadata": {},
   "outputs": [
    {
     "data": {
      "text/plain": [
       "<253561x50022 sparse matrix of type '<class 'numpy.int64'>'\n",
       "\twith 4658469 stored elements in Compressed Sparse Row format>"
      ]
     },
     "execution_count": 35,
     "metadata": {},
     "output_type": "execute_result"
    }
   ],
   "source": [
    "train_nearby = Alice_nearby[:][:][2]\n",
    "train_nearby = train_nearby[:][2]\n",
    "            \n",
    "# добавляем полученное поле в выборку\n",
    "C_nearby = csr_matrix(train_nearby.T, dtype=np.int64)\n",
    "X_train_nearby_BIA_06_30 = hstack((X_train_week6_hour9to19_endSes_Alice, C_nearby))\n",
    "X_train_nearby_BIA_06_30"
   ]
  }
 ],
 "metadata": {
  "kernelspec": {
   "display_name": "Python 3 (ipykernel)",
   "language": "python",
   "name": "python3"
  },
  "language_info": {
   "codemirror_mode": {
    "name": "ipython",
    "version": 3
   },
   "file_extension": ".py",
   "mimetype": "text/x-python",
   "name": "python",
   "nbconvert_exporter": "python",
   "pygments_lexer": "ipython3",
   "version": "3.9.12"
  }
 },
 "nbformat": 4,
 "nbformat_minor": 4
}
